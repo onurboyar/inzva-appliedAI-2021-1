{
  "nbformat": 4,
  "nbformat_minor": 0,
  "metadata": {
    "colab": {
      "name": "inzva_week2_anomaly_detection.ipynb",
      "provenance": [],
      "collapsed_sections": []
    },
    "kernelspec": {
      "display_name": "Python 3",
      "language": "python",
      "name": "python3"
    },
    "language_info": {
      "codemirror_mode": {
        "name": "ipython",
        "version": 3
      },
      "file_extension": ".py",
      "mimetype": "text/x-python",
      "name": "python",
      "nbconvert_exporter": "python",
      "pygments_lexer": "ipython3",
      "version": "3.8.5"
    }
  },
  "cells": [
    {
      "cell_type": "markdown",
      "metadata": {
        "id": "x275tSx2asW0"
      },
      "source": [
        "# Anomaly Detection - KDD'99 Dataset"
      ]
    },
    {
      "cell_type": "markdown",
      "metadata": {
        "id": "k2oEv8NNPcNS"
      },
      "source": [
        "In week 2 of the inzva Applied AI program we will spend most of our time on Anomaly Detection techniques. \n",
        "\n",
        "**This notebook includes**\n",
        "\n",
        "*1- Isolation Forest*\n",
        "\n",
        "*2- Local Outlier Factor*\n",
        "\n",
        "*3- Autoencoder*\n",
        "\n",
        "*4 - XGBoost*\n",
        "\n",
        "*5 - CatBoost and Hyperparameter Optimization*\n",
        "\n",
        "*6 - TabNet*\n",
        "\n",
        "We first start with obtaining the data and creating training and test sets. In this notebook, we create our models only for Probing attack detection.\n",
        "\n",
        "In this notebook we only work with numerical features. We will drop categorical features in our dataset. You will use the full dataset in your homework in order to compare XGBoost and CatBoost algorithms.\n",
        "\n",
        "\n",
        "\n"
      ]
    },
    {
      "cell_type": "markdown",
      "metadata": {
        "id": "sDK-7yCKbWL8"
      },
      "source": [
        "## 1. Data"
      ]
    },
    {
      "cell_type": "code",
      "metadata": {
        "colab": {
          "base_uri": "https://localhost:8080/"
        },
        "id": "lOPme80Z1TKg",
        "outputId": "70f06f86-3ac1-426c-f2f2-04f1c1ec7f9d"
      },
      "source": [
        "from google.colab import drive\n",
        "drive.mount('/content/gdrive')"
      ],
      "execution_count": 1,
      "outputs": [
        {
          "output_type": "stream",
          "text": [
            "Mounted at /content/gdrive\n"
          ],
          "name": "stdout"
        }
      ]
    },
    {
      "cell_type": "code",
      "metadata": {
        "id": "ZCSpFnNe1UlI"
      },
      "source": [
        "import pandas as pd\n",
        "kdd = pd.read_csv('/content/gdrive/My Drive/kddcup.data/kdd.csv')"
      ],
      "execution_count": 2,
      "outputs": []
    },
    {
      "cell_type": "code",
      "metadata": {
        "id": "EI2zzt-K_2mL"
      },
      "source": [
        "kdd = kdd.iloc[:,1:43]"
      ],
      "execution_count": 3,
      "outputs": []
    },
    {
      "cell_type": "code",
      "metadata": {
        "id": "m-tUOxq4_4xU"
      },
      "source": [
        "kdd = kdd.drop(['Protocol Type', 'Service', 'Flag'], axis = 1)\n"
      ],
      "execution_count": 4,
      "outputs": []
    },
    {
      "cell_type": "code",
      "metadata": {
        "colab": {
          "base_uri": "https://localhost:8080/"
        },
        "id": "uxURDlpWQcTn",
        "outputId": "86e9f89b-32d0-4e5b-c823-2964301b19db"
      },
      "source": [
        "kdd.shape"
      ],
      "execution_count": 5,
      "outputs": [
        {
          "output_type": "execute_result",
          "data": {
            "text/plain": [
              "(183737, 39)"
            ]
          },
          "metadata": {
            "tags": []
          },
          "execution_count": 5
        }
      ]
    },
    {
      "cell_type": "code",
      "metadata": {
        "id": "qZTBqq6xxzdS"
      },
      "source": [
        "kdd_train = kdd.iloc[0:102563, :]"
      ],
      "execution_count": 6,
      "outputs": []
    },
    {
      "cell_type": "code",
      "metadata": {
        "id": "JQ2KBBexxzdU"
      },
      "source": [
        "kdd_test = kdd.iloc[102563:183737, :]"
      ],
      "execution_count": 7,
      "outputs": []
    },
    {
      "cell_type": "code",
      "metadata": {
        "id": "gemL8-7axzdW"
      },
      "source": [
        "kdd_train_probe = kdd_train[(kdd_train.Type_Groups == 'Normal') | (kdd_train.Type_Groups == 'Probe')]\n",
        "kdd_test_probe = kdd_test[(kdd_test.Type_Groups == 'Normal') | (kdd_test.Type_Groups == 'Probe')]"
      ],
      "execution_count": 8,
      "outputs": []
    },
    {
      "cell_type": "code",
      "metadata": {
        "id": "9sRyGK7gV5Oy"
      },
      "source": [
        "import numpy as np\n",
        "import pandas as pd\n",
        "import matplotlib.pyplot as plt\n",
        "import itertools\n",
        "from sklearn.ensemble import IsolationForest\n",
        "from sklearn.neighbors import LocalOutlierFactor\n",
        "from sklearn import svm\n",
        "from sklearn.neighbors import NearestNeighbors\n",
        "import seaborn as sns\n",
        "\n",
        "\n",
        "from sklearn.metrics import classification_report\n",
        "from sklearn.metrics import confusion_matrix\n",
        "from sklearn.metrics import recall_score\n",
        "from sklearn.metrics import roc_auc_score\n",
        "from sklearn.model_selection import GridSearchCV\n",
        "from sklearn.metrics import make_scorer\n",
        "from sklearn.metrics import accuracy_score\n",
        "\n",
        "from sklearn.model_selection import train_test_split"
      ],
      "execution_count": 9,
      "outputs": []
    },
    {
      "cell_type": "markdown",
      "metadata": {
        "id": "h0VhI_Yohn5v"
      },
      "source": [
        "## 1.1 Isolation Forest"
      ]
    },
    {
      "cell_type": "markdown",
      "metadata": {
        "id": "nWsHXjLbPcNa"
      },
      "source": [
        "How many lines should I draw to separate a point from the others? If the point is not in a dense region, it won't take that much lines even if we draw these lines randomly. This is the logic behind the Isolation Forest algorithm. It uses number of lines necessary to separate a point from others to calculate its anomaly score. The most basic (and actually incorrect) way to think of this anomaly score is\n",
        "\n",
        "$$ \n",
        "AnomalyScore = e^{#Lines} \n",
        "$$"
      ]
    },
    {
      "cell_type": "markdown",
      "metadata": {
        "id": "VGnCZb2kghyf"
      },
      "source": [
        "Normals are encoded as 1, anomalies are encoded as -1. Use this version if you want to apply Isolation Forest or Local Outlier Factor."
      ]
    },
    {
      "cell_type": "markdown",
      "metadata": {
        "id": "-diWExxfcH8j"
      },
      "source": [
        "- n_estimators, default=100: The number of base estimators in the ensemble.\n",
        "- max_samples “auto”, int or float, default=”auto”: The number of samples to draw from X to train each base estimator\n",
        "- contamination ‘auto’ or float, default=’auto’: The amount of contamination of the data set, i.e. the proportion of outliers in the data set. Used when fitting to define the threshold on the scores of the samples.\n",
        "- max_features int or float, default=1.0: The number of features to draw from X to train each base estimator.\n"
      ]
    },
    {
      "cell_type": "code",
      "metadata": {
        "colab": {
          "base_uri": "https://localhost:8080/"
        },
        "id": "QcZqbLtJ3RgW",
        "outputId": "036cdb1e-d308-4fa3-9e69-8f2a227aa417"
      },
      "source": [
        "kdd_train_probe['Type_Groups'] = np.where(kdd_train_probe['Type_Groups'] == 'Normal', 1, -1)\n",
        "kdd_test_probe['Type_Groups'] = np.where(kdd_test_probe['Type_Groups'] == 'Normal', 1, -1)"
      ],
      "execution_count": 13,
      "outputs": [
        {
          "output_type": "stream",
          "text": [
            "/usr/local/lib/python3.6/dist-packages/ipykernel_launcher.py:1: SettingWithCopyWarning: \n",
            "A value is trying to be set on a copy of a slice from a DataFrame.\n",
            "Try using .loc[row_indexer,col_indexer] = value instead\n",
            "\n",
            "See the caveats in the documentation: https://pandas.pydata.org/pandas-docs/stable/user_guide/indexing.html#returning-a-view-versus-a-copy\n",
            "  \"\"\"Entry point for launching an IPython kernel.\n",
            "/usr/local/lib/python3.6/dist-packages/ipykernel_launcher.py:2: SettingWithCopyWarning: \n",
            "A value is trying to be set on a copy of a slice from a DataFrame.\n",
            "Try using .loc[row_indexer,col_indexer] = value instead\n",
            "\n",
            "See the caveats in the documentation: https://pandas.pydata.org/pandas-docs/stable/user_guide/indexing.html#returning-a-view-versus-a-copy\n",
            "  \n"
          ],
          "name": "stderr"
        }
      ]
    },
    {
      "cell_type": "code",
      "metadata": {
        "id": "hPRl1mULdBK8"
      },
      "source": [
        "x_train = kdd_train_probe.drop(['Type_Groups'], axis = 1)\n",
        "y_train = kdd_train_probe['Type_Groups']"
      ],
      "execution_count": 14,
      "outputs": []
    },
    {
      "cell_type": "code",
      "metadata": {
        "id": "xTk1whWyiSr9"
      },
      "source": [
        "x_test = kdd_test_probe.drop(['Type_Groups'], axis = 1)\n",
        "y_test = kdd_test_probe['Type_Groups']"
      ],
      "execution_count": 15,
      "outputs": []
    },
    {
      "cell_type": "code",
      "metadata": {
        "id": "tkh6vw8tdh8A"
      },
      "source": [
        "clfIF = IsolationForest(max_samples=0.25, random_state=11, contamination=0.15, n_estimators=100, n_jobs=-1)"
      ],
      "execution_count": 16,
      "outputs": []
    },
    {
      "cell_type": "code",
      "metadata": {
        "colab": {
          "base_uri": "https://localhost:8080/"
        },
        "id": "kHrohm2_dmap",
        "outputId": "acb3c5b2-46c1-4305-fc10-788a887149b1"
      },
      "source": [
        "clfIF.fit(x_train, y_train)"
      ],
      "execution_count": 17,
      "outputs": [
        {
          "output_type": "execute_result",
          "data": {
            "text/plain": [
              "IsolationForest(behaviour='deprecated', bootstrap=False, contamination=0.15,\n",
              "                max_features=1.0, max_samples=0.25, n_estimators=100, n_jobs=-1,\n",
              "                random_state=11, verbose=0, warm_start=False)"
            ]
          },
          "metadata": {
            "tags": []
          },
          "execution_count": 17
        }
      ]
    },
    {
      "cell_type": "code",
      "metadata": {
        "id": "euBiTJ5LeGl8"
      },
      "source": [
        "y_pred_train = clfIF.predict(x_train)"
      ],
      "execution_count": 18,
      "outputs": []
    },
    {
      "cell_type": "code",
      "metadata": {
        "colab": {
          "base_uri": "https://localhost:8080/"
        },
        "id": "goT-4ZQBfL1H",
        "outputId": "33afdd7c-0633-456e-8771-35f83c6c6e90"
      },
      "source": [
        "np.unique(y_pred_train)"
      ],
      "execution_count": 19,
      "outputs": [
        {
          "output_type": "execute_result",
          "data": {
            "text/plain": [
              "array([-1,  1])"
            ]
          },
          "metadata": {
            "tags": []
          },
          "execution_count": 19
        }
      ]
    },
    {
      "cell_type": "code",
      "metadata": {
        "colab": {
          "base_uri": "https://localhost:8080/"
        },
        "id": "TxmfACrjeNl8",
        "outputId": "f1fd6e32-59c1-4552-e7c5-952194c96ca5"
      },
      "source": [
        "conf_matrix = confusion_matrix(y_train, y_pred_train)\n",
        "conf_matrix"
      ],
      "execution_count": 20,
      "outputs": [
        {
          "output_type": "execute_result",
          "data": {
            "text/plain": [
              "array([[ 3996,   111],\n",
              "       [11212, 86066]])"
            ]
          },
          "metadata": {
            "tags": []
          },
          "execution_count": 20
        }
      ]
    },
    {
      "cell_type": "code",
      "metadata": {
        "id": "TJJDsmz7iNAR"
      },
      "source": [
        "y_pred_test_if = clfIF.predict(x_test)\n",
        "conf_matrix_if_test = confusion_matrix(y_test, y_pred_test_if)"
      ],
      "execution_count": 22,
      "outputs": []
    },
    {
      "cell_type": "code",
      "metadata": {
        "colab": {
          "base_uri": "https://localhost:8080/"
        },
        "id": "8BM4PcCElPf6",
        "outputId": "e7cb4cab-b637-45e5-bd69-b5499cfc0f10"
      },
      "source": [
        "conf_matrix_if_test"
      ],
      "execution_count": 23,
      "outputs": [
        {
          "output_type": "execute_result",
          "data": {
            "text/plain": [
              "array([[ 4163,     3],\n",
              "       [ 8200, 52393]])"
            ]
          },
          "metadata": {
            "tags": []
          },
          "execution_count": 23
        }
      ]
    },
    {
      "cell_type": "code",
      "metadata": {
        "colab": {
          "base_uri": "https://localhost:8080/"
        },
        "id": "5gNlUF0DmtoO",
        "outputId": "e7bd78a8-c236-46dc-8a22-c21fd01269b9"
      },
      "source": [
        "print(classification_report(y_test, y_pred_test_if))"
      ],
      "execution_count": 24,
      "outputs": [
        {
          "output_type": "stream",
          "text": [
            "              precision    recall  f1-score   support\n",
            "\n",
            "          -1       0.34      1.00      0.50      4166\n",
            "           1       1.00      0.86      0.93     60593\n",
            "\n",
            "    accuracy                           0.87     64759\n",
            "   macro avg       0.67      0.93      0.72     64759\n",
            "weighted avg       0.96      0.87      0.90     64759\n",
            "\n"
          ],
          "name": "stdout"
        }
      ]
    },
    {
      "cell_type": "markdown",
      "metadata": {
        "id": "oDNzbAGJhd4I"
      },
      "source": [
        "## 1.3 Local Outlier Factor"
      ]
    },
    {
      "cell_type": "code",
      "metadata": {
        "colab": {
          "base_uri": "https://localhost:8080/",
          "height": 324
        },
        "id": "KxpmhajEhGyL",
        "outputId": "90f5cca1-cf81-469e-e7e0-bbb2db562b9c"
      },
      "source": [
        "clfLOF = LocalOutlierFactor(n_neighbors=2, metric='euclidean', algorithm='auto', contamination=0.15, n_jobs=-1)\n",
        "clfLOF.fit(x_train, y_train)"
      ],
      "execution_count": 26,
      "outputs": [
        {
          "output_type": "error",
          "ename": "KeyboardInterrupt",
          "evalue": "ignored",
          "traceback": [
            "\u001b[0;31m---------------------------------------------------------------------------\u001b[0m",
            "\u001b[0;31mKeyboardInterrupt\u001b[0m                         Traceback (most recent call last)",
            "\u001b[0;32m<ipython-input-26-663504988389>\u001b[0m in \u001b[0;36m<module>\u001b[0;34m()\u001b[0m\n\u001b[1;32m      1\u001b[0m \u001b[0mclfLOF\u001b[0m \u001b[0;34m=\u001b[0m \u001b[0mLocalOutlierFactor\u001b[0m\u001b[0;34m(\u001b[0m\u001b[0mn_neighbors\u001b[0m\u001b[0;34m=\u001b[0m\u001b[0;36m2\u001b[0m\u001b[0;34m,\u001b[0m \u001b[0mmetric\u001b[0m\u001b[0;34m=\u001b[0m\u001b[0;34m'euclidean'\u001b[0m\u001b[0;34m,\u001b[0m \u001b[0malgorithm\u001b[0m\u001b[0;34m=\u001b[0m\u001b[0;34m'auto'\u001b[0m\u001b[0;34m,\u001b[0m \u001b[0mcontamination\u001b[0m\u001b[0;34m=\u001b[0m\u001b[0;36m0.15\u001b[0m\u001b[0;34m,\u001b[0m \u001b[0mn_jobs\u001b[0m\u001b[0;34m=\u001b[0m\u001b[0;34m-\u001b[0m\u001b[0;36m1\u001b[0m\u001b[0;34m)\u001b[0m\u001b[0;34m\u001b[0m\u001b[0;34m\u001b[0m\u001b[0m\n\u001b[0;32m----> 2\u001b[0;31m \u001b[0mclfLOF\u001b[0m\u001b[0;34m.\u001b[0m\u001b[0mfit\u001b[0m\u001b[0;34m(\u001b[0m\u001b[0mx_train\u001b[0m\u001b[0;34m,\u001b[0m \u001b[0my_train\u001b[0m\u001b[0;34m)\u001b[0m\u001b[0;34m\u001b[0m\u001b[0;34m\u001b[0m\u001b[0m\n\u001b[0m",
            "\u001b[0;32m/usr/local/lib/python3.6/dist-packages/sklearn/neighbors/_lof.py\u001b[0m in \u001b[0;36mfit\u001b[0;34m(self, X, y)\u001b[0m\n\u001b[1;32m    261\u001b[0m \u001b[0;34m\u001b[0m\u001b[0m\n\u001b[1;32m    262\u001b[0m         self._distances_fit_X_, _neighbors_indices_fit_X_ = self.kneighbors(\n\u001b[0;32m--> 263\u001b[0;31m             n_neighbors=self.n_neighbors_)\n\u001b[0m\u001b[1;32m    264\u001b[0m \u001b[0;34m\u001b[0m\u001b[0m\n\u001b[1;32m    265\u001b[0m         self._lrd = self._local_reachability_density(\n",
            "\u001b[0;32m/usr/local/lib/python3.6/dist-packages/sklearn/neighbors/_base.py\u001b[0m in \u001b[0;36mkneighbors\u001b[0;34m(self, X, n_neighbors, return_distance)\u001b[0m\n\u001b[1;32m    662\u001b[0m                 delayed_query(\n\u001b[1;32m    663\u001b[0m                     self._tree, X[s], n_neighbors, return_distance)\n\u001b[0;32m--> 664\u001b[0;31m                 \u001b[0;32mfor\u001b[0m \u001b[0ms\u001b[0m \u001b[0;32min\u001b[0m \u001b[0mgen_even_slices\u001b[0m\u001b[0;34m(\u001b[0m\u001b[0mX\u001b[0m\u001b[0;34m.\u001b[0m\u001b[0mshape\u001b[0m\u001b[0;34m[\u001b[0m\u001b[0;36m0\u001b[0m\u001b[0;34m]\u001b[0m\u001b[0;34m,\u001b[0m \u001b[0mn_jobs\u001b[0m\u001b[0;34m)\u001b[0m\u001b[0;34m\u001b[0m\u001b[0;34m\u001b[0m\u001b[0m\n\u001b[0m\u001b[1;32m    665\u001b[0m             )\n\u001b[1;32m    666\u001b[0m         \u001b[0;32melse\u001b[0m\u001b[0;34m:\u001b[0m\u001b[0;34m\u001b[0m\u001b[0;34m\u001b[0m\u001b[0m\n",
            "\u001b[0;32m/usr/local/lib/python3.6/dist-packages/joblib/parallel.py\u001b[0m in \u001b[0;36m__call__\u001b[0;34m(self, iterable)\u001b[0m\n\u001b[1;32m   1052\u001b[0m \u001b[0;34m\u001b[0m\u001b[0m\n\u001b[1;32m   1053\u001b[0m             \u001b[0;32mwith\u001b[0m \u001b[0mself\u001b[0m\u001b[0;34m.\u001b[0m\u001b[0m_backend\u001b[0m\u001b[0;34m.\u001b[0m\u001b[0mretrieval_context\u001b[0m\u001b[0;34m(\u001b[0m\u001b[0;34m)\u001b[0m\u001b[0;34m:\u001b[0m\u001b[0;34m\u001b[0m\u001b[0;34m\u001b[0m\u001b[0m\n\u001b[0;32m-> 1054\u001b[0;31m                 \u001b[0mself\u001b[0m\u001b[0;34m.\u001b[0m\u001b[0mretrieve\u001b[0m\u001b[0;34m(\u001b[0m\u001b[0;34m)\u001b[0m\u001b[0;34m\u001b[0m\u001b[0;34m\u001b[0m\u001b[0m\n\u001b[0m\u001b[1;32m   1055\u001b[0m             \u001b[0;31m# Make sure that we get a last message telling us we are done\u001b[0m\u001b[0;34m\u001b[0m\u001b[0;34m\u001b[0m\u001b[0;34m\u001b[0m\u001b[0m\n\u001b[1;32m   1056\u001b[0m             \u001b[0melapsed_time\u001b[0m \u001b[0;34m=\u001b[0m \u001b[0mtime\u001b[0m\u001b[0;34m.\u001b[0m\u001b[0mtime\u001b[0m\u001b[0;34m(\u001b[0m\u001b[0;34m)\u001b[0m \u001b[0;34m-\u001b[0m \u001b[0mself\u001b[0m\u001b[0;34m.\u001b[0m\u001b[0m_start_time\u001b[0m\u001b[0;34m\u001b[0m\u001b[0;34m\u001b[0m\u001b[0m\n",
            "\u001b[0;32m/usr/local/lib/python3.6/dist-packages/joblib/parallel.py\u001b[0m in \u001b[0;36mretrieve\u001b[0;34m(self)\u001b[0m\n\u001b[1;32m    931\u001b[0m             \u001b[0;32mtry\u001b[0m\u001b[0;34m:\u001b[0m\u001b[0;34m\u001b[0m\u001b[0;34m\u001b[0m\u001b[0m\n\u001b[1;32m    932\u001b[0m                 \u001b[0;32mif\u001b[0m \u001b[0mgetattr\u001b[0m\u001b[0;34m(\u001b[0m\u001b[0mself\u001b[0m\u001b[0;34m.\u001b[0m\u001b[0m_backend\u001b[0m\u001b[0;34m,\u001b[0m \u001b[0;34m'supports_timeout'\u001b[0m\u001b[0;34m,\u001b[0m \u001b[0;32mFalse\u001b[0m\u001b[0;34m)\u001b[0m\u001b[0;34m:\u001b[0m\u001b[0;34m\u001b[0m\u001b[0;34m\u001b[0m\u001b[0m\n\u001b[0;32m--> 933\u001b[0;31m                     \u001b[0mself\u001b[0m\u001b[0;34m.\u001b[0m\u001b[0m_output\u001b[0m\u001b[0;34m.\u001b[0m\u001b[0mextend\u001b[0m\u001b[0;34m(\u001b[0m\u001b[0mjob\u001b[0m\u001b[0;34m.\u001b[0m\u001b[0mget\u001b[0m\u001b[0;34m(\u001b[0m\u001b[0mtimeout\u001b[0m\u001b[0;34m=\u001b[0m\u001b[0mself\u001b[0m\u001b[0;34m.\u001b[0m\u001b[0mtimeout\u001b[0m\u001b[0;34m)\u001b[0m\u001b[0;34m)\u001b[0m\u001b[0;34m\u001b[0m\u001b[0;34m\u001b[0m\u001b[0m\n\u001b[0m\u001b[1;32m    934\u001b[0m                 \u001b[0;32melse\u001b[0m\u001b[0;34m:\u001b[0m\u001b[0;34m\u001b[0m\u001b[0;34m\u001b[0m\u001b[0m\n\u001b[1;32m    935\u001b[0m                     \u001b[0mself\u001b[0m\u001b[0;34m.\u001b[0m\u001b[0m_output\u001b[0m\u001b[0;34m.\u001b[0m\u001b[0mextend\u001b[0m\u001b[0;34m(\u001b[0m\u001b[0mjob\u001b[0m\u001b[0;34m.\u001b[0m\u001b[0mget\u001b[0m\u001b[0;34m(\u001b[0m\u001b[0;34m)\u001b[0m\u001b[0;34m)\u001b[0m\u001b[0;34m\u001b[0m\u001b[0;34m\u001b[0m\u001b[0m\n",
            "\u001b[0;32m/usr/lib/python3.6/multiprocessing/pool.py\u001b[0m in \u001b[0;36mget\u001b[0;34m(self, timeout)\u001b[0m\n\u001b[1;32m    636\u001b[0m \u001b[0;34m\u001b[0m\u001b[0m\n\u001b[1;32m    637\u001b[0m     \u001b[0;32mdef\u001b[0m \u001b[0mget\u001b[0m\u001b[0;34m(\u001b[0m\u001b[0mself\u001b[0m\u001b[0;34m,\u001b[0m \u001b[0mtimeout\u001b[0m\u001b[0;34m=\u001b[0m\u001b[0;32mNone\u001b[0m\u001b[0;34m)\u001b[0m\u001b[0;34m:\u001b[0m\u001b[0;34m\u001b[0m\u001b[0;34m\u001b[0m\u001b[0m\n\u001b[0;32m--> 638\u001b[0;31m         \u001b[0mself\u001b[0m\u001b[0;34m.\u001b[0m\u001b[0mwait\u001b[0m\u001b[0;34m(\u001b[0m\u001b[0mtimeout\u001b[0m\u001b[0;34m)\u001b[0m\u001b[0;34m\u001b[0m\u001b[0;34m\u001b[0m\u001b[0m\n\u001b[0m\u001b[1;32m    639\u001b[0m         \u001b[0;32mif\u001b[0m \u001b[0;32mnot\u001b[0m \u001b[0mself\u001b[0m\u001b[0;34m.\u001b[0m\u001b[0mready\u001b[0m\u001b[0;34m(\u001b[0m\u001b[0;34m)\u001b[0m\u001b[0;34m:\u001b[0m\u001b[0;34m\u001b[0m\u001b[0;34m\u001b[0m\u001b[0m\n\u001b[1;32m    640\u001b[0m             \u001b[0;32mraise\u001b[0m \u001b[0mTimeoutError\u001b[0m\u001b[0;34m\u001b[0m\u001b[0;34m\u001b[0m\u001b[0m\n",
            "\u001b[0;32m/usr/lib/python3.6/multiprocessing/pool.py\u001b[0m in \u001b[0;36mwait\u001b[0;34m(self, timeout)\u001b[0m\n\u001b[1;32m    633\u001b[0m \u001b[0;34m\u001b[0m\u001b[0m\n\u001b[1;32m    634\u001b[0m     \u001b[0;32mdef\u001b[0m \u001b[0mwait\u001b[0m\u001b[0;34m(\u001b[0m\u001b[0mself\u001b[0m\u001b[0;34m,\u001b[0m \u001b[0mtimeout\u001b[0m\u001b[0;34m=\u001b[0m\u001b[0;32mNone\u001b[0m\u001b[0;34m)\u001b[0m\u001b[0;34m:\u001b[0m\u001b[0;34m\u001b[0m\u001b[0;34m\u001b[0m\u001b[0m\n\u001b[0;32m--> 635\u001b[0;31m         \u001b[0mself\u001b[0m\u001b[0;34m.\u001b[0m\u001b[0m_event\u001b[0m\u001b[0;34m.\u001b[0m\u001b[0mwait\u001b[0m\u001b[0;34m(\u001b[0m\u001b[0mtimeout\u001b[0m\u001b[0;34m)\u001b[0m\u001b[0;34m\u001b[0m\u001b[0;34m\u001b[0m\u001b[0m\n\u001b[0m\u001b[1;32m    636\u001b[0m \u001b[0;34m\u001b[0m\u001b[0m\n\u001b[1;32m    637\u001b[0m     \u001b[0;32mdef\u001b[0m \u001b[0mget\u001b[0m\u001b[0;34m(\u001b[0m\u001b[0mself\u001b[0m\u001b[0;34m,\u001b[0m \u001b[0mtimeout\u001b[0m\u001b[0;34m=\u001b[0m\u001b[0;32mNone\u001b[0m\u001b[0;34m)\u001b[0m\u001b[0;34m:\u001b[0m\u001b[0;34m\u001b[0m\u001b[0;34m\u001b[0m\u001b[0m\n",
            "\u001b[0;32m/usr/lib/python3.6/threading.py\u001b[0m in \u001b[0;36mwait\u001b[0;34m(self, timeout)\u001b[0m\n\u001b[1;32m    549\u001b[0m             \u001b[0msignaled\u001b[0m \u001b[0;34m=\u001b[0m \u001b[0mself\u001b[0m\u001b[0;34m.\u001b[0m\u001b[0m_flag\u001b[0m\u001b[0;34m\u001b[0m\u001b[0;34m\u001b[0m\u001b[0m\n\u001b[1;32m    550\u001b[0m             \u001b[0;32mif\u001b[0m \u001b[0;32mnot\u001b[0m \u001b[0msignaled\u001b[0m\u001b[0;34m:\u001b[0m\u001b[0;34m\u001b[0m\u001b[0;34m\u001b[0m\u001b[0m\n\u001b[0;32m--> 551\u001b[0;31m                 \u001b[0msignaled\u001b[0m \u001b[0;34m=\u001b[0m \u001b[0mself\u001b[0m\u001b[0;34m.\u001b[0m\u001b[0m_cond\u001b[0m\u001b[0;34m.\u001b[0m\u001b[0mwait\u001b[0m\u001b[0;34m(\u001b[0m\u001b[0mtimeout\u001b[0m\u001b[0;34m)\u001b[0m\u001b[0;34m\u001b[0m\u001b[0;34m\u001b[0m\u001b[0m\n\u001b[0m\u001b[1;32m    552\u001b[0m             \u001b[0;32mreturn\u001b[0m \u001b[0msignaled\u001b[0m\u001b[0;34m\u001b[0m\u001b[0;34m\u001b[0m\u001b[0m\n\u001b[1;32m    553\u001b[0m \u001b[0;34m\u001b[0m\u001b[0m\n",
            "\u001b[0;32m/usr/lib/python3.6/threading.py\u001b[0m in \u001b[0;36mwait\u001b[0;34m(self, timeout)\u001b[0m\n\u001b[1;32m    293\u001b[0m         \u001b[0;32mtry\u001b[0m\u001b[0;34m:\u001b[0m    \u001b[0;31m# restore state no matter what (e.g., KeyboardInterrupt)\u001b[0m\u001b[0;34m\u001b[0m\u001b[0;34m\u001b[0m\u001b[0m\n\u001b[1;32m    294\u001b[0m             \u001b[0;32mif\u001b[0m \u001b[0mtimeout\u001b[0m \u001b[0;32mis\u001b[0m \u001b[0;32mNone\u001b[0m\u001b[0;34m:\u001b[0m\u001b[0;34m\u001b[0m\u001b[0;34m\u001b[0m\u001b[0m\n\u001b[0;32m--> 295\u001b[0;31m                 \u001b[0mwaiter\u001b[0m\u001b[0;34m.\u001b[0m\u001b[0macquire\u001b[0m\u001b[0;34m(\u001b[0m\u001b[0;34m)\u001b[0m\u001b[0;34m\u001b[0m\u001b[0;34m\u001b[0m\u001b[0m\n\u001b[0m\u001b[1;32m    296\u001b[0m                 \u001b[0mgotit\u001b[0m \u001b[0;34m=\u001b[0m \u001b[0;32mTrue\u001b[0m\u001b[0;34m\u001b[0m\u001b[0;34m\u001b[0m\u001b[0m\n\u001b[1;32m    297\u001b[0m             \u001b[0;32melse\u001b[0m\u001b[0;34m:\u001b[0m\u001b[0;34m\u001b[0m\u001b[0;34m\u001b[0m\u001b[0m\n",
            "\u001b[0;31mKeyboardInterrupt\u001b[0m: "
          ]
        }
      ]
    },
    {
      "cell_type": "code",
      "metadata": {
        "id": "2fO9j-HPh3Fi"
      },
      "source": [
        "y_pred_train_lof = clfLOF.fit_predict(x_train, y_train)"
      ],
      "execution_count": 61,
      "outputs": []
    },
    {
      "cell_type": "code",
      "metadata": {
        "colab": {
          "base_uri": "https://localhost:8080/",
          "height": 51
        },
        "id": "brYaF_LgjX72",
        "outputId": "1fb9f3e8-06d7-4b78-9523-f34b8b5dbb7e"
      },
      "source": [
        "conf_matrix_lof = confusion_matrix(y_train, y_pred_train_lof)\n",
        "conf_matrix_lof"
      ],
      "execution_count": null,
      "outputs": [
        {
          "output_type": "execute_result",
          "data": {
            "text/plain": [
              "array([[  546,  3561],\n",
              "       [14662, 82616]])"
            ]
          },
          "metadata": {
            "tags": []
          },
          "execution_count": 70
        }
      ]
    },
    {
      "cell_type": "code",
      "metadata": {
        "colab": {
          "base_uri": "https://localhost:8080/",
          "height": 51
        },
        "id": "fMymZ_MNlG1O",
        "outputId": "c91baf3f-41ce-43db-94e7-7aa137b4b2eb"
      },
      "source": [
        "y_pred_test_lof = clfLOF.fit_predict(x_test, y_test)\n",
        "conf_matrix_lof_test = confusion_matrix(y_test, y_pred_test_lof)\n",
        "conf_matrix_lof_test"
      ],
      "execution_count": null,
      "outputs": [
        {
          "output_type": "execute_result",
          "data": {
            "text/plain": [
              "array([[ 1082,  3084],\n",
              "       [ 8632, 51961]])"
            ]
          },
          "metadata": {
            "tags": []
          },
          "execution_count": 74
        }
      ]
    },
    {
      "cell_type": "code",
      "metadata": {
        "colab": {
          "base_uri": "https://localhost:8080/",
          "height": 170
        },
        "id": "oQHzcfiRlmP0",
        "outputId": "d1722fd8-3782-4aaf-d336-a23bb4296acf"
      },
      "source": [
        "print(classification_report(y_test, y_pred_test_lof))"
      ],
      "execution_count": null,
      "outputs": [
        {
          "output_type": "stream",
          "text": [
            "              precision    recall  f1-score   support\n",
            "\n",
            "          -1       0.11      0.26      0.16      4166\n",
            "           1       0.94      0.86      0.90     60593\n",
            "\n",
            "    accuracy                           0.82     64759\n",
            "   macro avg       0.53      0.56      0.53     64759\n",
            "weighted avg       0.89      0.82      0.85     64759\n",
            "\n"
          ],
          "name": "stdout"
        }
      ]
    },
    {
      "cell_type": "markdown",
      "metadata": {
        "id": "FrY00ZRxn9lS"
      },
      "source": [
        "## 1.4 Autoencoder"
      ]
    },
    {
      "cell_type": "code",
      "metadata": {
        "id": "QzQ5iH-OpgQP"
      },
      "source": [
        "import pickle\n",
        "from scipy import stats\n",
        "import tensorflow as tf\n",
        "from pylab import rcParams\n",
        "from sklearn.model_selection import train_test_split\n",
        "from keras.models import Model, load_model\n",
        "from keras.layers import Input, Dense\n",
        "from keras.callbacks import ModelCheckpoint, TensorBoard\n",
        "from keras import regularizers"
      ],
      "execution_count": 10,
      "outputs": []
    },
    {
      "cell_type": "markdown",
      "metadata": {
        "id": "6qZu26TppGkF"
      },
      "source": [
        "## 1.4.1 Probing Attack Detection"
      ]
    },
    {
      "cell_type": "code",
      "metadata": {
        "colab": {
          "base_uri": "https://localhost:8080/"
        },
        "id": "8YwMEh2B3cRg",
        "outputId": "567d2c4d-e0e6-4bad-af37-a1a94c3290c7"
      },
      "source": [
        "kdd_train_probe = kdd_train[(kdd_train.Type_Groups == 'Normal') | (kdd_train.Type_Groups == 'Probe')]\n",
        "kdd_test_probe = kdd_test[(kdd_test.Type_Groups == 'Normal') | (kdd_test.Type_Groups == 'Probe')]\n",
        "\n",
        "kdd_train_probe['Type_Groups'] = np.where(kdd_train_probe['Type_Groups'] == 'Normal', 0, 1)\n",
        "kdd_test_probe['Type_Groups'] = np.where(kdd_test_probe['Type_Groups'] == 'Normal', 0, 1)"
      ],
      "execution_count": 11,
      "outputs": [
        {
          "output_type": "stream",
          "text": [
            "/usr/local/lib/python3.6/dist-packages/ipykernel_launcher.py:4: SettingWithCopyWarning: \n",
            "A value is trying to be set on a copy of a slice from a DataFrame.\n",
            "Try using .loc[row_indexer,col_indexer] = value instead\n",
            "\n",
            "See the caveats in the documentation: https://pandas.pydata.org/pandas-docs/stable/user_guide/indexing.html#returning-a-view-versus-a-copy\n",
            "  after removing the cwd from sys.path.\n",
            "/usr/local/lib/python3.6/dist-packages/ipykernel_launcher.py:5: SettingWithCopyWarning: \n",
            "A value is trying to be set on a copy of a slice from a DataFrame.\n",
            "Try using .loc[row_indexer,col_indexer] = value instead\n",
            "\n",
            "See the caveats in the documentation: https://pandas.pydata.org/pandas-docs/stable/user_guide/indexing.html#returning-a-view-versus-a-copy\n",
            "  \"\"\"\n"
          ],
          "name": "stderr"
        }
      ]
    },
    {
      "cell_type": "markdown",
      "metadata": {
        "id": "PEijPpzhXh5t"
      },
      "source": [
        "## We need to create Validation Test"
      ]
    },
    {
      "cell_type": "code",
      "metadata": {
        "colab": {
          "base_uri": "https://localhost:8080/",
          "height": 162
        },
        "id": "RXYZxz5DXmat",
        "outputId": "ccdb4279-f983-455a-8171-254c4d25e4e0"
      },
      "source": [
        "kdd_test_probe.groupby('Type_Groups').count()"
      ],
      "execution_count": 12,
      "outputs": [
        {
          "output_type": "execute_result",
          "data": {
            "text/html": [
              "<div>\n",
              "<style scoped>\n",
              "    .dataframe tbody tr th:only-of-type {\n",
              "        vertical-align: middle;\n",
              "    }\n",
              "\n",
              "    .dataframe tbody tr th {\n",
              "        vertical-align: top;\n",
              "    }\n",
              "\n",
              "    .dataframe thead th {\n",
              "        text-align: right;\n",
              "    }\n",
              "</style>\n",
              "<table border=\"1\" class=\"dataframe\">\n",
              "  <thead>\n",
              "    <tr style=\"text-align: right;\">\n",
              "      <th></th>\n",
              "      <th>Duration</th>\n",
              "      <th>src_bytes</th>\n",
              "      <th>dst_bytes</th>\n",
              "      <th>land</th>\n",
              "      <th>wrong_fragment</th>\n",
              "      <th>urgent</th>\n",
              "      <th>hot</th>\n",
              "      <th>num_failed</th>\n",
              "      <th>logged_in</th>\n",
              "      <th>num_compromised</th>\n",
              "      <th>root_shell</th>\n",
              "      <th>su_attempted</th>\n",
              "      <th>num_root</th>\n",
              "      <th>num_file_creations</th>\n",
              "      <th>num_shells</th>\n",
              "      <th>num_access_files</th>\n",
              "      <th>num_outbound_cmds</th>\n",
              "      <th>is_host_login</th>\n",
              "      <th>is_guest_login</th>\n",
              "      <th>count</th>\n",
              "      <th>srv_count</th>\n",
              "      <th>serror_rate</th>\n",
              "      <th>srv_error_rate</th>\n",
              "      <th>rerror_rate</th>\n",
              "      <th>srv_rerror_rate</th>\n",
              "      <th>same_srv_rate</th>\n",
              "      <th>diff_srv_rate</th>\n",
              "      <th>srv_diff_host_rate</th>\n",
              "      <th>dst_host_count</th>\n",
              "      <th>dst_host_srv_count</th>\n",
              "      <th>dst_host_same_srv_rate</th>\n",
              "      <th>dst_host_diff_srv_rate</th>\n",
              "      <th>dst_host_same_src_port_rate</th>\n",
              "      <th>dst_host_srv_diff_host_rate</th>\n",
              "      <th>dst_host_serror_rate</th>\n",
              "      <th>dst_host_srv_serror_rate</th>\n",
              "      <th>dst_host_rerror_rate</th>\n",
              "      <th>dst_host_srv_rerror_rate</th>\n",
              "    </tr>\n",
              "    <tr>\n",
              "      <th>Type_Groups</th>\n",
              "      <th></th>\n",
              "      <th></th>\n",
              "      <th></th>\n",
              "      <th></th>\n",
              "      <th></th>\n",
              "      <th></th>\n",
              "      <th></th>\n",
              "      <th></th>\n",
              "      <th></th>\n",
              "      <th></th>\n",
              "      <th></th>\n",
              "      <th></th>\n",
              "      <th></th>\n",
              "      <th></th>\n",
              "      <th></th>\n",
              "      <th></th>\n",
              "      <th></th>\n",
              "      <th></th>\n",
              "      <th></th>\n",
              "      <th></th>\n",
              "      <th></th>\n",
              "      <th></th>\n",
              "      <th></th>\n",
              "      <th></th>\n",
              "      <th></th>\n",
              "      <th></th>\n",
              "      <th></th>\n",
              "      <th></th>\n",
              "      <th></th>\n",
              "      <th></th>\n",
              "      <th></th>\n",
              "      <th></th>\n",
              "      <th></th>\n",
              "      <th></th>\n",
              "      <th></th>\n",
              "      <th></th>\n",
              "      <th></th>\n",
              "      <th></th>\n",
              "    </tr>\n",
              "  </thead>\n",
              "  <tbody>\n",
              "    <tr>\n",
              "      <th>0</th>\n",
              "      <td>60593</td>\n",
              "      <td>60593</td>\n",
              "      <td>60593</td>\n",
              "      <td>60593</td>\n",
              "      <td>60593</td>\n",
              "      <td>60593</td>\n",
              "      <td>60593</td>\n",
              "      <td>60593</td>\n",
              "      <td>60593</td>\n",
              "      <td>60593</td>\n",
              "      <td>60593</td>\n",
              "      <td>60593</td>\n",
              "      <td>60593</td>\n",
              "      <td>60593</td>\n",
              "      <td>60593</td>\n",
              "      <td>60593</td>\n",
              "      <td>60593</td>\n",
              "      <td>60593</td>\n",
              "      <td>60593</td>\n",
              "      <td>60593</td>\n",
              "      <td>60593</td>\n",
              "      <td>60593</td>\n",
              "      <td>60593</td>\n",
              "      <td>60593</td>\n",
              "      <td>60593</td>\n",
              "      <td>60593</td>\n",
              "      <td>60593</td>\n",
              "      <td>60593</td>\n",
              "      <td>60593</td>\n",
              "      <td>60593</td>\n",
              "      <td>60593</td>\n",
              "      <td>60593</td>\n",
              "      <td>60593</td>\n",
              "      <td>60593</td>\n",
              "      <td>60593</td>\n",
              "      <td>60593</td>\n",
              "      <td>60593</td>\n",
              "      <td>60593</td>\n",
              "    </tr>\n",
              "    <tr>\n",
              "      <th>1</th>\n",
              "      <td>4166</td>\n",
              "      <td>4166</td>\n",
              "      <td>4166</td>\n",
              "      <td>4166</td>\n",
              "      <td>4166</td>\n",
              "      <td>4166</td>\n",
              "      <td>4166</td>\n",
              "      <td>4166</td>\n",
              "      <td>4166</td>\n",
              "      <td>4166</td>\n",
              "      <td>4166</td>\n",
              "      <td>4166</td>\n",
              "      <td>4166</td>\n",
              "      <td>4166</td>\n",
              "      <td>4166</td>\n",
              "      <td>4166</td>\n",
              "      <td>4166</td>\n",
              "      <td>4166</td>\n",
              "      <td>4166</td>\n",
              "      <td>4166</td>\n",
              "      <td>4166</td>\n",
              "      <td>4166</td>\n",
              "      <td>4166</td>\n",
              "      <td>4166</td>\n",
              "      <td>4166</td>\n",
              "      <td>4166</td>\n",
              "      <td>4166</td>\n",
              "      <td>4166</td>\n",
              "      <td>4166</td>\n",
              "      <td>4166</td>\n",
              "      <td>4166</td>\n",
              "      <td>4166</td>\n",
              "      <td>4166</td>\n",
              "      <td>4166</td>\n",
              "      <td>4166</td>\n",
              "      <td>4166</td>\n",
              "      <td>4166</td>\n",
              "      <td>4166</td>\n",
              "    </tr>\n",
              "  </tbody>\n",
              "</table>\n",
              "</div>"
            ],
            "text/plain": [
              "             Duration  ...  dst_host_srv_rerror_rate\n",
              "Type_Groups            ...                          \n",
              "0               60593  ...                     60593\n",
              "1                4166  ...                      4166\n",
              "\n",
              "[2 rows x 38 columns]"
            ]
          },
          "metadata": {
            "tags": []
          },
          "execution_count": 12
        }
      ]
    },
    {
      "cell_type": "code",
      "metadata": {
        "colab": {
          "base_uri": "https://localhost:8080/",
          "height": 162
        },
        "id": "K_uA_W-XX67U",
        "outputId": "7dadd279-381f-411a-ad5f-2ca666d28612"
      },
      "source": [
        "kdd_test_probe.iloc[14000:34000,:].groupby('Type_Groups').count()"
      ],
      "execution_count": 13,
      "outputs": [
        {
          "output_type": "execute_result",
          "data": {
            "text/html": [
              "<div>\n",
              "<style scoped>\n",
              "    .dataframe tbody tr th:only-of-type {\n",
              "        vertical-align: middle;\n",
              "    }\n",
              "\n",
              "    .dataframe tbody tr th {\n",
              "        vertical-align: top;\n",
              "    }\n",
              "\n",
              "    .dataframe thead th {\n",
              "        text-align: right;\n",
              "    }\n",
              "</style>\n",
              "<table border=\"1\" class=\"dataframe\">\n",
              "  <thead>\n",
              "    <tr style=\"text-align: right;\">\n",
              "      <th></th>\n",
              "      <th>Duration</th>\n",
              "      <th>src_bytes</th>\n",
              "      <th>dst_bytes</th>\n",
              "      <th>land</th>\n",
              "      <th>wrong_fragment</th>\n",
              "      <th>urgent</th>\n",
              "      <th>hot</th>\n",
              "      <th>num_failed</th>\n",
              "      <th>logged_in</th>\n",
              "      <th>num_compromised</th>\n",
              "      <th>root_shell</th>\n",
              "      <th>su_attempted</th>\n",
              "      <th>num_root</th>\n",
              "      <th>num_file_creations</th>\n",
              "      <th>num_shells</th>\n",
              "      <th>num_access_files</th>\n",
              "      <th>num_outbound_cmds</th>\n",
              "      <th>is_host_login</th>\n",
              "      <th>is_guest_login</th>\n",
              "      <th>count</th>\n",
              "      <th>srv_count</th>\n",
              "      <th>serror_rate</th>\n",
              "      <th>srv_error_rate</th>\n",
              "      <th>rerror_rate</th>\n",
              "      <th>srv_rerror_rate</th>\n",
              "      <th>same_srv_rate</th>\n",
              "      <th>diff_srv_rate</th>\n",
              "      <th>srv_diff_host_rate</th>\n",
              "      <th>dst_host_count</th>\n",
              "      <th>dst_host_srv_count</th>\n",
              "      <th>dst_host_same_srv_rate</th>\n",
              "      <th>dst_host_diff_srv_rate</th>\n",
              "      <th>dst_host_same_src_port_rate</th>\n",
              "      <th>dst_host_srv_diff_host_rate</th>\n",
              "      <th>dst_host_serror_rate</th>\n",
              "      <th>dst_host_srv_serror_rate</th>\n",
              "      <th>dst_host_rerror_rate</th>\n",
              "      <th>dst_host_srv_rerror_rate</th>\n",
              "    </tr>\n",
              "    <tr>\n",
              "      <th>Type_Groups</th>\n",
              "      <th></th>\n",
              "      <th></th>\n",
              "      <th></th>\n",
              "      <th></th>\n",
              "      <th></th>\n",
              "      <th></th>\n",
              "      <th></th>\n",
              "      <th></th>\n",
              "      <th></th>\n",
              "      <th></th>\n",
              "      <th></th>\n",
              "      <th></th>\n",
              "      <th></th>\n",
              "      <th></th>\n",
              "      <th></th>\n",
              "      <th></th>\n",
              "      <th></th>\n",
              "      <th></th>\n",
              "      <th></th>\n",
              "      <th></th>\n",
              "      <th></th>\n",
              "      <th></th>\n",
              "      <th></th>\n",
              "      <th></th>\n",
              "      <th></th>\n",
              "      <th></th>\n",
              "      <th></th>\n",
              "      <th></th>\n",
              "      <th></th>\n",
              "      <th></th>\n",
              "      <th></th>\n",
              "      <th></th>\n",
              "      <th></th>\n",
              "      <th></th>\n",
              "      <th></th>\n",
              "      <th></th>\n",
              "      <th></th>\n",
              "      <th></th>\n",
              "    </tr>\n",
              "  </thead>\n",
              "  <tbody>\n",
              "    <tr>\n",
              "      <th>0</th>\n",
              "      <td>18756</td>\n",
              "      <td>18756</td>\n",
              "      <td>18756</td>\n",
              "      <td>18756</td>\n",
              "      <td>18756</td>\n",
              "      <td>18756</td>\n",
              "      <td>18756</td>\n",
              "      <td>18756</td>\n",
              "      <td>18756</td>\n",
              "      <td>18756</td>\n",
              "      <td>18756</td>\n",
              "      <td>18756</td>\n",
              "      <td>18756</td>\n",
              "      <td>18756</td>\n",
              "      <td>18756</td>\n",
              "      <td>18756</td>\n",
              "      <td>18756</td>\n",
              "      <td>18756</td>\n",
              "      <td>18756</td>\n",
              "      <td>18756</td>\n",
              "      <td>18756</td>\n",
              "      <td>18756</td>\n",
              "      <td>18756</td>\n",
              "      <td>18756</td>\n",
              "      <td>18756</td>\n",
              "      <td>18756</td>\n",
              "      <td>18756</td>\n",
              "      <td>18756</td>\n",
              "      <td>18756</td>\n",
              "      <td>18756</td>\n",
              "      <td>18756</td>\n",
              "      <td>18756</td>\n",
              "      <td>18756</td>\n",
              "      <td>18756</td>\n",
              "      <td>18756</td>\n",
              "      <td>18756</td>\n",
              "      <td>18756</td>\n",
              "      <td>18756</td>\n",
              "    </tr>\n",
              "    <tr>\n",
              "      <th>1</th>\n",
              "      <td>1244</td>\n",
              "      <td>1244</td>\n",
              "      <td>1244</td>\n",
              "      <td>1244</td>\n",
              "      <td>1244</td>\n",
              "      <td>1244</td>\n",
              "      <td>1244</td>\n",
              "      <td>1244</td>\n",
              "      <td>1244</td>\n",
              "      <td>1244</td>\n",
              "      <td>1244</td>\n",
              "      <td>1244</td>\n",
              "      <td>1244</td>\n",
              "      <td>1244</td>\n",
              "      <td>1244</td>\n",
              "      <td>1244</td>\n",
              "      <td>1244</td>\n",
              "      <td>1244</td>\n",
              "      <td>1244</td>\n",
              "      <td>1244</td>\n",
              "      <td>1244</td>\n",
              "      <td>1244</td>\n",
              "      <td>1244</td>\n",
              "      <td>1244</td>\n",
              "      <td>1244</td>\n",
              "      <td>1244</td>\n",
              "      <td>1244</td>\n",
              "      <td>1244</td>\n",
              "      <td>1244</td>\n",
              "      <td>1244</td>\n",
              "      <td>1244</td>\n",
              "      <td>1244</td>\n",
              "      <td>1244</td>\n",
              "      <td>1244</td>\n",
              "      <td>1244</td>\n",
              "      <td>1244</td>\n",
              "      <td>1244</td>\n",
              "      <td>1244</td>\n",
              "    </tr>\n",
              "  </tbody>\n",
              "</table>\n",
              "</div>"
            ],
            "text/plain": [
              "             Duration  ...  dst_host_srv_rerror_rate\n",
              "Type_Groups            ...                          \n",
              "0               18756  ...                     18756\n",
              "1                1244  ...                      1244\n",
              "\n",
              "[2 rows x 38 columns]"
            ]
          },
          "metadata": {
            "tags": []
          },
          "execution_count": 13
        }
      ]
    },
    {
      "cell_type": "code",
      "metadata": {
        "id": "0NnV4TglYmJD"
      },
      "source": [
        "kdd_valid_probe = kdd_test_probe.iloc[14000:34000,:]"
      ],
      "execution_count": 14,
      "outputs": []
    },
    {
      "cell_type": "code",
      "metadata": {
        "id": "E_AkIPVsZeBL"
      },
      "source": [
        "kdd_test_v2_probe = pd.concat([kdd_test_probe.iloc[0:14000,:], kdd_test_probe.iloc[34001:64759,:]])"
      ],
      "execution_count": 15,
      "outputs": []
    },
    {
      "cell_type": "code",
      "metadata": {
        "colab": {
          "base_uri": "https://localhost:8080/",
          "height": 162
        },
        "id": "firflwnBY1yR",
        "outputId": "4e4ce367-7a7d-4b8f-b75c-37192b183fa2"
      },
      "source": [
        "kdd_test_v2_probe.groupby('Type_Groups').count()"
      ],
      "execution_count": 16,
      "outputs": [
        {
          "output_type": "execute_result",
          "data": {
            "text/html": [
              "<div>\n",
              "<style scoped>\n",
              "    .dataframe tbody tr th:only-of-type {\n",
              "        vertical-align: middle;\n",
              "    }\n",
              "\n",
              "    .dataframe tbody tr th {\n",
              "        vertical-align: top;\n",
              "    }\n",
              "\n",
              "    .dataframe thead th {\n",
              "        text-align: right;\n",
              "    }\n",
              "</style>\n",
              "<table border=\"1\" class=\"dataframe\">\n",
              "  <thead>\n",
              "    <tr style=\"text-align: right;\">\n",
              "      <th></th>\n",
              "      <th>Duration</th>\n",
              "      <th>src_bytes</th>\n",
              "      <th>dst_bytes</th>\n",
              "      <th>land</th>\n",
              "      <th>wrong_fragment</th>\n",
              "      <th>urgent</th>\n",
              "      <th>hot</th>\n",
              "      <th>num_failed</th>\n",
              "      <th>logged_in</th>\n",
              "      <th>num_compromised</th>\n",
              "      <th>root_shell</th>\n",
              "      <th>su_attempted</th>\n",
              "      <th>num_root</th>\n",
              "      <th>num_file_creations</th>\n",
              "      <th>num_shells</th>\n",
              "      <th>num_access_files</th>\n",
              "      <th>num_outbound_cmds</th>\n",
              "      <th>is_host_login</th>\n",
              "      <th>is_guest_login</th>\n",
              "      <th>count</th>\n",
              "      <th>srv_count</th>\n",
              "      <th>serror_rate</th>\n",
              "      <th>srv_error_rate</th>\n",
              "      <th>rerror_rate</th>\n",
              "      <th>srv_rerror_rate</th>\n",
              "      <th>same_srv_rate</th>\n",
              "      <th>diff_srv_rate</th>\n",
              "      <th>srv_diff_host_rate</th>\n",
              "      <th>dst_host_count</th>\n",
              "      <th>dst_host_srv_count</th>\n",
              "      <th>dst_host_same_srv_rate</th>\n",
              "      <th>dst_host_diff_srv_rate</th>\n",
              "      <th>dst_host_same_src_port_rate</th>\n",
              "      <th>dst_host_srv_diff_host_rate</th>\n",
              "      <th>dst_host_serror_rate</th>\n",
              "      <th>dst_host_srv_serror_rate</th>\n",
              "      <th>dst_host_rerror_rate</th>\n",
              "      <th>dst_host_srv_rerror_rate</th>\n",
              "    </tr>\n",
              "    <tr>\n",
              "      <th>Type_Groups</th>\n",
              "      <th></th>\n",
              "      <th></th>\n",
              "      <th></th>\n",
              "      <th></th>\n",
              "      <th></th>\n",
              "      <th></th>\n",
              "      <th></th>\n",
              "      <th></th>\n",
              "      <th></th>\n",
              "      <th></th>\n",
              "      <th></th>\n",
              "      <th></th>\n",
              "      <th></th>\n",
              "      <th></th>\n",
              "      <th></th>\n",
              "      <th></th>\n",
              "      <th></th>\n",
              "      <th></th>\n",
              "      <th></th>\n",
              "      <th></th>\n",
              "      <th></th>\n",
              "      <th></th>\n",
              "      <th></th>\n",
              "      <th></th>\n",
              "      <th></th>\n",
              "      <th></th>\n",
              "      <th></th>\n",
              "      <th></th>\n",
              "      <th></th>\n",
              "      <th></th>\n",
              "      <th></th>\n",
              "      <th></th>\n",
              "      <th></th>\n",
              "      <th></th>\n",
              "      <th></th>\n",
              "      <th></th>\n",
              "      <th></th>\n",
              "      <th></th>\n",
              "    </tr>\n",
              "  </thead>\n",
              "  <tbody>\n",
              "    <tr>\n",
              "      <th>0</th>\n",
              "      <td>41836</td>\n",
              "      <td>41836</td>\n",
              "      <td>41836</td>\n",
              "      <td>41836</td>\n",
              "      <td>41836</td>\n",
              "      <td>41836</td>\n",
              "      <td>41836</td>\n",
              "      <td>41836</td>\n",
              "      <td>41836</td>\n",
              "      <td>41836</td>\n",
              "      <td>41836</td>\n",
              "      <td>41836</td>\n",
              "      <td>41836</td>\n",
              "      <td>41836</td>\n",
              "      <td>41836</td>\n",
              "      <td>41836</td>\n",
              "      <td>41836</td>\n",
              "      <td>41836</td>\n",
              "      <td>41836</td>\n",
              "      <td>41836</td>\n",
              "      <td>41836</td>\n",
              "      <td>41836</td>\n",
              "      <td>41836</td>\n",
              "      <td>41836</td>\n",
              "      <td>41836</td>\n",
              "      <td>41836</td>\n",
              "      <td>41836</td>\n",
              "      <td>41836</td>\n",
              "      <td>41836</td>\n",
              "      <td>41836</td>\n",
              "      <td>41836</td>\n",
              "      <td>41836</td>\n",
              "      <td>41836</td>\n",
              "      <td>41836</td>\n",
              "      <td>41836</td>\n",
              "      <td>41836</td>\n",
              "      <td>41836</td>\n",
              "      <td>41836</td>\n",
              "    </tr>\n",
              "    <tr>\n",
              "      <th>1</th>\n",
              "      <td>2922</td>\n",
              "      <td>2922</td>\n",
              "      <td>2922</td>\n",
              "      <td>2922</td>\n",
              "      <td>2922</td>\n",
              "      <td>2922</td>\n",
              "      <td>2922</td>\n",
              "      <td>2922</td>\n",
              "      <td>2922</td>\n",
              "      <td>2922</td>\n",
              "      <td>2922</td>\n",
              "      <td>2922</td>\n",
              "      <td>2922</td>\n",
              "      <td>2922</td>\n",
              "      <td>2922</td>\n",
              "      <td>2922</td>\n",
              "      <td>2922</td>\n",
              "      <td>2922</td>\n",
              "      <td>2922</td>\n",
              "      <td>2922</td>\n",
              "      <td>2922</td>\n",
              "      <td>2922</td>\n",
              "      <td>2922</td>\n",
              "      <td>2922</td>\n",
              "      <td>2922</td>\n",
              "      <td>2922</td>\n",
              "      <td>2922</td>\n",
              "      <td>2922</td>\n",
              "      <td>2922</td>\n",
              "      <td>2922</td>\n",
              "      <td>2922</td>\n",
              "      <td>2922</td>\n",
              "      <td>2922</td>\n",
              "      <td>2922</td>\n",
              "      <td>2922</td>\n",
              "      <td>2922</td>\n",
              "      <td>2922</td>\n",
              "      <td>2922</td>\n",
              "    </tr>\n",
              "  </tbody>\n",
              "</table>\n",
              "</div>"
            ],
            "text/plain": [
              "             Duration  ...  dst_host_srv_rerror_rate\n",
              "Type_Groups            ...                          \n",
              "0               41836  ...                     41836\n",
              "1                2922  ...                      2922\n",
              "\n",
              "[2 rows x 38 columns]"
            ]
          },
          "metadata": {
            "tags": []
          },
          "execution_count": 16
        }
      ]
    },
    {
      "cell_type": "markdown",
      "metadata": {
        "id": "iKgW7zMsecSp"
      },
      "source": [
        "Now that we obtained Train, Test and Validation sets, we can train our data and optimize the reconstruction error threshold using test set. Then, we will perform our actual prediction task by using Validation set."
      ]
    },
    {
      "cell_type": "code",
      "metadata": {
        "colab": {
          "base_uri": "https://localhost:8080/"
        },
        "id": "zZF3-B2GzG4H",
        "outputId": "bff13cfb-d57d-40fa-ef95-29ae77a536e4"
      },
      "source": [
        "X_train, X_test = kdd_train_probe, kdd_test_v2_probe\n",
        "X_train = X_train[X_train.Type_Groups == 0]\n",
        "X_train = X_train.drop(['Type_Groups'], axis=1)\n",
        "y_test = X_test['Type_Groups']\n",
        "X_test = X_test.drop(['Type_Groups'], axis=1)\n",
        "X_train = X_train.values\n",
        "X_test = X_test.values\n",
        "X_train.shape"
      ],
      "execution_count": 17,
      "outputs": [
        {
          "output_type": "execute_result",
          "data": {
            "text/plain": [
              "(97278, 38)"
            ]
          },
          "metadata": {
            "tags": []
          },
          "execution_count": 17
        }
      ]
    },
    {
      "cell_type": "code",
      "metadata": {
        "id": "ddmJ-5CSpPrw"
      },
      "source": [
        "input_dim = X_train.shape[1]\n",
        "encoding_dim = 14\n",
        "input_layer = Input(shape=(input_dim, ))\n",
        "encoder = Dense(encoding_dim, activation=\"tanh\", \n",
        "                activity_regularizer=regularizers.l1(10e-5))(input_layer)\n",
        "encoder = Dense(int(encoding_dim / 2), activation=\"relu\")(encoder)\n",
        "decoder = Dense(int(encoding_dim), activation='tanh')(encoder)\n",
        "decoder = Dense(input_dim, activation='relu')(decoder)\n",
        "\n",
        "autoencoder_corr = Model(inputs=input_layer, outputs=decoder)"
      ],
      "execution_count": 18,
      "outputs": []
    },
    {
      "cell_type": "code",
      "metadata": {
        "colab": {
          "base_uri": "https://localhost:8080/"
        },
        "id": "5CWGL4-b2umu",
        "outputId": "91d6bc5b-7fa4-4eaf-bb7a-c235171a66a4"
      },
      "source": [
        "nb_epoch = 5\n",
        "batch_size = 100\n",
        "batch_index=0\n",
        "autoencoder_corr.compile(optimizer='adam', \n",
        "                    loss='mean_squared_error', \n",
        "                    metrics=['accuracy'])\n",
        "checkpointer = ModelCheckpoint(filepath=\"model.h5\",  #TO SAVE THE MODEL\n",
        "                               verbose=0,\n",
        "                               save_best_only=True)\n",
        "tensorboard = TensorBoard(log_dir='./logs',\n",
        "                          histogram_freq=0,\n",
        "                          write_graph=True,\n",
        "                          write_images=True)\n",
        "history = autoencoder_corr.fit(X_train, X_train, #INPUT AND EXPECTED OUTPUT ARE THE SAME.\n",
        "                    epochs=nb_epoch,\n",
        "                    batch_size=batch_size,\n",
        "                    shuffle=True,\n",
        "                    validation_data=(X_test, X_test),\n",
        "                    verbose=1,\n",
        "                    callbacks=[checkpointer, tensorboard]).history"
      ],
      "execution_count": 19,
      "outputs": [
        {
          "output_type": "stream",
          "text": [
            "Epoch 1/5\n",
            "973/973 [==============================] - 4s 3ms/step - loss: 0.4853 - accuracy: 0.4874 - val_loss: 0.6084 - val_accuracy: 0.6571\n",
            "Epoch 2/5\n",
            "973/973 [==============================] - 2s 2ms/step - loss: 0.2893 - accuracy: 0.8466 - val_loss: 0.5704 - val_accuracy: 0.6501\n",
            "Epoch 3/5\n",
            "973/973 [==============================] - 2s 2ms/step - loss: 0.2898 - accuracy: 0.8700 - val_loss: 0.5663 - val_accuracy: 0.6442\n",
            "Epoch 4/5\n",
            "973/973 [==============================] - 2s 2ms/step - loss: 0.2627 - accuracy: 0.8628 - val_loss: 0.5470 - val_accuracy: 0.5853\n",
            "Epoch 5/5\n",
            "973/973 [==============================] - 2s 2ms/step - loss: 0.2615 - accuracy: 0.8545 - val_loss: 0.5453 - val_accuracy: 0.6316\n"
          ],
          "name": "stdout"
        }
      ]
    },
    {
      "cell_type": "markdown",
      "metadata": {
        "id": "p1wb7_MsBO05"
      },
      "source": [
        "# Tune the threshold value using test set"
      ]
    },
    {
      "cell_type": "code",
      "metadata": {
        "colab": {
          "base_uri": "https://localhost:8080/",
          "height": 204
        },
        "id": "v_WijHwGBOjs",
        "outputId": "78964106-971b-4815-fa96-859d7bcac498"
      },
      "source": [
        "predictions = autoencoder_corr.predict(X_test)\n",
        "mse = np.mean(np.power(X_test - predictions, 2), axis=1)\n",
        "error_df = pd.DataFrame({'reconstruction_error': mse,\n",
        "                        'true_class': y_test})\n",
        "error_df.head()"
      ],
      "execution_count": 21,
      "outputs": [
        {
          "output_type": "execute_result",
          "data": {
            "text/html": [
              "<div>\n",
              "<style scoped>\n",
              "    .dataframe tbody tr th:only-of-type {\n",
              "        vertical-align: middle;\n",
              "    }\n",
              "\n",
              "    .dataframe tbody tr th {\n",
              "        vertical-align: top;\n",
              "    }\n",
              "\n",
              "    .dataframe thead th {\n",
              "        text-align: right;\n",
              "    }\n",
              "</style>\n",
              "<table border=\"1\" class=\"dataframe\">\n",
              "  <thead>\n",
              "    <tr style=\"text-align: right;\">\n",
              "      <th></th>\n",
              "      <th>reconstruction_error</th>\n",
              "      <th>true_class</th>\n",
              "    </tr>\n",
              "  </thead>\n",
              "  <tbody>\n",
              "    <tr>\n",
              "      <th>102563</th>\n",
              "      <td>0.065080</td>\n",
              "      <td>0</td>\n",
              "    </tr>\n",
              "    <tr>\n",
              "      <th>102564</th>\n",
              "      <td>0.065080</td>\n",
              "      <td>0</td>\n",
              "    </tr>\n",
              "    <tr>\n",
              "      <th>102565</th>\n",
              "      <td>0.065080</td>\n",
              "      <td>0</td>\n",
              "    </tr>\n",
              "    <tr>\n",
              "      <th>102569</th>\n",
              "      <td>0.653062</td>\n",
              "      <td>0</td>\n",
              "    </tr>\n",
              "    <tr>\n",
              "      <th>102570</th>\n",
              "      <td>0.064486</td>\n",
              "      <td>0</td>\n",
              "    </tr>\n",
              "  </tbody>\n",
              "</table>\n",
              "</div>"
            ],
            "text/plain": [
              "        reconstruction_error  true_class\n",
              "102563              0.065080           0\n",
              "102564              0.065080           0\n",
              "102565              0.065080           0\n",
              "102569              0.653062           0\n",
              "102570              0.064486           0"
            ]
          },
          "metadata": {
            "tags": []
          },
          "execution_count": 21
        }
      ]
    },
    {
      "cell_type": "code",
      "metadata": {
        "id": "NWhNe_P7BOVz"
      },
      "source": [
        "threshold = np.arange(0, 1, 0.01)\n",
        "results = np.zeros(100)\n",
        "probe = np.zeros(100)\n",
        "i = 0\n",
        "for t in threshold:\n",
        "  y_pred = [1 if e > t else 0 for e in error_df.reconstruction_error.values]\n",
        "  conf_matrix = confusion_matrix(error_df.true_class, y_pred)\n",
        "  results[i] = (conf_matrix[0,0] + conf_matrix[1,1]) / 44758 #64759\n",
        "  probe[i] = conf_matrix[1,1] / 2922 #4166\n",
        "  i = i + 1"
      ],
      "execution_count": 22,
      "outputs": []
    },
    {
      "cell_type": "code",
      "metadata": {
        "colab": {
          "base_uri": "https://localhost:8080/",
          "height": 282
        },
        "id": "6ZxbaJfHG24M",
        "outputId": "ab061fdf-1369-4f48-d1ca-9e6c83168e5e"
      },
      "source": [
        "import matplotlib.pyplot as plt\n",
        "plt.plot(threshold, probe)"
      ],
      "execution_count": 44,
      "outputs": [
        {
          "output_type": "execute_result",
          "data": {
            "text/plain": [
              "[<matplotlib.lines.Line2D at 0x7fbd147906a0>]"
            ]
          },
          "metadata": {
            "tags": []
          },
          "execution_count": 44
        },
        {
          "output_type": "display_data",
          "data": {
            "image/png": "[encoded data removed]",
            "text/plain": [
              "<Figure size 432x288 with 1 Axes>"
            ]
          },
          "metadata": {
            "tags": [],
            "needs_background": "light"
          }
        }
      ]
    },
    {
      "cell_type": "code",
      "metadata": {
        "colab": {
          "base_uri": "https://localhost:8080/"
        },
        "id": "gU-cutBesUna",
        "outputId": "ff7a7478-7cf8-4031-beb4-bb1e9cc6f952"
      },
      "source": [
        "probe"
      ],
      "execution_count": 23,
      "outputs": [
        {
          "output_type": "execute_result",
          "data": {
            "text/plain": [
              "array([1.        , 1.        , 1.        , 1.        , 1.        ,\n",
              "       1.        , 1.        , 1.        , 1.        , 1.        ,\n",
              "       1.        , 1.        , 1.        , 1.        , 1.        ,\n",
              "       1.        , 1.        , 1.        , 1.        , 1.        ,\n",
              "       1.        , 1.        , 1.        , 1.        , 1.        ,\n",
              "       1.        , 1.        , 1.        , 1.        , 1.        ,\n",
              "       1.        , 1.        , 1.        , 1.        , 1.        ,\n",
              "       1.        , 1.        , 1.        , 1.        , 1.        ,\n",
              "       1.        , 1.        , 1.        , 1.        , 0.99931554,\n",
              "       0.99931554, 0.99931554, 0.99931554, 0.99931554, 0.99897331,\n",
              "       0.99897331, 0.99828884, 0.99828884, 0.99828884, 0.99794661,\n",
              "       0.99760438, 0.99726215, 0.99691992, 0.99691992, 0.99657769,\n",
              "       0.99486653, 0.9945243 , 0.99315537, 0.99212868, 0.99075975,\n",
              "       0.99075975, 0.99007529, 0.98973306, 0.9890486 , 0.9890486 ,\n",
              "       0.98870637, 0.98836413, 0.98733744, 0.98631075, 0.98631075,\n",
              "       0.98562628, 0.98494182, 0.98391513, 0.98391513, 0.98323066,\n",
              "       0.9825462 , 0.98220397, 0.98186174, 0.98117728, 0.98117728,\n",
              "       0.98083504, 0.98015058, 0.98015058, 0.97912389, 0.97843943,\n",
              "       0.97843943, 0.97741273, 0.97672827, 0.97604381, 0.97604381,\n",
              "       0.97570157, 0.97535934, 0.97501711, 0.97433265, 0.97433265])"
            ]
          },
          "metadata": {
            "tags": []
          },
          "execution_count": 23
        }
      ]
    },
    {
      "cell_type": "code",
      "metadata": {
        "id": "zm9H6m_-sWD8"
      },
      "source": [
        "results"
      ],
      "execution_count": null,
      "outputs": []
    },
    {
      "cell_type": "code",
      "metadata": {
        "colab": {
          "base_uri": "https://localhost:8080/"
        },
        "id": "UlWYF4Cf3XLL",
        "outputId": "ddd7c227-9449-4a15-a6de-8d1270409b9d"
      },
      "source": [
        "threshold = 0.13 # 0.20 de iyi\n",
        "LABELS = [\"Normal\", \"Probing\"]\n",
        "y_pred = [1 if e > threshold else 0 for e in error_df.reconstruction_error.values]\n",
        "conf_matrix = confusion_matrix(error_df.true_class, y_pred)\n",
        "#plt.figure(figsize=(12, 12))\n",
        "#sns.heatmap(conf_matrix, xticklabels=LABELS, yticklabels=LABELS, annot=True, fmt=\"d\");\n",
        "#plt.title(\"Confusion matrix\")\n",
        "#plt.ylabel('True class')\n",
        "#plt.xlabel('Predicted class')\n",
        "#plt.show()\n",
        "conf_matrix"
      ],
      "execution_count": 39,
      "outputs": [
        {
          "output_type": "execute_result",
          "data": {
            "text/plain": [
              "array([[36569,  5267],\n",
              "       [    0,  2922]])"
            ]
          },
          "metadata": {
            "tags": []
          },
          "execution_count": 39
        }
      ]
    },
    {
      "cell_type": "code",
      "metadata": {
        "id": "wJEkAmeC3v1v"
      },
      "source": [
        "from sklearn.metrics import (confusion_matrix, precision_recall_curve, auc,\n",
        "                             roc_curve, recall_score, classification_report, f1_score,\n",
        "                             precision_recall_fscore_support)"
      ],
      "execution_count": 40,
      "outputs": []
    },
    {
      "cell_type": "code",
      "metadata": {
        "colab": {
          "base_uri": "https://localhost:8080/",
          "height": 295
        },
        "id": "oyHacenx3VJu",
        "outputId": "9fcfdfc2-f907-40d3-bb4f-917f4eca04ad"
      },
      "source": [
        "fpr, tpr, thresholds = roc_curve(error_df.true_class, error_df.reconstruction_error)\n",
        "roc_auc = auc(fpr, tpr)\n",
        "\n",
        "plt.title('Receiver Operating Characteristic')\n",
        "plt.plot(fpr, tpr, label='AUC = %0.4f'% roc_auc)\n",
        "plt.legend(loc='lower right')\n",
        "plt.plot([0,1],[0,1],'r--')\n",
        "plt.xlim([-0.001, 1])\n",
        "plt.ylim([0, 1.001])\n",
        "plt.ylabel('True Positive Rate')\n",
        "plt.xlabel('False Positive Rate')\n",
        "plt.show();"
      ],
      "execution_count": 41,
      "outputs": [
        {
          "output_type": "display_data",
          "data": {
            "image/png": "[encoded data removed]",
            "text/plain": [
              "<Figure size 432x288 with 1 Axes>"
            ]
          },
          "metadata": {
            "tags": [],
            "needs_background": "light"
          }
        }
      ]
    },
    {
      "cell_type": "code",
      "metadata": {
        "colab": {
          "base_uri": "https://localhost:8080/",
          "height": 282
        },
        "id": "pS90TZJcHGGD",
        "outputId": "ac5ddb99-b422-4fc7-d15b-397b55499eff"
      },
      "source": [
        "plt.plot(threshold, results)"
      ],
      "execution_count": 45,
      "outputs": [
        {
          "output_type": "execute_result",
          "data": {
            "text/plain": [
              "[<matplotlib.lines.Line2D at 0x7fbd146fb160>]"
            ]
          },
          "metadata": {
            "tags": []
          },
          "execution_count": 45
        },
        {
          "output_type": "display_data",
          "data": {
            "image/png": "[encoded data removed]",
            "text/plain": [
              "<Figure size 432x288 with 1 Axes>"
            ]
          },
          "metadata": {
            "tags": [],
            "needs_background": "light"
          }
        }
      ]
    },
    {
      "cell_type": "markdown",
      "metadata": {
        "id": "rXN_FzmBjUfP"
      },
      "source": [
        "Let's try if we can find a better threshold value between 0.14 and 0.18."
      ]
    },
    {
      "cell_type": "code",
      "metadata": {
        "id": "8kLPqf61BAf6"
      },
      "source": [
        "threshold = np.arange(0.3, 0.5, 0.001)\n",
        "results = np.zeros(200)\n",
        "probe = np.zeros(200)\n",
        "i = 0\n",
        "for t in threshold:\n",
        "  y_pred = [1 if e > t else 0 for e in error_df.reconstruction_error.values]\n",
        "  conf_matrix = confusion_matrix(error_df.true_class, y_pred)\n",
        "  results[i] = (conf_matrix[0,0] + conf_matrix[1,1]) / 44758\n",
        "  probe[i] = conf_matrix[1,1] / 2922\n",
        "  i = i + 1"
      ],
      "execution_count": null,
      "outputs": []
    },
    {
      "cell_type": "code",
      "metadata": {
        "colab": {
          "base_uri": "https://localhost:8080/",
          "height": 408
        },
        "id": "zI558plHkG08",
        "outputId": "389a9a29-84c5-4bd3-b279-8d6a9e274afa"
      },
      "source": [
        "threshold"
      ],
      "execution_count": null,
      "outputs": [
        {
          "output_type": "execute_result",
          "data": {
            "text/plain": [
              "array([0.3  , 0.301, 0.302, 0.303, 0.304, 0.305, 0.306, 0.307, 0.308,\n",
              "       0.309, 0.31 , 0.311, 0.312, 0.313, 0.314, 0.315, 0.316, 0.317,\n",
              "       0.318, 0.319, 0.32 , 0.321, 0.322, 0.323, 0.324, 0.325, 0.326,\n",
              "       0.327, 0.328, 0.329, 0.33 , 0.331, 0.332, 0.333, 0.334, 0.335,\n",
              "       0.336, 0.337, 0.338, 0.339, 0.34 , 0.341, 0.342, 0.343, 0.344,\n",
              "       0.345, 0.346, 0.347, 0.348, 0.349, 0.35 , 0.351, 0.352, 0.353,\n",
              "       0.354, 0.355, 0.356, 0.357, 0.358, 0.359, 0.36 , 0.361, 0.362,\n",
              "       0.363, 0.364, 0.365, 0.366, 0.367, 0.368, 0.369, 0.37 , 0.371,\n",
              "       0.372, 0.373, 0.374, 0.375, 0.376, 0.377, 0.378, 0.379, 0.38 ,\n",
              "       0.381, 0.382, 0.383, 0.384, 0.385, 0.386, 0.387, 0.388, 0.389,\n",
              "       0.39 , 0.391, 0.392, 0.393, 0.394, 0.395, 0.396, 0.397, 0.398,\n",
              "       0.399, 0.4  , 0.401, 0.402, 0.403, 0.404, 0.405, 0.406, 0.407,\n",
              "       0.408, 0.409, 0.41 , 0.411, 0.412, 0.413, 0.414, 0.415, 0.416,\n",
              "       0.417, 0.418, 0.419, 0.42 , 0.421, 0.422, 0.423, 0.424, 0.425,\n",
              "       0.426, 0.427, 0.428, 0.429, 0.43 , 0.431, 0.432, 0.433, 0.434,\n",
              "       0.435, 0.436, 0.437, 0.438, 0.439, 0.44 , 0.441, 0.442, 0.443,\n",
              "       0.444, 0.445, 0.446, 0.447, 0.448, 0.449, 0.45 , 0.451, 0.452,\n",
              "       0.453, 0.454, 0.455, 0.456, 0.457, 0.458, 0.459, 0.46 , 0.461,\n",
              "       0.462, 0.463, 0.464, 0.465, 0.466, 0.467, 0.468, 0.469, 0.47 ,\n",
              "       0.471, 0.472, 0.473, 0.474, 0.475, 0.476, 0.477, 0.478, 0.479,\n",
              "       0.48 , 0.481, 0.482, 0.483, 0.484, 0.485, 0.486, 0.487, 0.488,\n",
              "       0.489, 0.49 , 0.491, 0.492, 0.493, 0.494, 0.495, 0.496, 0.497,\n",
              "       0.498, 0.499])"
            ]
          },
          "metadata": {
            "tags": []
          },
          "execution_count": 108
        }
      ]
    },
    {
      "cell_type": "code",
      "metadata": {
        "colab": {
          "base_uri": "https://localhost:8080/",
          "height": 697
        },
        "id": "Cj9GcA5gkUrH",
        "outputId": "4c457248-c370-4232-db63-af70868dc5e5"
      },
      "source": [
        "probe"
      ],
      "execution_count": null,
      "outputs": [
        {
          "output_type": "execute_result",
          "data": {
            "text/plain": [
              "array([0.99897331, 0.99897331, 0.99897331, 0.99897331, 0.99897331,\n",
              "       0.99897331, 0.99897331, 0.99897331, 0.99897331, 0.99897331,\n",
              "       0.99897331, 0.99897331, 0.99897331, 0.99897331, 0.99897331,\n",
              "       0.99897331, 0.99897331, 0.99897331, 0.99897331, 0.99897331,\n",
              "       0.99897331, 0.99897331, 0.99897331, 0.99897331, 0.99897331,\n",
              "       0.99897331, 0.99897331, 0.99897331, 0.99897331, 0.99897331,\n",
              "       0.99897331, 0.99897331, 0.99897331, 0.99897331, 0.99897331,\n",
              "       0.99897331, 0.99897331, 0.99897331, 0.99897331, 0.99897331,\n",
              "       0.99897331, 0.99897331, 0.99897331, 0.99897331, 0.99897331,\n",
              "       0.99897331, 0.99897331, 0.99897331, 0.99897331, 0.99897331,\n",
              "       0.99897331, 0.99897331, 0.99897331, 0.99897331, 0.99897331,\n",
              "       0.99897331, 0.99897331, 0.99897331, 0.99897331, 0.99897331,\n",
              "       0.99897331, 0.99897331, 0.99897331, 0.99897331, 0.99897331,\n",
              "       0.99897331, 0.99828884, 0.99828884, 0.99828884, 0.99828884,\n",
              "       0.99828884, 0.99828884, 0.99828884, 0.99828884, 0.99828884,\n",
              "       0.99828884, 0.99828884, 0.99828884, 0.99828884, 0.99828884,\n",
              "       0.99828884, 0.99828884, 0.99828884, 0.99828884, 0.99828884,\n",
              "       0.99828884, 0.99828884, 0.99828884, 0.99828884, 0.99828884,\n",
              "       0.99828884, 0.99828884, 0.99828884, 0.99828884, 0.99828884,\n",
              "       0.99828884, 0.99828884, 0.99828884, 0.99828884, 0.99828884,\n",
              "       0.99828884, 0.99828884, 0.99828884, 0.99828884, 0.99828884,\n",
              "       0.99828884, 0.99828884, 0.99828884, 0.99828884, 0.99828884,\n",
              "       0.99828884, 0.99828884, 0.99828884, 0.99828884, 0.99828884,\n",
              "       0.99828884, 0.99828884, 0.99828884, 0.99828884, 0.99828884,\n",
              "       0.99828884, 0.99828884, 0.99828884, 0.99828884, 0.99828884,\n",
              "       0.99828884, 0.99828884, 0.99828884, 0.99828884, 0.99828884,\n",
              "       0.99828884, 0.99828884, 0.99828884, 0.99828884, 0.99828884,\n",
              "       0.99828884, 0.99794661, 0.99794661, 0.99794661, 0.99794661,\n",
              "       0.99794661, 0.99794661, 0.99794661, 0.99794661, 0.99794661,\n",
              "       0.99760438, 0.99760438, 0.99760438, 0.99760438, 0.99760438,\n",
              "       0.99760438, 0.99760438, 0.99760438, 0.99760438, 0.99760438,\n",
              "       0.99760438, 0.99760438, 0.99760438, 0.99760438, 0.99760438,\n",
              "       0.99760438, 0.99760438, 0.99760438, 0.99760438, 0.99760438,\n",
              "       0.99760438, 0.99726215, 0.99726215, 0.99726215, 0.99726215,\n",
              "       0.99726215, 0.99726215, 0.99726215, 0.99726215, 0.99726215,\n",
              "       0.99726215, 0.99726215, 0.99726215, 0.99726215, 0.99726215,\n",
              "       0.99726215, 0.99726215, 0.99726215, 0.99726215, 0.99726215,\n",
              "       0.99726215, 0.99726215, 0.99726215, 0.99726215, 0.99726215,\n",
              "       0.99726215, 0.99726215, 0.99726215, 0.99726215, 0.99726215,\n",
              "       0.99726215, 0.99726215, 0.99726215, 0.99726215, 0.99726215])"
            ]
          },
          "metadata": {
            "tags": []
          },
          "execution_count": 109
        }
      ]
    },
    {
      "cell_type": "code",
      "metadata": {
        "colab": {
          "base_uri": "https://localhost:8080/",
          "height": 697
        },
        "id": "cmJ2X6z7klyj",
        "outputId": "226f9166-9438-49bc-d375-74dec3fe34e9"
      },
      "source": [
        "results"
      ],
      "execution_count": null,
      "outputs": [
        {
          "output_type": "execute_result",
          "data": {
            "text/plain": [
              "array([0.95732606, 0.95759417, 0.95779525, 0.95790697, 0.95810805,\n",
              "       0.95819742, 0.9583985 , 0.9585549 , 0.95873363, 0.95893472,\n",
              "       0.95902409, 0.95920282, 0.95931454, 0.9595603 , 0.95976138,\n",
              "       0.95998481, 0.96023057, 0.96027526, 0.96054337, 0.96076679,\n",
              "       0.96085616, 0.9610349 , 0.96121364, 0.96141472, 0.96166049,\n",
              "       0.96183922, 0.96208499, 0.9621967 , 0.96237544, 0.96257652,\n",
              "       0.96273292, 0.96286697, 0.96297869, 0.96329148, 0.96340319,\n",
              "       0.96369364, 0.96385004, 0.96405112, 0.96422986, 0.96443094,\n",
              "       0.96460968, 0.96496716, 0.96525761, 0.96548103, 0.96559274,\n",
              "       0.96581617, 0.96599491, 0.96617364, 0.96633004, 0.9664641 ,\n",
              "       0.96659815, 0.96670986, 0.96677689, 0.96693329, 0.967045  ,\n",
              "       0.96720139, 0.96731311, 0.96749185, 0.96758121, 0.96771527,\n",
              "       0.96780464, 0.96789401, 0.9680504 , 0.96827383, 0.96831851,\n",
              "       0.96838554, 0.96851959, 0.96858662, 0.96863131, 0.9687877 ,\n",
              "       0.96896644, 0.96903347, 0.96914518, 0.96930158, 0.9693686 ,\n",
              "       0.96948032, 0.96954734, 0.96970374, 0.96983779, 0.96992716,\n",
              "       0.97003888, 0.9701059 , 0.97019527, 0.97032933, 0.97039635,\n",
              "       0.97048572, 0.97055275, 0.97057509, 0.9706868 , 0.97077617,\n",
              "       0.97088789, 0.9709996 , 0.97106662, 0.97117834, 0.97124536,\n",
              "       0.97126771, 0.97137942, 0.97146879, 0.97153581, 0.97166987,\n",
              "       0.97178158, 0.97184861, 0.972005  , 0.97213906, 0.97220609,\n",
              "       0.97236248, 0.97242951, 0.97247419, 0.97256356, 0.97260825,\n",
              "       0.97267528, 0.97271996, 0.97276465, 0.97283167, 0.97287636,\n",
              "       0.97294338, 0.9730551 , 0.97314447, 0.97325618, 0.9733232 ,\n",
              "       0.97334555, 0.97343492, 0.97343492, 0.97343492, 0.97350194,\n",
              "       0.97356897, 0.97361366, 0.973636  , 0.97381474, 0.97390411,\n",
              "       0.97394879, 0.97401582, 0.97410519, 0.97410519, 0.97423924,\n",
              "       0.97432861, 0.97441798, 0.97446267, 0.97448501, 0.97461906,\n",
              "       0.97473077, 0.97482014, 0.97488717, 0.97499888, 0.97504357,\n",
              "       0.97513294, 0.97526699, 0.97533402, 0.97542339, 0.97546807,\n",
              "       0.97555744, 0.9756915 , 0.97571384, 0.97575852, 0.97578087,\n",
              "       0.97582555, 0.97589258, 0.9759596 , 0.97602663, 0.97613834,\n",
              "       0.97618303, 0.97625006, 0.97631708, 0.97638411, 0.97651816,\n",
              "       0.97656285, 0.97654051, 0.97667456, 0.97674159, 0.97678627,\n",
              "       0.9768533 , 0.97689798, 0.97692033, 0.9770097 , 0.97709907,\n",
              "       0.97714375, 0.97718844, 0.97721078, 0.97725546, 0.97734483,\n",
              "       0.9774342 , 0.97745654, 0.97745654, 0.97747889, 0.97754591,\n",
              "       0.97767997, 0.97770231, 0.97770231, 0.97774699, 0.97781402,\n",
              "       0.97792573, 0.97799276, 0.97808213, 0.97823853, 0.97830555,\n",
              "       0.97835024, 0.97855132, 0.97861835, 0.97864069, 0.97866303])"
            ]
          },
          "metadata": {
            "tags": []
          },
          "execution_count": 110
        }
      ]
    },
    {
      "cell_type": "markdown",
      "metadata": {
        "id": "vydMN6zBmjDq"
      },
      "source": [
        "Let's fix our threshold value to 0.499 and apply it to Validation Set."
      ]
    },
    {
      "cell_type": "code",
      "metadata": {
        "id": "JvofCF2WmnyC"
      },
      "source": [
        "X_valid = kdd_valid_probe\n",
        "y_valid = X_valid['Type_Groups']\n",
        "X_valid = X_valid.drop(['Type_Groups'], axis=1)\n",
        "X_valid = X_valid.values"
      ],
      "execution_count": null,
      "outputs": []
    },
    {
      "cell_type": "code",
      "metadata": {
        "colab": {
          "base_uri": "https://localhost:8080/",
          "height": 297
        },
        "id": "zc_9M1VNm38D",
        "outputId": "eca32605-5914-4e72-d1e7-7bcad0cdf0f9"
      },
      "source": [
        "predictions = autoencoder_corr.predict(X_valid)\n",
        "mse = np.mean(np.power(X_valid - predictions, 2), axis=1)\n",
        "error_df = pd.DataFrame({'reconstruction_error': mse,\n",
        "                        'true_class': y_valid})\n",
        "error_df.describe()"
      ],
      "execution_count": null,
      "outputs": [
        {
          "output_type": "execute_result",
          "data": {
            "text/html": [
              "<div>\n",
              "<style scoped>\n",
              "    .dataframe tbody tr th:only-of-type {\n",
              "        vertical-align: middle;\n",
              "    }\n",
              "\n",
              "    .dataframe tbody tr th {\n",
              "        vertical-align: top;\n",
              "    }\n",
              "\n",
              "    .dataframe thead th {\n",
              "        text-align: right;\n",
              "    }\n",
              "</style>\n",
              "<table border=\"1\" class=\"dataframe\">\n",
              "  <thead>\n",
              "    <tr style=\"text-align: right;\">\n",
              "      <th></th>\n",
              "      <th>reconstruction_error</th>\n",
              "      <th>true_class</th>\n",
              "    </tr>\n",
              "  </thead>\n",
              "  <tbody>\n",
              "    <tr>\n",
              "      <th>count</th>\n",
              "      <td>20000.000000</td>\n",
              "      <td>20000.000000</td>\n",
              "    </tr>\n",
              "    <tr>\n",
              "      <th>mean</th>\n",
              "      <td>0.553160</td>\n",
              "      <td>0.062200</td>\n",
              "    </tr>\n",
              "    <tr>\n",
              "      <th>std</th>\n",
              "      <td>19.441038</td>\n",
              "      <td>0.241524</td>\n",
              "    </tr>\n",
              "    <tr>\n",
              "      <th>min</th>\n",
              "      <td>0.019957</td>\n",
              "      <td>0.000000</td>\n",
              "    </tr>\n",
              "    <tr>\n",
              "      <th>25%</th>\n",
              "      <td>0.041338</td>\n",
              "      <td>0.000000</td>\n",
              "    </tr>\n",
              "    <tr>\n",
              "      <th>50%</th>\n",
              "      <td>0.086328</td>\n",
              "      <td>0.000000</td>\n",
              "    </tr>\n",
              "    <tr>\n",
              "      <th>75%</th>\n",
              "      <td>0.131369</td>\n",
              "      <td>0.000000</td>\n",
              "    </tr>\n",
              "    <tr>\n",
              "      <th>max</th>\n",
              "      <td>1940.447577</td>\n",
              "      <td>1.000000</td>\n",
              "    </tr>\n",
              "  </tbody>\n",
              "</table>\n",
              "</div>"
            ],
            "text/plain": [
              "       reconstruction_error    true_class\n",
              "count          20000.000000  20000.000000\n",
              "mean               0.553160      0.062200\n",
              "std               19.441038      0.241524\n",
              "min                0.019957      0.000000\n",
              "25%                0.041338      0.000000\n",
              "50%                0.086328      0.000000\n",
              "75%                0.131369      0.000000\n",
              "max             1940.447577      1.000000"
            ]
          },
          "metadata": {
            "tags": []
          },
          "execution_count": 112
        }
      ]
    },
    {
      "cell_type": "code",
      "metadata": {
        "colab": {
          "base_uri": "https://localhost:8080/",
          "height": 51
        },
        "id": "Tb9UyZXmnA03",
        "outputId": "e0e6f281-8b93-43f1-e1f7-3e4c57f4d3aa"
      },
      "source": [
        "threshold = 0.499 # 0.20 de iyi\n",
        "LABELS = [\"Normal\", \"Probing\"]\n",
        "y_pred = [1 if e > threshold else 0 for e in error_df.reconstruction_error.values]\n",
        "conf_matrix = confusion_matrix(error_df.true_class, y_pred)\n",
        "conf_matrix"
      ],
      "execution_count": null,
      "outputs": [
        {
          "output_type": "execute_result",
          "data": {
            "text/plain": [
              "array([[18290,   466],\n",
              "       [   94,  1150]])"
            ]
          },
          "metadata": {
            "tags": []
          },
          "execution_count": 117
        }
      ]
    },
    {
      "cell_type": "markdown",
      "metadata": {
        "id": "2a7efGoZLk1O"
      },
      "source": [
        "## XGBoosting"
      ]
    },
    {
      "cell_type": "code",
      "metadata": {
        "colab": {
          "base_uri": "https://localhost:8080/"
        },
        "id": "tzb8DuA_7GDw",
        "outputId": "c8506562-4ffe-4a0c-a518-491118771aca"
      },
      "source": [
        "from numpy import loadtxt\n",
        "from sklearn.metrics import accuracy_score\n",
        "import os\n",
        "from sklearn.preprocessing import StandardScaler\n",
        "from sklearn.model_selection import train_test_split\n",
        "from sklearn import metrics\n",
        "from sklearn.metrics import f1_score, roc_auc_score\n",
        "from sklearn.linear_model import LogisticRegression\n",
        "from sklearn.ensemble import RandomForestClassifier\n",
        "from sklearn.model_selection import GridSearchCV\n",
        "from sklearn.neural_network import MLPClassifier\n",
        "from imblearn.pipeline import make_pipeline as make_pipeline_imb\n",
        "from imblearn.over_sampling import SMOTE\n",
        "from imblearn.metrics import classification_report_imbalanced\n",
        "import xgboost as xgb\n",
        "from xgboost import XGBClassifier\n",
        "import pandas as pd\n",
        "import matplotlib.pyplot as plt\n",
        "from collections import Counter\n",
        "import time"
      ],
      "execution_count": 46,
      "outputs": [
        {
          "output_type": "stream",
          "text": [
            "/usr/local/lib/python3.6/dist-packages/sklearn/externals/six.py:31: FutureWarning: The module is deprecated in version 0.21 and will be removed in version 0.23 since we've dropped support for Python 2.7. Please rely on the official version of six (https://pypi.org/project/six/).\n",
            "  \"(https://pypi.org/project/six/).\", FutureWarning)\n",
            "/usr/local/lib/python3.6/dist-packages/sklearn/utils/deprecation.py:144: FutureWarning: The sklearn.neighbors.base module is  deprecated in version 0.22 and will be removed in version 0.24. The corresponding classes / functions should instead be imported from sklearn.neighbors. Anything that cannot be imported from sklearn.neighbors is now part of the private API.\n",
            "  warnings.warn(message, FutureWarning)\n",
            "/usr/local/lib/python3.6/dist-packages/sklearn/utils/deprecation.py:144: FutureWarning: The sklearn.metrics.classification module is  deprecated in version 0.22 and will be removed in version 0.24. The corresponding classes / functions should instead be imported from sklearn.metrics. Anything that cannot be imported from sklearn.metrics is now part of the private API.\n",
            "  warnings.warn(message, FutureWarning)\n"
          ],
          "name": "stderr"
        }
      ]
    },
    {
      "cell_type": "code",
      "metadata": {
        "colab": {
          "base_uri": "https://localhost:8080/",
          "height": 224
        },
        "id": "7wFt0NEX6gWA",
        "outputId": "44899b6f-4db1-4e66-e124-7c17ce744455"
      },
      "source": [
        "kdd_train_probe.head()"
      ],
      "execution_count": 47,
      "outputs": [
        {
          "output_type": "execute_result",
          "data": {
            "text/html": [
              "<div>\n",
              "<style scoped>\n",
              "    .dataframe tbody tr th:only-of-type {\n",
              "        vertical-align: middle;\n",
              "    }\n",
              "\n",
              "    .dataframe tbody tr th {\n",
              "        vertical-align: top;\n",
              "    }\n",
              "\n",
              "    .dataframe thead th {\n",
              "        text-align: right;\n",
              "    }\n",
              "</style>\n",
              "<table border=\"1\" class=\"dataframe\">\n",
              "  <thead>\n",
              "    <tr style=\"text-align: right;\">\n",
              "      <th></th>\n",
              "      <th>Duration</th>\n",
              "      <th>src_bytes</th>\n",
              "      <th>dst_bytes</th>\n",
              "      <th>land</th>\n",
              "      <th>wrong_fragment</th>\n",
              "      <th>urgent</th>\n",
              "      <th>hot</th>\n",
              "      <th>num_failed</th>\n",
              "      <th>logged_in</th>\n",
              "      <th>num_compromised</th>\n",
              "      <th>root_shell</th>\n",
              "      <th>su_attempted</th>\n",
              "      <th>num_root</th>\n",
              "      <th>num_file_creations</th>\n",
              "      <th>num_shells</th>\n",
              "      <th>num_access_files</th>\n",
              "      <th>num_outbound_cmds</th>\n",
              "      <th>is_host_login</th>\n",
              "      <th>is_guest_login</th>\n",
              "      <th>count</th>\n",
              "      <th>srv_count</th>\n",
              "      <th>serror_rate</th>\n",
              "      <th>srv_error_rate</th>\n",
              "      <th>rerror_rate</th>\n",
              "      <th>srv_rerror_rate</th>\n",
              "      <th>same_srv_rate</th>\n",
              "      <th>diff_srv_rate</th>\n",
              "      <th>srv_diff_host_rate</th>\n",
              "      <th>dst_host_count</th>\n",
              "      <th>dst_host_srv_count</th>\n",
              "      <th>dst_host_same_srv_rate</th>\n",
              "      <th>dst_host_diff_srv_rate</th>\n",
              "      <th>dst_host_same_src_port_rate</th>\n",
              "      <th>dst_host_srv_diff_host_rate</th>\n",
              "      <th>dst_host_serror_rate</th>\n",
              "      <th>dst_host_srv_serror_rate</th>\n",
              "      <th>dst_host_rerror_rate</th>\n",
              "      <th>dst_host_srv_rerror_rate</th>\n",
              "      <th>Type_Groups</th>\n",
              "    </tr>\n",
              "  </thead>\n",
              "  <tbody>\n",
              "    <tr>\n",
              "      <th>0</th>\n",
              "      <td>-0.150103</td>\n",
              "      <td>-0.004917</td>\n",
              "      <td>0.019931</td>\n",
              "      <td>0</td>\n",
              "      <td>0</td>\n",
              "      <td>-0.005644</td>\n",
              "      <td>-0.073472</td>\n",
              "      <td>-0.021473</td>\n",
              "      <td>0.666223</td>\n",
              "      <td>-0.007208</td>\n",
              "      <td>-0.023163</td>\n",
              "      <td>-0.010262</td>\n",
              "      <td>-0.012379</td>\n",
              "      <td>-0.024657</td>\n",
              "      <td>-0.021773</td>\n",
              "      <td>-0.060732</td>\n",
              "      <td>0</td>\n",
              "      <td>0</td>\n",
              "      <td>-0.081998</td>\n",
              "      <td>-0.112107</td>\n",
              "      <td>-0.125503</td>\n",
              "      <td>-0.093846</td>\n",
              "      <td>-0.078612</td>\n",
              "      <td>-0.291137</td>\n",
              "      <td>-0.290134</td>\n",
              "      <td>0.198961</td>\n",
              "      <td>-0.201086</td>\n",
              "      <td>-0.478157</td>\n",
              "      <td>-1.336229</td>\n",
              "      <td>-1.990255</td>\n",
              "      <td>0.536542</td>\n",
              "      <td>-0.34644</td>\n",
              "      <td>-0.154032</td>\n",
              "      <td>-0.365965</td>\n",
              "      <td>-0.106951</td>\n",
              "      <td>-0.072524</td>\n",
              "      <td>-0.301727</td>\n",
              "      <td>-0.29675</td>\n",
              "      <td>0</td>\n",
              "    </tr>\n",
              "    <tr>\n",
              "      <th>1</th>\n",
              "      <td>-0.150103</td>\n",
              "      <td>-0.004890</td>\n",
              "      <td>-0.048616</td>\n",
              "      <td>0</td>\n",
              "      <td>0</td>\n",
              "      <td>-0.005644</td>\n",
              "      <td>-0.073472</td>\n",
              "      <td>-0.021473</td>\n",
              "      <td>0.666223</td>\n",
              "      <td>-0.007208</td>\n",
              "      <td>-0.023163</td>\n",
              "      <td>-0.010262</td>\n",
              "      <td>-0.012379</td>\n",
              "      <td>-0.024657</td>\n",
              "      <td>-0.021773</td>\n",
              "      <td>-0.060732</td>\n",
              "      <td>0</td>\n",
              "      <td>0</td>\n",
              "      <td>-0.081998</td>\n",
              "      <td>-0.112107</td>\n",
              "      <td>-0.125503</td>\n",
              "      <td>-0.093846</td>\n",
              "      <td>-0.078612</td>\n",
              "      <td>-0.291137</td>\n",
              "      <td>-0.290134</td>\n",
              "      <td>0.198961</td>\n",
              "      <td>-0.201086</td>\n",
              "      <td>-0.478157</td>\n",
              "      <td>-1.240464</td>\n",
              "      <td>-1.882796</td>\n",
              "      <td>0.536542</td>\n",
              "      <td>-0.34644</td>\n",
              "      <td>-0.346801</td>\n",
              "      <td>-0.365965</td>\n",
              "      <td>-0.106951</td>\n",
              "      <td>-0.072524</td>\n",
              "      <td>-0.301727</td>\n",
              "      <td>-0.29675</td>\n",
              "      <td>0</td>\n",
              "    </tr>\n",
              "    <tr>\n",
              "      <th>2</th>\n",
              "      <td>-0.150103</td>\n",
              "      <td>-0.004892</td>\n",
              "      <td>-0.036865</td>\n",
              "      <td>0</td>\n",
              "      <td>0</td>\n",
              "      <td>-0.005644</td>\n",
              "      <td>-0.073472</td>\n",
              "      <td>-0.021473</td>\n",
              "      <td>0.666223</td>\n",
              "      <td>-0.007208</td>\n",
              "      <td>-0.023163</td>\n",
              "      <td>-0.010262</td>\n",
              "      <td>-0.012379</td>\n",
              "      <td>-0.024657</td>\n",
              "      <td>-0.021773</td>\n",
              "      <td>-0.060732</td>\n",
              "      <td>0</td>\n",
              "      <td>0</td>\n",
              "      <td>-0.081998</td>\n",
              "      <td>-0.112107</td>\n",
              "      <td>-0.125503</td>\n",
              "      <td>-0.093846</td>\n",
              "      <td>-0.078612</td>\n",
              "      <td>-0.291137</td>\n",
              "      <td>-0.290134</td>\n",
              "      <td>0.198961</td>\n",
              "      <td>-0.201086</td>\n",
              "      <td>-0.478157</td>\n",
              "      <td>-1.144700</td>\n",
              "      <td>-1.775337</td>\n",
              "      <td>0.536542</td>\n",
              "      <td>-0.34644</td>\n",
              "      <td>-0.411057</td>\n",
              "      <td>-0.365965</td>\n",
              "      <td>-0.106951</td>\n",
              "      <td>-0.072524</td>\n",
              "      <td>-0.301727</td>\n",
              "      <td>-0.29675</td>\n",
              "      <td>0</td>\n",
              "    </tr>\n",
              "    <tr>\n",
              "      <th>3</th>\n",
              "      <td>-0.150103</td>\n",
              "      <td>-0.004899</td>\n",
              "      <td>-0.036865</td>\n",
              "      <td>0</td>\n",
              "      <td>0</td>\n",
              "      <td>-0.005644</td>\n",
              "      <td>-0.073472</td>\n",
              "      <td>-0.021473</td>\n",
              "      <td>0.666223</td>\n",
              "      <td>-0.007208</td>\n",
              "      <td>-0.023163</td>\n",
              "      <td>-0.010262</td>\n",
              "      <td>-0.012379</td>\n",
              "      <td>-0.024657</td>\n",
              "      <td>-0.021773</td>\n",
              "      <td>-0.060732</td>\n",
              "      <td>0</td>\n",
              "      <td>0</td>\n",
              "      <td>-0.081998</td>\n",
              "      <td>-0.145850</td>\n",
              "      <td>-0.218540</td>\n",
              "      <td>-0.093846</td>\n",
              "      <td>-0.078612</td>\n",
              "      <td>-0.291137</td>\n",
              "      <td>-0.290134</td>\n",
              "      <td>0.198961</td>\n",
              "      <td>-0.201086</td>\n",
              "      <td>-0.478157</td>\n",
              "      <td>-1.048936</td>\n",
              "      <td>-1.667879</td>\n",
              "      <td>0.536542</td>\n",
              "      <td>-0.34644</td>\n",
              "      <td>-0.411057</td>\n",
              "      <td>-0.365965</td>\n",
              "      <td>-0.106951</td>\n",
              "      <td>-0.072524</td>\n",
              "      <td>-0.301727</td>\n",
              "      <td>-0.29675</td>\n",
              "      <td>0</td>\n",
              "    </tr>\n",
              "    <tr>\n",
              "      <th>4</th>\n",
              "      <td>-0.150103</td>\n",
              "      <td>-0.004900</td>\n",
              "      <td>-0.027268</td>\n",
              "      <td>0</td>\n",
              "      <td>0</td>\n",
              "      <td>-0.005644</td>\n",
              "      <td>-0.073472</td>\n",
              "      <td>-0.021473</td>\n",
              "      <td>0.666223</td>\n",
              "      <td>-0.007208</td>\n",
              "      <td>-0.023163</td>\n",
              "      <td>-0.010262</td>\n",
              "      <td>-0.012379</td>\n",
              "      <td>-0.024657</td>\n",
              "      <td>-0.021773</td>\n",
              "      <td>-0.060732</td>\n",
              "      <td>0</td>\n",
              "      <td>0</td>\n",
              "      <td>-0.081998</td>\n",
              "      <td>-0.145850</td>\n",
              "      <td>-0.218540</td>\n",
              "      <td>-0.093846</td>\n",
              "      <td>-0.078612</td>\n",
              "      <td>-0.291137</td>\n",
              "      <td>-0.290134</td>\n",
              "      <td>0.198961</td>\n",
              "      <td>-0.201086</td>\n",
              "      <td>-0.478157</td>\n",
              "      <td>-0.953172</td>\n",
              "      <td>-1.560420</td>\n",
              "      <td>0.536542</td>\n",
              "      <td>-0.34644</td>\n",
              "      <td>-0.443185</td>\n",
              "      <td>-0.365965</td>\n",
              "      <td>-0.106951</td>\n",
              "      <td>-0.072524</td>\n",
              "      <td>-0.301727</td>\n",
              "      <td>-0.29675</td>\n",
              "      <td>0</td>\n",
              "    </tr>\n",
              "  </tbody>\n",
              "</table>\n",
              "</div>"
            ],
            "text/plain": [
              "   Duration  src_bytes  ...  dst_host_srv_rerror_rate  Type_Groups\n",
              "0 -0.150103  -0.004917  ...                  -0.29675            0\n",
              "1 -0.150103  -0.004890  ...                  -0.29675            0\n",
              "2 -0.150103  -0.004892  ...                  -0.29675            0\n",
              "3 -0.150103  -0.004899  ...                  -0.29675            0\n",
              "4 -0.150103  -0.004900  ...                  -0.29675            0\n",
              "\n",
              "[5 rows x 39 columns]"
            ]
          },
          "metadata": {
            "tags": []
          },
          "execution_count": 47
        }
      ]
    },
    {
      "cell_type": "code",
      "metadata": {
        "id": "Dj2ak4hnLmbq"
      },
      "source": [
        "def xgb_classifier(X_train, X_test, y_train, y_test, useTrainCV=True, cv_folds=5, \n",
        "                   early_stopping_rounds=50):\n",
        "    \"\"\"\n",
        "    # {'learning_rate': 0.1, 'max_depth': 5, 'min_child_weight': 3} 0.862920874517388\n",
        "    # {'colsample_bytree': 1.0, 'gamma': 0.2} 0.871\n",
        "    # {'gamma': 0.2, 'scale_pos_weight': 1} 0.8702009952422571\n",
        "    # {'subsample': 0.6} 0.864310306628855\n",
        "    \"\"\"\n",
        "    alg = XGBClassifier(learning_rate=0.1, \n",
        "                        n_estimators=140, \n",
        "                        max_depth=5, # maximum number of features used in each tree\n",
        "                        min_child_weight=3, \n",
        "                        gamma=0.2, \n",
        "                        subsample=0.6, #hich is for each tree the % of rows taken to build the tree. \n",
        "                                        #I recommend not taking out too many rows, as performance will drop a lot. Take values from 0.8 to 1.\n",
        "                        colsample_bytree=0.6, # number of columns used by each tree. \n",
        "                        #In order to avoid some columns to take too much credit for the prediction \n",
        "                        #(think of it like in recommender systems when you recommend the most purchased products\n",
        "                        #and forget about the long tail), take out a good proportion of columns. \n",
        "                        #Values from 0.3 to 0.8 if you have many columns (especially if you did one-hot encoding), \n",
        "                        #or 0.8 to 1 if you only have a few columns.\n",
        "                        objective='binary:logistic', \n",
        "                        nthread=4, \n",
        "                        scale_pos_weight=20, \n",
        "                        seed=27)\n",
        "\n",
        "    if useTrainCV:\n",
        "        print(\"Start Feeding Data\")\n",
        "        xgb_param = alg.get_xgb_params()\n",
        "        xgtrain = xgb.DMatrix(X_train.values, label=y_train.values)\n",
        "        # xgtest = xgb.DMatrix(X_test.values, label=y_test.values)\n",
        "        cvresult = xgb.cv(xgb_param, xgtrain, num_boost_round=alg.get_params()['n_estimators'], nfold=cv_folds,\n",
        "                          early_stopping_rounds=early_stopping_rounds)\n",
        "        alg.set_params(n_estimators=cvresult.shape[0])\n",
        "\n",
        "    print('Start Training')\n",
        "    alg.fit(X_train, y_train, eval_metric='auc')\n",
        "\n",
        "    # param_test1 = {}\n",
        "    # gsearch1 = GridSearchCV(estimator=XGBClassifier(learning_rate=0.1, n_estimators=140, max_depth=5,\n",
        "    #                                                 min_child_weight=3, gamma=0.2, subsample=0.8,\n",
        "    #                                                 colsample_bytree=1.0,\n",
        "    #                                                 objective='binary:logistic', nthread=4, scale_pos_weight=1,\n",
        "    #                                                 seed=27),\n",
        "    #                         param_grid=param_test1,\n",
        "    #                         scoring='f1',\n",
        "    #                         n_jobs=4, iid=False, cv=5)\n",
        "    # gsearch1.fit(X_train, y_train)\n",
        "    # print(gsearch1.cv_results_, gsearch1.best_params_, gsearch1.best_score_)\n",
        "\n",
        "    print(\"Start Predicting\")\n",
        "    predictions = alg.predict(X_test)\n",
        "    pred_proba = alg.predict_proba(X_test)[:, 1]\n",
        "\n",
        "    print(\"\\nResulting Metrics\")\n",
        "    print(\"Accuracy : %.4g\" % metrics.accuracy_score(y_test, predictions))\n",
        "    print(\"AUC : %f\" % metrics.roc_auc_score(y_test, pred_proba))\n",
        "    print(\"F1 Score : %f\" % metrics.f1_score(y_test, predictions))\n",
        "\n",
        "    feat_imp = alg.feature_importances_\n",
        "    feat = X_train.columns.tolist()\n",
        "    # clf.best_estimator_.booster().get_fscore()\n",
        "    res_df = pd.DataFrame({'Features': feat, 'Importance': feat_imp}).sort_values(by='Importance', ascending=False)\n",
        "    res_df.plot('Features', 'Importance', kind='bar', title='Feature Importances')\n",
        "    plt.ylabel('Feature Importance Score')\n",
        "    plt.show()\n",
        "    print(res_df)\n",
        "    print(res_df[\"Features\"].tolist())\n",
        "    return alg\n"
      ],
      "execution_count": 48,
      "outputs": []
    },
    {
      "cell_type": "code",
      "metadata": {
        "id": "B4gndvi-6FsL"
      },
      "source": [
        "y_train = kdd_train_probe['Type_Groups']"
      ],
      "execution_count": 49,
      "outputs": []
    },
    {
      "cell_type": "code",
      "metadata": {
        "id": "F_gWM69b6vdw"
      },
      "source": [
        "X_train = kdd_train_probe.drop(['Type_Groups'], axis = 1)"
      ],
      "execution_count": 50,
      "outputs": []
    },
    {
      "cell_type": "code",
      "metadata": {
        "id": "VX90qotY6z-L"
      },
      "source": [
        "y_test = kdd_test_probe['Type_Groups']\n",
        "X_test = kdd_test_probe.drop(['Type_Groups'], axis = 1)"
      ],
      "execution_count": 51,
      "outputs": []
    },
    {
      "cell_type": "code",
      "metadata": {
        "colab": {
          "base_uri": "https://localhost:8080/",
          "height": 1000
        },
        "id": "1sikZut16_gj",
        "outputId": "f6a0cc76-e6fd-4742-aa88-35db8f2ecd8e"
      },
      "source": [
        "xgb_classifier(X_train, X_test, y_train, y_test)"
      ],
      "execution_count": 52,
      "outputs": [
        {
          "output_type": "stream",
          "text": [
            "Start Feeding Data\n",
            "Start Training\n",
            "Start Predicting\n",
            "\n",
            "Resulting Metrics\n",
            "Accuracy : 0.9622\n",
            "AUC : 0.985972\n",
            "F1 Score : 0.745770\n"
          ],
          "name": "stdout"
        },
        {
          "output_type": "display_data",
          "data": {
            "image/png": "[encoded data removed]",
            "text/plain": [
              "<Figure size 432x288 with 1 Axes>"
            ]
          },
          "metadata": {
            "tags": [],
            "needs_background": "light"
          }
        },
        {
          "output_type": "stream",
          "text": [
            "                       Features  Importance\n",
            "31       dst_host_diff_srv_rate    0.378640\n",
            "33  dst_host_srv_diff_host_rate    0.257967\n",
            "25                same_srv_rate    0.130783\n",
            "30       dst_host_same_srv_rate    0.043607\n",
            "1                     src_bytes    0.039829\n",
            "28               dst_host_count    0.030115\n",
            "32  dst_host_same_src_port_rate    0.022549\n",
            "2                     dst_bytes    0.020976\n",
            "20                    srv_count    0.020545\n",
            "29           dst_host_srv_count    0.017389\n",
            "37     dst_host_srv_rerror_rate    0.015460\n",
            "8                     logged_in    0.008047\n",
            "19                        count    0.005843\n",
            "27           srv_diff_host_rate    0.002685\n",
            "36         dst_host_rerror_rate    0.002516\n",
            "23                  rerror_rate    0.002228\n",
            "26                diff_srv_rate    0.000606\n",
            "34         dst_host_serror_rate    0.000214\n",
            "13           num_file_creations    0.000000\n",
            "35     dst_host_srv_serror_rate    0.000000\n",
            "3                          land    0.000000\n",
            "4                wrong_fragment    0.000000\n",
            "5                        urgent    0.000000\n",
            "6                           hot    0.000000\n",
            "7                    num_failed    0.000000\n",
            "9               num_compromised    0.000000\n",
            "10                   root_shell    0.000000\n",
            "14                   num_shells    0.000000\n",
            "24              srv_rerror_rate    0.000000\n",
            "22               srv_error_rate    0.000000\n",
            "21                  serror_rate    0.000000\n",
            "11                 su_attempted    0.000000\n",
            "12                     num_root    0.000000\n",
            "18               is_guest_login    0.000000\n",
            "17                is_host_login    0.000000\n",
            "16            num_outbound_cmds    0.000000\n",
            "15             num_access_files    0.000000\n",
            "0                      Duration    0.000000\n",
            "['dst_host_diff_srv_rate', 'dst_host_srv_diff_host_rate', 'same_srv_rate', 'dst_host_same_srv_rate', 'src_bytes', 'dst_host_count', 'dst_host_same_src_port_rate', 'dst_bytes', 'srv_count', 'dst_host_srv_count', 'dst_host_srv_rerror_rate', 'logged_in', 'count', 'srv_diff_host_rate', 'dst_host_rerror_rate', 'rerror_rate', 'diff_srv_rate', 'dst_host_serror_rate', 'num_file_creations', 'dst_host_srv_serror_rate', 'land', 'wrong_fragment', 'urgent', 'hot', 'num_failed', 'num_compromised', 'root_shell', 'num_shells', 'srv_rerror_rate', 'srv_error_rate', 'serror_rate', 'su_attempted', 'num_root', 'is_guest_login', 'is_host_login', 'num_outbound_cmds', 'num_access_files', 'Duration']\n"
          ],
          "name": "stdout"
        },
        {
          "output_type": "execute_result",
          "data": {
            "text/plain": [
              "XGBClassifier(base_score=0.5, booster='gbtree', colsample_bylevel=1,\n",
              "              colsample_bynode=1, colsample_bytree=1.0, gamma=0.2,\n",
              "              learning_rate=0.1, max_delta_step=0, max_depth=5,\n",
              "              min_child_weight=3, missing=None, n_estimators=140, n_jobs=1,\n",
              "              nthread=4, objective='binary:logistic', random_state=0,\n",
              "              reg_alpha=0, reg_lambda=1, scale_pos_weight=1, seed=27,\n",
              "              silent=None, subsample=0.6, verbosity=1)"
            ]
          },
          "metadata": {
            "tags": []
          },
          "execution_count": 52
        }
      ]
    },
    {
      "cell_type": "markdown",
      "metadata": {
        "id": "bON9aNCsJ_Pk"
      },
      "source": [
        "## CatBoost"
      ]
    },
    {
      "cell_type": "markdown",
      "metadata": {
        "id": "KZW2zcoRCe3Q"
      },
      "source": [
        "CatBoost is another boosting algorithm created by Yandex. It has unique way of handling with categorical variables. It is shown that CatBoost performs extremely well with its default parameters. We can optimize the hyperparameters using cross validation, random search, grid search or Bayesian Optimization."
      ]
    },
    {
      "cell_type": "code",
      "metadata": {
        "colab": {
          "base_uri": "https://localhost:8080/"
        },
        "id": "xeNlk-qqTuLi",
        "outputId": "69f4e68b-8e9e-418b-9f95-0b9a4a4ab01b"
      },
      "source": [
        "!pip install catboost"
      ],
      "execution_count": 53,
      "outputs": [
        {
          "output_type": "stream",
          "text": [
            "Collecting catboost\n",
            "\u001b[?25l  Downloading https://files.pythonhosted.org/packages/20/37/bc4e0ddc30c07a96482abf1de7ed1ca54e59bba2026a33bca6d2ef286e5b/catboost-0.24.4-cp36-none-manylinux1_x86_64.whl (65.7MB)\n",
            "\u001b[K     |████████████████████████████████| 65.8MB 61kB/s \n",
            "\u001b[?25hRequirement already satisfied: numpy>=1.16.0 in /usr/local/lib/python3.6/dist-packages (from catboost) (1.19.4)\n",
            "Requirement already satisfied: scipy in /usr/local/lib/python3.6/dist-packages (from catboost) (1.4.1)\n",
            "Requirement already satisfied: pandas>=0.24.0 in /usr/local/lib/python3.6/dist-packages (from catboost) (1.1.5)\n",
            "Requirement already satisfied: six in /usr/local/lib/python3.6/dist-packages (from catboost) (1.15.0)\n",
            "Requirement already satisfied: plotly in /usr/local/lib/python3.6/dist-packages (from catboost) (4.4.1)\n",
            "Requirement already satisfied: matplotlib in /usr/local/lib/python3.6/dist-packages (from catboost) (3.2.2)\n",
            "Requirement already satisfied: graphviz in /usr/local/lib/python3.6/dist-packages (from catboost) (0.10.1)\n",
            "Requirement already satisfied: pytz>=2017.2 in /usr/local/lib/python3.6/dist-packages (from pandas>=0.24.0->catboost) (2018.9)\n",
            "Requirement already satisfied: python-dateutil>=2.7.3 in /usr/local/lib/python3.6/dist-packages (from pandas>=0.24.0->catboost) (2.8.1)\n",
            "Requirement already satisfied: retrying>=1.3.3 in /usr/local/lib/python3.6/dist-packages (from plotly->catboost) (1.3.3)\n",
            "Requirement already satisfied: kiwisolver>=1.0.1 in /usr/local/lib/python3.6/dist-packages (from matplotlib->catboost) (1.3.1)\n",
            "Requirement already satisfied: cycler>=0.10 in /usr/local/lib/python3.6/dist-packages (from matplotlib->catboost) (0.10.0)\n",
            "Requirement already satisfied: pyparsing!=2.0.4,!=2.1.2,!=2.1.6,>=2.0.1 in /usr/local/lib/python3.6/dist-packages (from matplotlib->catboost) (2.4.7)\n",
            "Installing collected packages: catboost\n",
            "Successfully installed catboost-0.24.4\n"
          ],
          "name": "stdout"
        }
      ]
    },
    {
      "cell_type": "code",
      "metadata": {
        "id": "zQmb6gzCKAOQ"
      },
      "source": [
        "from catboost import Pool, CatBoostClassifier, cv"
      ],
      "execution_count": 54,
      "outputs": []
    },
    {
      "cell_type": "code",
      "metadata": {
        "colab": {
          "base_uri": "https://localhost:8080/"
        },
        "id": "1r_hxOEITp5D",
        "outputId": "83759982-e091-49ee-e531-9c2d0e0879f9"
      },
      "source": [
        "#model = CatBoostClassifier(eval_metric='Accuracy',use_best_model=True,random_seed=42)\n",
        "model = CatBoostClassifier(eval_metric='Accuracy',random_seed=42)\n",
        "\n",
        "#now just to make the model to fit the data\n",
        "model.fit(X_train,y_train,eval_set=(X_test,y_test))"
      ],
      "execution_count": 55,
      "outputs": [
        {
          "output_type": "stream",
          "text": [
            "Learning rate set to 0.099171\n",
            "0:\tlearn: 0.9945455\ttest: 0.9879708\tbest: 0.9879708 (0)\ttotal: 97ms\tremaining: 1m 36s\n",
            "1:\tlearn: 0.9953248\ttest: 0.9745055\tbest: 0.9879708 (0)\ttotal: 150ms\tremaining: 1m 15s\n",
            "2:\tlearn: 0.9964689\ttest: 0.9746136\tbest: 0.9879708 (0)\ttotal: 199ms\tremaining: 1m 6s\n",
            "3:\tlearn: 0.9967549\ttest: 0.9745672\tbest: 0.9879708 (0)\ttotal: 242ms\tremaining: 1m\n",
            "4:\tlearn: 0.9970311\ttest: 0.9789991\tbest: 0.9879708 (0)\ttotal: 285ms\tremaining: 56.6s\n",
            "5:\tlearn: 0.9991024\ttest: 0.9795086\tbest: 0.9879708 (0)\ttotal: 327ms\tremaining: 54.1s\n",
            "6:\tlearn: 0.9991813\ttest: 0.9782733\tbest: 0.9879708 (0)\ttotal: 369ms\tremaining: 52.3s\n",
            "7:\tlearn: 0.9992109\ttest: 0.9771152\tbest: 0.9879708 (0)\ttotal: 418ms\tremaining: 51.8s\n",
            "8:\tlearn: 0.9992405\ttest: 0.9762813\tbest: 0.9879708 (0)\ttotal: 462ms\tremaining: 50.8s\n",
            "9:\tlearn: 0.9992800\ttest: 0.9740885\tbest: 0.9879708 (0)\ttotal: 504ms\tremaining: 49.9s\n",
            "10:\tlearn: 0.9992898\ttest: 0.9725907\tbest: 0.9879708 (0)\ttotal: 546ms\tremaining: 49.1s\n",
            "11:\tlearn: 0.9993194\ttest: 0.9671860\tbest: 0.9879708 (0)\ttotal: 589ms\tremaining: 48.5s\n",
            "12:\tlearn: 0.9993392\ttest: 0.9667228\tbest: 0.9879708 (0)\ttotal: 636ms\tremaining: 48.3s\n",
            "13:\tlearn: 0.9993490\ttest: 0.9648543\tbest: 0.9879708 (0)\ttotal: 678ms\tremaining: 47.8s\n",
            "14:\tlearn: 0.9993589\ttest: 0.9661360\tbest: 0.9879708 (0)\ttotal: 721ms\tremaining: 47.3s\n",
            "15:\tlearn: 0.9993490\ttest: 0.9658735\tbest: 0.9879708 (0)\ttotal: 762ms\tremaining: 46.9s\n",
            "16:\tlearn: 0.9993589\ttest: 0.9682361\tbest: 0.9879708 (0)\ttotal: 810ms\tremaining: 46.8s\n",
            "17:\tlearn: 0.9993589\ttest: 0.9679581\tbest: 0.9879708 (0)\ttotal: 861ms\tremaining: 47s\n",
            "18:\tlearn: 0.9993687\ttest: 0.9701972\tbest: 0.9879708 (0)\ttotal: 908ms\tremaining: 46.9s\n",
            "19:\tlearn: 0.9993885\ttest: 0.9636035\tbest: 0.9879708 (0)\ttotal: 950ms\tremaining: 46.5s\n",
            "20:\tlearn: 0.9994181\ttest: 0.9656573\tbest: 0.9879708 (0)\ttotal: 991ms\tremaining: 46.2s\n",
            "21:\tlearn: 0.9994575\ttest: 0.9649933\tbest: 0.9879708 (0)\ttotal: 1.03s\tremaining: 45.9s\n",
            "22:\tlearn: 0.9994575\ttest: 0.9650087\tbest: 0.9879708 (0)\ttotal: 1.08s\tremaining: 45.8s\n",
            "23:\tlearn: 0.9994575\ttest: 0.9650396\tbest: 0.9879708 (0)\ttotal: 1.14s\tremaining: 46.2s\n",
            "24:\tlearn: 0.9994575\ttest: 0.9653793\tbest: 0.9879708 (0)\ttotal: 1.19s\tremaining: 46.3s\n",
            "25:\tlearn: 0.9994575\ttest: 0.9654102\tbest: 0.9879708 (0)\ttotal: 1.23s\tremaining: 46.3s\n",
            "26:\tlearn: 0.9994575\ttest: 0.9658271\tbest: 0.9879708 (0)\ttotal: 1.28s\tremaining: 46.3s\n",
            "27:\tlearn: 0.9994575\ttest: 0.9657963\tbest: 0.9879708 (0)\ttotal: 1.33s\tremaining: 46.3s\n",
            "28:\tlearn: 0.9994575\ttest: 0.9650705\tbest: 0.9879708 (0)\ttotal: 1.38s\tremaining: 46.1s\n",
            "29:\tlearn: 0.9994674\ttest: 0.9649933\tbest: 0.9879708 (0)\ttotal: 1.45s\tremaining: 46.7s\n",
            "30:\tlearn: 0.9994674\ttest: 0.9646381\tbest: 0.9879708 (0)\ttotal: 1.5s\tremaining: 46.8s\n",
            "31:\tlearn: 0.9994871\ttest: 0.9645300\tbest: 0.9879708 (0)\ttotal: 1.54s\tremaining: 46.6s\n",
            "32:\tlearn: 0.9996252\ttest: 0.9670779\tbest: 0.9879708 (0)\ttotal: 1.59s\tremaining: 46.7s\n",
            "33:\tlearn: 0.9996449\ttest: 0.9668926\tbest: 0.9879708 (0)\ttotal: 1.64s\tremaining: 46.6s\n",
            "34:\tlearn: 0.9996548\ttest: 0.9649161\tbest: 0.9879708 (0)\ttotal: 1.69s\tremaining: 46.5s\n",
            "35:\tlearn: 0.9997140\ttest: 0.9649315\tbest: 0.9879708 (0)\ttotal: 1.73s\tremaining: 46.4s\n",
            "36:\tlearn: 0.9997140\ttest: 0.9646072\tbest: 0.9879708 (0)\ttotal: 1.78s\tremaining: 46.3s\n",
            "37:\tlearn: 0.9997534\ttest: 0.9642830\tbest: 0.9879708 (0)\ttotal: 1.82s\tremaining: 46.1s\n",
            "38:\tlearn: 0.9997633\ttest: 0.9642057\tbest: 0.9879708 (0)\ttotal: 1.86s\tremaining: 45.9s\n",
            "39:\tlearn: 0.9997633\ttest: 0.9642830\tbest: 0.9879708 (0)\ttotal: 1.91s\tremaining: 45.8s\n",
            "40:\tlearn: 0.9997731\ttest: 0.9640668\tbest: 0.9879708 (0)\ttotal: 1.96s\tremaining: 45.7s\n",
            "41:\tlearn: 0.9997731\ttest: 0.9640668\tbest: 0.9879708 (0)\ttotal: 2s\tremaining: 45.6s\n",
            "42:\tlearn: 0.9997731\ttest: 0.9639587\tbest: 0.9879708 (0)\ttotal: 2.04s\tremaining: 45.4s\n",
            "43:\tlearn: 0.9997633\ttest: 0.9637425\tbest: 0.9879708 (0)\ttotal: 2.08s\tremaining: 45.2s\n",
            "44:\tlearn: 0.9997633\ttest: 0.9635263\tbest: 0.9879708 (0)\ttotal: 2.13s\tremaining: 45.2s\n",
            "45:\tlearn: 0.9997731\ttest: 0.9635572\tbest: 0.9879708 (0)\ttotal: 2.18s\tremaining: 45.1s\n",
            "46:\tlearn: 0.9997731\ttest: 0.9638969\tbest: 0.9879708 (0)\ttotal: 2.22s\tremaining: 45.1s\n",
            "47:\tlearn: 0.9997731\ttest: 0.9639278\tbest: 0.9879708 (0)\ttotal: 2.27s\tremaining: 45s\n",
            "48:\tlearn: 0.9997633\ttest: 0.9642057\tbest: 0.9879708 (0)\ttotal: 2.31s\tremaining: 44.8s\n",
            "49:\tlearn: 0.9997731\ttest: 0.9644374\tbest: 0.9879708 (0)\ttotal: 2.35s\tremaining: 44.7s\n",
            "50:\tlearn: 0.9997731\ttest: 0.9643756\tbest: 0.9879708 (0)\ttotal: 2.4s\tremaining: 44.6s\n",
            "51:\tlearn: 0.9997731\ttest: 0.9646690\tbest: 0.9879708 (0)\ttotal: 2.44s\tremaining: 44.5s\n",
            "52:\tlearn: 0.9997830\ttest: 0.9646072\tbest: 0.9879708 (0)\ttotal: 2.48s\tremaining: 44.3s\n",
            "53:\tlearn: 0.9997830\ttest: 0.9646227\tbest: 0.9879708 (0)\ttotal: 2.52s\tremaining: 44.2s\n",
            "54:\tlearn: 0.9997929\ttest: 0.9646999\tbest: 0.9879708 (0)\ttotal: 2.57s\tremaining: 44.2s\n",
            "55:\tlearn: 0.9997929\ttest: 0.9646844\tbest: 0.9879708 (0)\ttotal: 2.62s\tremaining: 44.2s\n",
            "56:\tlearn: 0.9997929\ttest: 0.9645918\tbest: 0.9879708 (0)\ttotal: 2.66s\tremaining: 44.1s\n",
            "57:\tlearn: 0.9997929\ttest: 0.9640513\tbest: 0.9879708 (0)\ttotal: 2.71s\tremaining: 44s\n",
            "58:\tlearn: 0.9997929\ttest: 0.9639278\tbest: 0.9879708 (0)\ttotal: 2.75s\tremaining: 43.8s\n",
            "59:\tlearn: 0.9997929\ttest: 0.9637734\tbest: 0.9879708 (0)\ttotal: 2.79s\tremaining: 43.7s\n",
            "60:\tlearn: 0.9997929\ttest: 0.9646690\tbest: 0.9879708 (0)\ttotal: 2.83s\tremaining: 43.7s\n",
            "61:\tlearn: 0.9997929\ttest: 0.9645764\tbest: 0.9879708 (0)\ttotal: 2.88s\tremaining: 43.6s\n",
            "62:\tlearn: 0.9997929\ttest: 0.9650551\tbest: 0.9879708 (0)\ttotal: 2.92s\tremaining: 43.5s\n",
            "63:\tlearn: 0.9997929\ttest: 0.9650551\tbest: 0.9879708 (0)\ttotal: 2.96s\tremaining: 43.4s\n",
            "64:\tlearn: 0.9997929\ttest: 0.9649315\tbest: 0.9879708 (0)\ttotal: 3s\tremaining: 43.2s\n",
            "65:\tlearn: 0.9997929\ttest: 0.9638660\tbest: 0.9879708 (0)\ttotal: 3.05s\tremaining: 43.2s\n",
            "66:\tlearn: 0.9997929\ttest: 0.9635881\tbest: 0.9879708 (0)\ttotal: 3.09s\tremaining: 43.1s\n",
            "67:\tlearn: 0.9997929\ttest: 0.9531339\tbest: 0.9879708 (0)\ttotal: 3.14s\tremaining: 43.1s\n",
            "68:\tlearn: 0.9997929\ttest: 0.9529332\tbest: 0.9879708 (0)\ttotal: 3.2s\tremaining: 43.1s\n",
            "69:\tlearn: 0.9997929\ttest: 0.9527170\tbest: 0.9879708 (0)\ttotal: 3.24s\tremaining: 43.1s\n",
            "70:\tlearn: 0.9997929\ttest: 0.9526861\tbest: 0.9879708 (0)\ttotal: 3.29s\tremaining: 43s\n",
            "71:\tlearn: 0.9998027\ttest: 0.9527016\tbest: 0.9879708 (0)\ttotal: 3.33s\tremaining: 43s\n",
            "72:\tlearn: 0.9998027\ttest: 0.9521148\tbest: 0.9879708 (0)\ttotal: 3.38s\tremaining: 42.9s\n",
            "73:\tlearn: 0.9998126\ttest: 0.9521920\tbest: 0.9879708 (0)\ttotal: 3.43s\tremaining: 43s\n",
            "74:\tlearn: 0.9998126\ttest: 0.9520993\tbest: 0.9879708 (0)\ttotal: 3.48s\tremaining: 42.9s\n",
            "75:\tlearn: 0.9998126\ttest: 0.9524390\tbest: 0.9879708 (0)\ttotal: 3.52s\tremaining: 42.8s\n",
            "76:\tlearn: 0.9998225\ttest: 0.9524236\tbest: 0.9879708 (0)\ttotal: 3.57s\tremaining: 42.8s\n",
            "77:\tlearn: 0.9998225\ttest: 0.9523310\tbest: 0.9879708 (0)\ttotal: 3.61s\tremaining: 42.7s\n",
            "78:\tlearn: 0.9998225\ttest: 0.9523310\tbest: 0.9879708 (0)\ttotal: 3.65s\tremaining: 42.6s\n",
            "79:\tlearn: 0.9998225\ttest: 0.9523310\tbest: 0.9879708 (0)\ttotal: 3.69s\tremaining: 42.5s\n",
            "80:\tlearn: 0.9998225\ttest: 0.9524236\tbest: 0.9879708 (0)\ttotal: 3.74s\tremaining: 42.5s\n",
            "81:\tlearn: 0.9998225\ttest: 0.9523773\tbest: 0.9879708 (0)\ttotal: 3.79s\tremaining: 42.4s\n",
            "82:\tlearn: 0.9998225\ttest: 0.9523773\tbest: 0.9879708 (0)\ttotal: 3.83s\tremaining: 42.3s\n",
            "83:\tlearn: 0.9998225\ttest: 0.9522074\tbest: 0.9879708 (0)\ttotal: 3.88s\tremaining: 42.3s\n",
            "84:\tlearn: 0.9998225\ttest: 0.9521456\tbest: 0.9879708 (0)\ttotal: 3.92s\tremaining: 42.2s\n",
            "85:\tlearn: 0.9998323\ttest: 0.9522383\tbest: 0.9879708 (0)\ttotal: 3.97s\tremaining: 42.2s\n",
            "86:\tlearn: 0.9998323\ttest: 0.9522383\tbest: 0.9879708 (0)\ttotal: 4.01s\tremaining: 42.1s\n",
            "87:\tlearn: 0.9998323\ttest: 0.9516515\tbest: 0.9879708 (0)\ttotal: 4.05s\tremaining: 42s\n",
            "88:\tlearn: 0.9998323\ttest: 0.9511110\tbest: 0.9879708 (0)\ttotal: 4.1s\tremaining: 41.9s\n",
            "89:\tlearn: 0.9998323\ttest: 0.9511883\tbest: 0.9879708 (0)\ttotal: 4.15s\tremaining: 41.9s\n",
            "90:\tlearn: 0.9998422\ttest: 0.9510956\tbest: 0.9879708 (0)\ttotal: 4.19s\tremaining: 41.9s\n",
            "91:\tlearn: 0.9998422\ttest: 0.9512963\tbest: 0.9879708 (0)\ttotal: 4.24s\tremaining: 41.8s\n",
            "92:\tlearn: 0.9998422\ttest: 0.9512655\tbest: 0.9879708 (0)\ttotal: 4.28s\tremaining: 41.7s\n",
            "93:\tlearn: 0.9998718\ttest: 0.9498294\tbest: 0.9879708 (0)\ttotal: 4.32s\tremaining: 41.6s\n",
            "94:\tlearn: 0.9998816\ttest: 0.9514662\tbest: 0.9879708 (0)\ttotal: 4.36s\tremaining: 41.6s\n",
            "95:\tlearn: 0.9998816\ttest: 0.9514199\tbest: 0.9879708 (0)\ttotal: 4.42s\tremaining: 41.6s\n",
            "96:\tlearn: 0.9998915\ttest: 0.9513272\tbest: 0.9879708 (0)\ttotal: 4.46s\tremaining: 41.6s\n",
            "97:\tlearn: 0.9998915\ttest: 0.9513890\tbest: 0.9879708 (0)\ttotal: 4.51s\tremaining: 41.5s\n",
            "98:\tlearn: 0.9999014\ttest: 0.9513581\tbest: 0.9879708 (0)\ttotal: 4.56s\tremaining: 41.5s\n",
            "99:\tlearn: 0.9999014\ttest: 0.9513736\tbest: 0.9879708 (0)\ttotal: 4.6s\tremaining: 41.4s\n",
            "100:\tlearn: 0.9998915\ttest: 0.9514199\tbest: 0.9879708 (0)\ttotal: 4.64s\tremaining: 41.3s\n",
            "101:\tlearn: 0.9999014\ttest: 0.9513736\tbest: 0.9879708 (0)\ttotal: 4.69s\tremaining: 41.3s\n",
            "102:\tlearn: 0.9999014\ttest: 0.9512655\tbest: 0.9879708 (0)\ttotal: 4.73s\tremaining: 41.2s\n",
            "103:\tlearn: 0.9999014\ttest: 0.9512655\tbest: 0.9879708 (0)\ttotal: 4.77s\tremaining: 41.1s\n",
            "104:\tlearn: 0.9999014\ttest: 0.9512037\tbest: 0.9879708 (0)\ttotal: 4.82s\tremaining: 41.1s\n",
            "105:\tlearn: 0.9999014\ttest: 0.9512037\tbest: 0.9879708 (0)\ttotal: 4.86s\tremaining: 41s\n",
            "106:\tlearn: 0.9999014\ttest: 0.9511728\tbest: 0.9879708 (0)\ttotal: 4.9s\tremaining: 40.9s\n",
            "107:\tlearn: 0.9998915\ttest: 0.9510184\tbest: 0.9879708 (0)\ttotal: 4.95s\tremaining: 40.9s\n",
            "108:\tlearn: 0.9998915\ttest: 0.9515589\tbest: 0.9879708 (0)\ttotal: 4.99s\tremaining: 40.8s\n",
            "109:\tlearn: 0.9998915\ttest: 0.9516361\tbest: 0.9879708 (0)\ttotal: 5.03s\tremaining: 40.7s\n",
            "110:\tlearn: 0.9998915\ttest: 0.9517905\tbest: 0.9879708 (0)\ttotal: 5.07s\tremaining: 40.6s\n",
            "111:\tlearn: 0.9998915\ttest: 0.9517750\tbest: 0.9879708 (0)\ttotal: 5.12s\tremaining: 40.6s\n",
            "112:\tlearn: 0.9998915\ttest: 0.9516978\tbest: 0.9879708 (0)\ttotal: 5.17s\tremaining: 40.6s\n",
            "113:\tlearn: 0.9998915\ttest: 0.9515125\tbest: 0.9879708 (0)\ttotal: 5.22s\tremaining: 40.5s\n",
            "114:\tlearn: 0.9998915\ttest: 0.9515280\tbest: 0.9879708 (0)\ttotal: 5.26s\tremaining: 40.5s\n",
            "115:\tlearn: 0.9998915\ttest: 0.9514816\tbest: 0.9879708 (0)\ttotal: 5.3s\tremaining: 40.4s\n",
            "116:\tlearn: 0.9998915\ttest: 0.9517750\tbest: 0.9879708 (0)\ttotal: 5.35s\tremaining: 40.4s\n",
            "117:\tlearn: 0.9998915\ttest: 0.9517750\tbest: 0.9879708 (0)\ttotal: 5.38s\tremaining: 40.2s\n",
            "118:\tlearn: 0.9998915\ttest: 0.9516824\tbest: 0.9879708 (0)\ttotal: 5.43s\tremaining: 40.2s\n",
            "119:\tlearn: 0.9998915\ttest: 0.9516824\tbest: 0.9879708 (0)\ttotal: 5.46s\tremaining: 40.1s\n",
            "120:\tlearn: 0.9999014\ttest: 0.9517442\tbest: 0.9879708 (0)\ttotal: 5.5s\tremaining: 40s\n",
            "121:\tlearn: 0.9999014\ttest: 0.9516824\tbest: 0.9879708 (0)\ttotal: 5.55s\tremaining: 39.9s\n",
            "122:\tlearn: 0.9999014\ttest: 0.9521148\tbest: 0.9879708 (0)\ttotal: 5.59s\tremaining: 39.9s\n",
            "123:\tlearn: 0.9999014\ttest: 0.9524236\tbest: 0.9879708 (0)\ttotal: 5.64s\tremaining: 39.8s\n",
            "124:\tlearn: 0.9999014\ttest: 0.9524545\tbest: 0.9879708 (0)\ttotal: 5.68s\tremaining: 39.7s\n",
            "125:\tlearn: 0.9999014\ttest: 0.9528251\tbest: 0.9879708 (0)\ttotal: 5.72s\tremaining: 39.7s\n",
            "126:\tlearn: 0.9999014\ttest: 0.9526552\tbest: 0.9879708 (0)\ttotal: 5.76s\tremaining: 39.6s\n",
            "127:\tlearn: 0.9999112\ttest: 0.9525471\tbest: 0.9879708 (0)\ttotal: 5.81s\tremaining: 39.6s\n",
            "128:\tlearn: 0.9999112\ttest: 0.9525163\tbest: 0.9879708 (0)\ttotal: 5.86s\tremaining: 39.5s\n",
            "129:\tlearn: 0.9999112\ttest: 0.9526089\tbest: 0.9879708 (0)\ttotal: 5.9s\tremaining: 39.5s\n",
            "130:\tlearn: 0.9999112\ttest: 0.9525935\tbest: 0.9879708 (0)\ttotal: 5.94s\tremaining: 39.4s\n",
            "131:\tlearn: 0.9999112\ttest: 0.9526707\tbest: 0.9879708 (0)\ttotal: 5.99s\tremaining: 39.4s\n",
            "132:\tlearn: 0.9999112\ttest: 0.9527633\tbest: 0.9879708 (0)\ttotal: 6.03s\tremaining: 39.3s\n",
            "133:\tlearn: 0.9999112\ttest: 0.9527633\tbest: 0.9879708 (0)\ttotal: 6.06s\tremaining: 39.2s\n",
            "134:\tlearn: 0.9999112\ttest: 0.9524854\tbest: 0.9879708 (0)\ttotal: 6.11s\tremaining: 39.1s\n",
            "135:\tlearn: 0.9999112\ttest: 0.9526707\tbest: 0.9879708 (0)\ttotal: 6.15s\tremaining: 39.1s\n",
            "136:\tlearn: 0.9999112\ttest: 0.9523310\tbest: 0.9879708 (0)\ttotal: 6.21s\tremaining: 39.1s\n",
            "137:\tlearn: 0.9999112\ttest: 0.9523310\tbest: 0.9879708 (0)\ttotal: 6.24s\tremaining: 39s\n",
            "138:\tlearn: 0.9999112\ttest: 0.9523464\tbest: 0.9879708 (0)\ttotal: 6.29s\tremaining: 39s\n",
            "139:\tlearn: 0.9999112\ttest: 0.9524699\tbest: 0.9879708 (0)\ttotal: 6.33s\tremaining: 38.9s\n",
            "140:\tlearn: 0.9999112\ttest: 0.9525935\tbest: 0.9879708 (0)\ttotal: 6.38s\tremaining: 38.9s\n",
            "141:\tlearn: 0.9999112\ttest: 0.9521302\tbest: 0.9879708 (0)\ttotal: 6.43s\tremaining: 38.8s\n",
            "142:\tlearn: 0.9999112\ttest: 0.9523155\tbest: 0.9879708 (0)\ttotal: 6.47s\tremaining: 38.8s\n",
            "143:\tlearn: 0.9999112\ttest: 0.9523310\tbest: 0.9879708 (0)\ttotal: 6.51s\tremaining: 38.7s\n",
            "144:\tlearn: 0.9999112\ttest: 0.9519758\tbest: 0.9879708 (0)\ttotal: 6.55s\tremaining: 38.6s\n",
            "145:\tlearn: 0.9999112\ttest: 0.9521765\tbest: 0.9879708 (0)\ttotal: 6.6s\tremaining: 38.6s\n",
            "146:\tlearn: 0.9999112\ttest: 0.9522537\tbest: 0.9879708 (0)\ttotal: 6.65s\tremaining: 38.6s\n",
            "147:\tlearn: 0.9999112\ttest: 0.9522074\tbest: 0.9879708 (0)\ttotal: 6.7s\tremaining: 38.6s\n",
            "148:\tlearn: 0.9999112\ttest: 0.9525163\tbest: 0.9879708 (0)\ttotal: 6.74s\tremaining: 38.5s\n",
            "149:\tlearn: 0.9999211\ttest: 0.9525163\tbest: 0.9879708 (0)\ttotal: 6.78s\tremaining: 38.4s\n",
            "150:\tlearn: 0.9999211\ttest: 0.9525317\tbest: 0.9879708 (0)\ttotal: 6.82s\tremaining: 38.4s\n",
            "151:\tlearn: 0.9999211\ttest: 0.9524390\tbest: 0.9879708 (0)\ttotal: 6.87s\tremaining: 38.3s\n",
            "152:\tlearn: 0.9999211\ttest: 0.9524390\tbest: 0.9879708 (0)\ttotal: 6.92s\tremaining: 38.3s\n",
            "153:\tlearn: 0.9999211\ttest: 0.9524545\tbest: 0.9879708 (0)\ttotal: 6.96s\tremaining: 38.3s\n",
            "154:\tlearn: 0.9999211\ttest: 0.9526089\tbest: 0.9879708 (0)\ttotal: 7s\tremaining: 38.2s\n",
            "155:\tlearn: 0.9999211\ttest: 0.9521611\tbest: 0.9879708 (0)\ttotal: 7.05s\tremaining: 38.1s\n",
            "156:\tlearn: 0.9999211\ttest: 0.9519758\tbest: 0.9879708 (0)\ttotal: 7.1s\tremaining: 38.1s\n",
            "157:\tlearn: 0.9999211\ttest: 0.9519449\tbest: 0.9879708 (0)\ttotal: 7.14s\tremaining: 38s\n",
            "158:\tlearn: 0.9999211\ttest: 0.9519295\tbest: 0.9879708 (0)\ttotal: 7.18s\tremaining: 38s\n",
            "159:\tlearn: 0.9999211\ttest: 0.9518677\tbest: 0.9879708 (0)\ttotal: 7.22s\tremaining: 37.9s\n",
            "160:\tlearn: 0.9999211\ttest: 0.9519758\tbest: 0.9879708 (0)\ttotal: 7.28s\tremaining: 37.9s\n",
            "161:\tlearn: 0.9999211\ttest: 0.9518368\tbest: 0.9879708 (0)\ttotal: 7.32s\tremaining: 37.9s\n",
            "162:\tlearn: 0.9999211\ttest: 0.9506632\tbest: 0.9879708 (0)\ttotal: 7.37s\tremaining: 37.8s\n",
            "163:\tlearn: 0.9999211\ttest: 0.9507404\tbest: 0.9879708 (0)\ttotal: 7.42s\tremaining: 37.8s\n",
            "164:\tlearn: 0.9999211\ttest: 0.9507868\tbest: 0.9879708 (0)\ttotal: 7.46s\tremaining: 37.7s\n",
            "165:\tlearn: 0.9999211\ttest: 0.9507404\tbest: 0.9879708 (0)\ttotal: 7.5s\tremaining: 37.7s\n",
            "166:\tlearn: 0.9999211\ttest: 0.9507096\tbest: 0.9879708 (0)\ttotal: 7.55s\tremaining: 37.7s\n",
            "167:\tlearn: 0.9999211\ttest: 0.9507096\tbest: 0.9879708 (0)\ttotal: 7.59s\tremaining: 37.6s\n",
            "168:\tlearn: 0.9999211\ttest: 0.9507096\tbest: 0.9879708 (0)\ttotal: 7.63s\tremaining: 37.5s\n",
            "169:\tlearn: 0.9999211\ttest: 0.9507096\tbest: 0.9879708 (0)\ttotal: 7.66s\tremaining: 37.4s\n",
            "170:\tlearn: 0.9999211\ttest: 0.9507096\tbest: 0.9879708 (0)\ttotal: 7.7s\tremaining: 37.3s\n",
            "171:\tlearn: 0.9999211\ttest: 0.9507096\tbest: 0.9879708 (0)\ttotal: 7.73s\tremaining: 37.2s\n",
            "172:\tlearn: 0.9999211\ttest: 0.9507096\tbest: 0.9879708 (0)\ttotal: 7.77s\tremaining: 37.2s\n",
            "173:\tlearn: 0.9999211\ttest: 0.9507096\tbest: 0.9879708 (0)\ttotal: 7.81s\tremaining: 37.1s\n",
            "174:\tlearn: 0.9999211\ttest: 0.9507096\tbest: 0.9879708 (0)\ttotal: 7.84s\tremaining: 37s\n",
            "175:\tlearn: 0.9999211\ttest: 0.9507096\tbest: 0.9879708 (0)\ttotal: 7.89s\tremaining: 36.9s\n",
            "176:\tlearn: 0.9999211\ttest: 0.9507096\tbest: 0.9879708 (0)\ttotal: 7.92s\tremaining: 36.8s\n",
            "177:\tlearn: 0.9999211\ttest: 0.9507096\tbest: 0.9879708 (0)\ttotal: 7.96s\tremaining: 36.8s\n",
            "178:\tlearn: 0.9999211\ttest: 0.9506941\tbest: 0.9879708 (0)\ttotal: 8s\tremaining: 36.7s\n",
            "179:\tlearn: 0.9999211\ttest: 0.9506941\tbest: 0.9879708 (0)\ttotal: 8.03s\tremaining: 36.6s\n",
            "180:\tlearn: 0.9999211\ttest: 0.9506941\tbest: 0.9879708 (0)\ttotal: 8.07s\tremaining: 36.5s\n",
            "181:\tlearn: 0.9999211\ttest: 0.9506941\tbest: 0.9879708 (0)\ttotal: 8.1s\tremaining: 36.4s\n",
            "182:\tlearn: 0.9999211\ttest: 0.9506941\tbest: 0.9879708 (0)\ttotal: 8.14s\tremaining: 36.3s\n",
            "183:\tlearn: 0.9999211\ttest: 0.9506941\tbest: 0.9879708 (0)\ttotal: 8.18s\tremaining: 36.3s\n",
            "184:\tlearn: 0.9999211\ttest: 0.9506941\tbest: 0.9879708 (0)\ttotal: 8.22s\tremaining: 36.2s\n",
            "185:\tlearn: 0.9999211\ttest: 0.9506941\tbest: 0.9879708 (0)\ttotal: 8.26s\tremaining: 36.1s\n",
            "186:\tlearn: 0.9999211\ttest: 0.9506941\tbest: 0.9879708 (0)\ttotal: 8.3s\tremaining: 36.1s\n",
            "187:\tlearn: 0.9999211\ttest: 0.9506941\tbest: 0.9879708 (0)\ttotal: 8.33s\tremaining: 36s\n",
            "188:\tlearn: 0.9999211\ttest: 0.9506941\tbest: 0.9879708 (0)\ttotal: 8.37s\tremaining: 35.9s\n",
            "189:\tlearn: 0.9999211\ttest: 0.9506941\tbest: 0.9879708 (0)\ttotal: 8.4s\tremaining: 35.8s\n",
            "190:\tlearn: 0.9999211\ttest: 0.9506941\tbest: 0.9879708 (0)\ttotal: 8.44s\tremaining: 35.7s\n",
            "191:\tlearn: 0.9999211\ttest: 0.9506941\tbest: 0.9879708 (0)\ttotal: 8.47s\tremaining: 35.6s\n",
            "192:\tlearn: 0.9999211\ttest: 0.9506941\tbest: 0.9879708 (0)\ttotal: 8.5s\tremaining: 35.6s\n",
            "193:\tlearn: 0.9999211\ttest: 0.9507404\tbest: 0.9879708 (0)\ttotal: 8.55s\tremaining: 35.5s\n",
            "194:\tlearn: 0.9999211\ttest: 0.9507713\tbest: 0.9879708 (0)\ttotal: 8.6s\tremaining: 35.5s\n",
            "195:\tlearn: 0.9999211\ttest: 0.9506787\tbest: 0.9879708 (0)\ttotal: 8.65s\tremaining: 35.5s\n",
            "196:\tlearn: 0.9999310\ttest: 0.9505551\tbest: 0.9879708 (0)\ttotal: 8.7s\tremaining: 35.4s\n",
            "197:\tlearn: 0.9999310\ttest: 0.9505706\tbest: 0.9879708 (0)\ttotal: 8.74s\tremaining: 35.4s\n",
            "198:\tlearn: 0.9999310\ttest: 0.9505706\tbest: 0.9879708 (0)\ttotal: 8.78s\tremaining: 35.3s\n",
            "199:\tlearn: 0.9999310\ttest: 0.9505706\tbest: 0.9879708 (0)\ttotal: 8.81s\tremaining: 35.3s\n",
            "200:\tlearn: 0.9999310\ttest: 0.9505706\tbest: 0.9879708 (0)\ttotal: 8.85s\tremaining: 35.2s\n",
            "201:\tlearn: 0.9999310\ttest: 0.9505706\tbest: 0.9879708 (0)\ttotal: 8.89s\tremaining: 35.1s\n",
            "202:\tlearn: 0.9999310\ttest: 0.9505706\tbest: 0.9879708 (0)\ttotal: 8.92s\tremaining: 35s\n",
            "203:\tlearn: 0.9999310\ttest: 0.9505706\tbest: 0.9879708 (0)\ttotal: 8.96s\tremaining: 34.9s\n",
            "204:\tlearn: 0.9999310\ttest: 0.9506169\tbest: 0.9879708 (0)\ttotal: 9s\tremaining: 34.9s\n",
            "205:\tlearn: 0.9999310\ttest: 0.9506169\tbest: 0.9879708 (0)\ttotal: 9.03s\tremaining: 34.8s\n",
            "206:\tlearn: 0.9999310\ttest: 0.9505706\tbest: 0.9879708 (0)\ttotal: 9.08s\tremaining: 34.8s\n",
            "207:\tlearn: 0.9999310\ttest: 0.9506015\tbest: 0.9879708 (0)\ttotal: 9.13s\tremaining: 34.8s\n",
            "208:\tlearn: 0.9999310\ttest: 0.9506323\tbest: 0.9879708 (0)\ttotal: 9.17s\tremaining: 34.7s\n",
            "209:\tlearn: 0.9999310\ttest: 0.9506323\tbest: 0.9879708 (0)\ttotal: 9.21s\tremaining: 34.7s\n",
            "210:\tlearn: 0.9999310\ttest: 0.9506323\tbest: 0.9879708 (0)\ttotal: 9.25s\tremaining: 34.6s\n",
            "211:\tlearn: 0.9999310\ttest: 0.9506323\tbest: 0.9879708 (0)\ttotal: 9.29s\tremaining: 34.5s\n",
            "212:\tlearn: 0.9999310\ttest: 0.9506323\tbest: 0.9879708 (0)\ttotal: 9.32s\tremaining: 34.4s\n",
            "213:\tlearn: 0.9999310\ttest: 0.9506323\tbest: 0.9879708 (0)\ttotal: 9.36s\tremaining: 34.4s\n",
            "214:\tlearn: 0.9999310\ttest: 0.9506323\tbest: 0.9879708 (0)\ttotal: 9.39s\tremaining: 34.3s\n",
            "215:\tlearn: 0.9999310\ttest: 0.9506323\tbest: 0.9879708 (0)\ttotal: 9.43s\tremaining: 34.2s\n",
            "216:\tlearn: 0.9999310\ttest: 0.9506323\tbest: 0.9879708 (0)\ttotal: 9.46s\tremaining: 34.1s\n",
            "217:\tlearn: 0.9999310\ttest: 0.9506323\tbest: 0.9879708 (0)\ttotal: 9.49s\tremaining: 34.1s\n",
            "218:\tlearn: 0.9999310\ttest: 0.9506323\tbest: 0.9879708 (0)\ttotal: 9.53s\tremaining: 34s\n",
            "219:\tlearn: 0.9999310\ttest: 0.9506323\tbest: 0.9879708 (0)\ttotal: 9.57s\tremaining: 33.9s\n",
            "220:\tlearn: 0.9999310\ttest: 0.9506323\tbest: 0.9879708 (0)\ttotal: 9.61s\tremaining: 33.9s\n",
            "221:\tlearn: 0.9999310\ttest: 0.9506323\tbest: 0.9879708 (0)\ttotal: 9.64s\tremaining: 33.8s\n",
            "222:\tlearn: 0.9999310\ttest: 0.9506323\tbest: 0.9879708 (0)\ttotal: 9.67s\tremaining: 33.7s\n",
            "223:\tlearn: 0.9999310\ttest: 0.9506323\tbest: 0.9879708 (0)\ttotal: 9.71s\tremaining: 33.6s\n",
            "224:\tlearn: 0.9999310\ttest: 0.9506323\tbest: 0.9879708 (0)\ttotal: 9.74s\tremaining: 33.6s\n",
            "225:\tlearn: 0.9999310\ttest: 0.9506323\tbest: 0.9879708 (0)\ttotal: 9.78s\tremaining: 33.5s\n",
            "226:\tlearn: 0.9999310\ttest: 0.9506323\tbest: 0.9879708 (0)\ttotal: 9.82s\tremaining: 33.4s\n",
            "227:\tlearn: 0.9999310\ttest: 0.9506323\tbest: 0.9879708 (0)\ttotal: 9.85s\tremaining: 33.4s\n",
            "228:\tlearn: 0.9999310\ttest: 0.9506323\tbest: 0.9879708 (0)\ttotal: 9.88s\tremaining: 33.3s\n",
            "229:\tlearn: 0.9999310\ttest: 0.9506323\tbest: 0.9879708 (0)\ttotal: 9.92s\tremaining: 33.2s\n",
            "230:\tlearn: 0.9999310\ttest: 0.9506323\tbest: 0.9879708 (0)\ttotal: 9.95s\tremaining: 33.1s\n",
            "231:\tlearn: 0.9999310\ttest: 0.9506323\tbest: 0.9879708 (0)\ttotal: 9.99s\tremaining: 33.1s\n",
            "232:\tlearn: 0.9999310\ttest: 0.9506323\tbest: 0.9879708 (0)\ttotal: 10s\tremaining: 33s\n",
            "233:\tlearn: 0.9999310\ttest: 0.9506323\tbest: 0.9879708 (0)\ttotal: 10.1s\tremaining: 32.9s\n",
            "234:\tlearn: 0.9999310\ttest: 0.9506323\tbest: 0.9879708 (0)\ttotal: 10.1s\tremaining: 32.8s\n",
            "235:\tlearn: 0.9999310\ttest: 0.9506323\tbest: 0.9879708 (0)\ttotal: 10.1s\tremaining: 32.8s\n",
            "236:\tlearn: 0.9999310\ttest: 0.9506323\tbest: 0.9879708 (0)\ttotal: 10.2s\tremaining: 32.7s\n",
            "237:\tlearn: 0.9999310\ttest: 0.9506323\tbest: 0.9879708 (0)\ttotal: 10.2s\tremaining: 32.7s\n",
            "238:\tlearn: 0.9999310\ttest: 0.9506323\tbest: 0.9879708 (0)\ttotal: 10.2s\tremaining: 32.6s\n",
            "239:\tlearn: 0.9999310\ttest: 0.9506323\tbest: 0.9879708 (0)\ttotal: 10.3s\tremaining: 32.5s\n",
            "240:\tlearn: 0.9999310\ttest: 0.9506323\tbest: 0.9879708 (0)\ttotal: 10.3s\tremaining: 32.5s\n",
            "241:\tlearn: 0.9999310\ttest: 0.9506323\tbest: 0.9879708 (0)\ttotal: 10.3s\tremaining: 32.4s\n",
            "242:\tlearn: 0.9999310\ttest: 0.9506323\tbest: 0.9879708 (0)\ttotal: 10.4s\tremaining: 32.3s\n",
            "243:\tlearn: 0.9999310\ttest: 0.9506323\tbest: 0.9879708 (0)\ttotal: 10.4s\tremaining: 32.3s\n",
            "244:\tlearn: 0.9999310\ttest: 0.9506323\tbest: 0.9879708 (0)\ttotal: 10.4s\tremaining: 32.2s\n",
            "245:\tlearn: 0.9999310\ttest: 0.9506323\tbest: 0.9879708 (0)\ttotal: 10.5s\tremaining: 32.1s\n",
            "246:\tlearn: 0.9999310\ttest: 0.9506323\tbest: 0.9879708 (0)\ttotal: 10.5s\tremaining: 32.1s\n",
            "247:\tlearn: 0.9999310\ttest: 0.9506323\tbest: 0.9879708 (0)\ttotal: 10.6s\tremaining: 32s\n",
            "248:\tlearn: 0.9999310\ttest: 0.9506323\tbest: 0.9879708 (0)\ttotal: 10.6s\tremaining: 31.9s\n",
            "249:\tlearn: 0.9999310\ttest: 0.9506323\tbest: 0.9879708 (0)\ttotal: 10.6s\tremaining: 31.9s\n",
            "250:\tlearn: 0.9999310\ttest: 0.9506323\tbest: 0.9879708 (0)\ttotal: 10.7s\tremaining: 31.8s\n",
            "251:\tlearn: 0.9999310\ttest: 0.9506323\tbest: 0.9879708 (0)\ttotal: 10.7s\tremaining: 31.7s\n",
            "252:\tlearn: 0.9999310\ttest: 0.9506323\tbest: 0.9879708 (0)\ttotal: 10.7s\tremaining: 31.7s\n",
            "253:\tlearn: 0.9999310\ttest: 0.9506323\tbest: 0.9879708 (0)\ttotal: 10.8s\tremaining: 31.6s\n",
            "254:\tlearn: 0.9999310\ttest: 0.9506323\tbest: 0.9879708 (0)\ttotal: 10.8s\tremaining: 31.5s\n",
            "255:\tlearn: 0.9999310\ttest: 0.9506323\tbest: 0.9879708 (0)\ttotal: 10.8s\tremaining: 31.5s\n",
            "256:\tlearn: 0.9999310\ttest: 0.9506323\tbest: 0.9879708 (0)\ttotal: 10.9s\tremaining: 31.4s\n",
            "257:\tlearn: 0.9999310\ttest: 0.9506323\tbest: 0.9879708 (0)\ttotal: 10.9s\tremaining: 31.4s\n",
            "258:\tlearn: 0.9999310\ttest: 0.9506323\tbest: 0.9879708 (0)\ttotal: 10.9s\tremaining: 31.3s\n",
            "259:\tlearn: 0.9999310\ttest: 0.9506323\tbest: 0.9879708 (0)\ttotal: 11s\tremaining: 31.2s\n",
            "260:\tlearn: 0.9999310\ttest: 0.9506323\tbest: 0.9879708 (0)\ttotal: 11s\tremaining: 31.2s\n",
            "261:\tlearn: 0.9999310\ttest: 0.9506323\tbest: 0.9879708 (0)\ttotal: 11.1s\tremaining: 31.1s\n",
            "262:\tlearn: 0.9999310\ttest: 0.9506323\tbest: 0.9879708 (0)\ttotal: 11.1s\tremaining: 31.1s\n",
            "263:\tlearn: 0.9999310\ttest: 0.9506323\tbest: 0.9879708 (0)\ttotal: 11.1s\tremaining: 31s\n",
            "264:\tlearn: 0.9999310\ttest: 0.9506323\tbest: 0.9879708 (0)\ttotal: 11.2s\tremaining: 30.9s\n",
            "265:\tlearn: 0.9999310\ttest: 0.9506323\tbest: 0.9879708 (0)\ttotal: 11.2s\tremaining: 30.9s\n",
            "266:\tlearn: 0.9999310\ttest: 0.9506323\tbest: 0.9879708 (0)\ttotal: 11.2s\tremaining: 30.8s\n",
            "267:\tlearn: 0.9999310\ttest: 0.9506323\tbest: 0.9879708 (0)\ttotal: 11.3s\tremaining: 30.8s\n",
            "268:\tlearn: 0.9999310\ttest: 0.9506323\tbest: 0.9879708 (0)\ttotal: 11.3s\tremaining: 30.7s\n",
            "269:\tlearn: 0.9999310\ttest: 0.9506323\tbest: 0.9879708 (0)\ttotal: 11.3s\tremaining: 30.7s\n",
            "270:\tlearn: 0.9999310\ttest: 0.9506323\tbest: 0.9879708 (0)\ttotal: 11.4s\tremaining: 30.6s\n",
            "271:\tlearn: 0.9999310\ttest: 0.9506323\tbest: 0.9879708 (0)\ttotal: 11.4s\tremaining: 30.5s\n",
            "272:\tlearn: 0.9999310\ttest: 0.9506323\tbest: 0.9879708 (0)\ttotal: 11.4s\tremaining: 30.5s\n",
            "273:\tlearn: 0.9999310\ttest: 0.9506323\tbest: 0.9879708 (0)\ttotal: 11.5s\tremaining: 30.4s\n",
            "274:\tlearn: 0.9999310\ttest: 0.9506323\tbest: 0.9879708 (0)\ttotal: 11.5s\tremaining: 30.4s\n",
            "275:\tlearn: 0.9999310\ttest: 0.9506323\tbest: 0.9879708 (0)\ttotal: 11.6s\tremaining: 30.3s\n",
            "276:\tlearn: 0.9999310\ttest: 0.9506323\tbest: 0.9879708 (0)\ttotal: 11.6s\tremaining: 30.2s\n",
            "277:\tlearn: 0.9999310\ttest: 0.9506323\tbest: 0.9879708 (0)\ttotal: 11.6s\tremaining: 30.2s\n",
            "278:\tlearn: 0.9999310\ttest: 0.9506323\tbest: 0.9879708 (0)\ttotal: 11.7s\tremaining: 30.1s\n",
            "279:\tlearn: 0.9999310\ttest: 0.9506323\tbest: 0.9879708 (0)\ttotal: 11.7s\tremaining: 30.1s\n",
            "280:\tlearn: 0.9999310\ttest: 0.9506323\tbest: 0.9879708 (0)\ttotal: 11.7s\tremaining: 30s\n",
            "281:\tlearn: 0.9999310\ttest: 0.9506323\tbest: 0.9879708 (0)\ttotal: 11.8s\tremaining: 30s\n",
            "282:\tlearn: 0.9999310\ttest: 0.9506323\tbest: 0.9879708 (0)\ttotal: 11.8s\tremaining: 29.9s\n",
            "283:\tlearn: 0.9999310\ttest: 0.9506323\tbest: 0.9879708 (0)\ttotal: 11.9s\tremaining: 29.9s\n",
            "284:\tlearn: 0.9999310\ttest: 0.9506323\tbest: 0.9879708 (0)\ttotal: 11.9s\tremaining: 29.8s\n",
            "285:\tlearn: 0.9999310\ttest: 0.9506323\tbest: 0.9879708 (0)\ttotal: 11.9s\tremaining: 29.8s\n",
            "286:\tlearn: 0.9999310\ttest: 0.9506323\tbest: 0.9879708 (0)\ttotal: 12s\tremaining: 29.7s\n",
            "287:\tlearn: 0.9999310\ttest: 0.9506323\tbest: 0.9879708 (0)\ttotal: 12s\tremaining: 29.6s\n",
            "288:\tlearn: 0.9999310\ttest: 0.9506323\tbest: 0.9879708 (0)\ttotal: 12s\tremaining: 29.6s\n",
            "289:\tlearn: 0.9999310\ttest: 0.9506323\tbest: 0.9879708 (0)\ttotal: 12.1s\tremaining: 29.5s\n",
            "290:\tlearn: 0.9999310\ttest: 0.9506323\tbest: 0.9879708 (0)\ttotal: 12.1s\tremaining: 29.5s\n",
            "291:\tlearn: 0.9999310\ttest: 0.9506323\tbest: 0.9879708 (0)\ttotal: 12.1s\tremaining: 29.4s\n",
            "292:\tlearn: 0.9999310\ttest: 0.9506323\tbest: 0.9879708 (0)\ttotal: 12.2s\tremaining: 29.4s\n",
            "293:\tlearn: 0.9999310\ttest: 0.9506323\tbest: 0.9879708 (0)\ttotal: 12.2s\tremaining: 29.3s\n",
            "294:\tlearn: 0.9999310\ttest: 0.9506323\tbest: 0.9879708 (0)\ttotal: 12.2s\tremaining: 29.3s\n",
            "295:\tlearn: 0.9999310\ttest: 0.9506323\tbest: 0.9879708 (0)\ttotal: 12.3s\tremaining: 29.2s\n",
            "296:\tlearn: 0.9999310\ttest: 0.9506323\tbest: 0.9879708 (0)\ttotal: 12.3s\tremaining: 29.1s\n",
            "297:\tlearn: 0.9999310\ttest: 0.9506323\tbest: 0.9879708 (0)\ttotal: 12.3s\tremaining: 29.1s\n",
            "298:\tlearn: 0.9999310\ttest: 0.9506323\tbest: 0.9879708 (0)\ttotal: 12.4s\tremaining: 29s\n",
            "299:\tlearn: 0.9999310\ttest: 0.9506323\tbest: 0.9879708 (0)\ttotal: 12.4s\tremaining: 29s\n",
            "300:\tlearn: 0.9999310\ttest: 0.9506323\tbest: 0.9879708 (0)\ttotal: 12.5s\tremaining: 28.9s\n",
            "301:\tlearn: 0.9999310\ttest: 0.9506323\tbest: 0.9879708 (0)\ttotal: 12.5s\tremaining: 28.9s\n",
            "302:\tlearn: 0.9999310\ttest: 0.9506323\tbest: 0.9879708 (0)\ttotal: 12.5s\tremaining: 28.8s\n",
            "303:\tlearn: 0.9999310\ttest: 0.9506323\tbest: 0.9879708 (0)\ttotal: 12.6s\tremaining: 28.8s\n",
            "304:\tlearn: 0.9999310\ttest: 0.9506323\tbest: 0.9879708 (0)\ttotal: 12.6s\tremaining: 28.7s\n",
            "305:\tlearn: 0.9999310\ttest: 0.9506323\tbest: 0.9879708 (0)\ttotal: 12.6s\tremaining: 28.6s\n",
            "306:\tlearn: 0.9999310\ttest: 0.9506323\tbest: 0.9879708 (0)\ttotal: 12.7s\tremaining: 28.6s\n",
            "307:\tlearn: 0.9999310\ttest: 0.9506323\tbest: 0.9879708 (0)\ttotal: 12.7s\tremaining: 28.5s\n",
            "308:\tlearn: 0.9999310\ttest: 0.9506323\tbest: 0.9879708 (0)\ttotal: 12.7s\tremaining: 28.5s\n",
            "309:\tlearn: 0.9999310\ttest: 0.9506323\tbest: 0.9879708 (0)\ttotal: 12.8s\tremaining: 28.4s\n",
            "310:\tlearn: 0.9999310\ttest: 0.9506323\tbest: 0.9879708 (0)\ttotal: 12.8s\tremaining: 28.4s\n",
            "311:\tlearn: 0.9999310\ttest: 0.9506323\tbest: 0.9879708 (0)\ttotal: 12.8s\tremaining: 28.3s\n",
            "312:\tlearn: 0.9999310\ttest: 0.9506323\tbest: 0.9879708 (0)\ttotal: 12.9s\tremaining: 28.3s\n",
            "313:\tlearn: 0.9999310\ttest: 0.9506323\tbest: 0.9879708 (0)\ttotal: 12.9s\tremaining: 28.2s\n",
            "314:\tlearn: 0.9999310\ttest: 0.9506323\tbest: 0.9879708 (0)\ttotal: 12.9s\tremaining: 28.1s\n",
            "315:\tlearn: 0.9999310\ttest: 0.9506323\tbest: 0.9879708 (0)\ttotal: 13s\tremaining: 28.1s\n",
            "316:\tlearn: 0.9999310\ttest: 0.9506323\tbest: 0.9879708 (0)\ttotal: 13s\tremaining: 28s\n",
            "317:\tlearn: 0.9999310\ttest: 0.9506323\tbest: 0.9879708 (0)\ttotal: 13s\tremaining: 28s\n",
            "318:\tlearn: 0.9999310\ttest: 0.9506323\tbest: 0.9879708 (0)\ttotal: 13.1s\tremaining: 27.9s\n",
            "319:\tlearn: 0.9999310\ttest: 0.9506323\tbest: 0.9879708 (0)\ttotal: 13.1s\tremaining: 27.9s\n",
            "320:\tlearn: 0.9999310\ttest: 0.9506323\tbest: 0.9879708 (0)\ttotal: 13.2s\tremaining: 27.8s\n",
            "321:\tlearn: 0.9999310\ttest: 0.9506323\tbest: 0.9879708 (0)\ttotal: 13.2s\tremaining: 27.8s\n",
            "322:\tlearn: 0.9999310\ttest: 0.9506323\tbest: 0.9879708 (0)\ttotal: 13.2s\tremaining: 27.7s\n",
            "323:\tlearn: 0.9999310\ttest: 0.9506323\tbest: 0.9879708 (0)\ttotal: 13.3s\tremaining: 27.7s\n",
            "324:\tlearn: 0.9999310\ttest: 0.9506323\tbest: 0.9879708 (0)\ttotal: 13.3s\tremaining: 27.6s\n",
            "325:\tlearn: 0.9999310\ttest: 0.9506323\tbest: 0.9879708 (0)\ttotal: 13.3s\tremaining: 27.6s\n",
            "326:\tlearn: 0.9999310\ttest: 0.9506323\tbest: 0.9879708 (0)\ttotal: 13.4s\tremaining: 27.5s\n",
            "327:\tlearn: 0.9999310\ttest: 0.9506323\tbest: 0.9879708 (0)\ttotal: 13.4s\tremaining: 27.5s\n",
            "328:\tlearn: 0.9999310\ttest: 0.9506323\tbest: 0.9879708 (0)\ttotal: 13.4s\tremaining: 27.4s\n",
            "329:\tlearn: 0.9999310\ttest: 0.9506323\tbest: 0.9879708 (0)\ttotal: 13.5s\tremaining: 27.3s\n",
            "330:\tlearn: 0.9999310\ttest: 0.9506323\tbest: 0.9879708 (0)\ttotal: 13.5s\tremaining: 27.3s\n",
            "331:\tlearn: 0.9999310\ttest: 0.9506323\tbest: 0.9879708 (0)\ttotal: 13.5s\tremaining: 27.2s\n",
            "332:\tlearn: 0.9999310\ttest: 0.9506323\tbest: 0.9879708 (0)\ttotal: 13.6s\tremaining: 27.2s\n",
            "333:\tlearn: 0.9999310\ttest: 0.9506323\tbest: 0.9879708 (0)\ttotal: 13.6s\tremaining: 27.1s\n",
            "334:\tlearn: 0.9999310\ttest: 0.9506323\tbest: 0.9879708 (0)\ttotal: 13.7s\tremaining: 27.1s\n",
            "335:\tlearn: 0.9999310\ttest: 0.9506323\tbest: 0.9879708 (0)\ttotal: 13.7s\tremaining: 27s\n",
            "336:\tlearn: 0.9999310\ttest: 0.9506323\tbest: 0.9879708 (0)\ttotal: 13.7s\tremaining: 27s\n",
            "337:\tlearn: 0.9999310\ttest: 0.9506323\tbest: 0.9879708 (0)\ttotal: 13.8s\tremaining: 26.9s\n",
            "338:\tlearn: 0.9999310\ttest: 0.9506323\tbest: 0.9879708 (0)\ttotal: 13.8s\tremaining: 26.9s\n",
            "339:\tlearn: 0.9999310\ttest: 0.9506323\tbest: 0.9879708 (0)\ttotal: 13.8s\tremaining: 26.8s\n",
            "340:\tlearn: 0.9999310\ttest: 0.9506323\tbest: 0.9879708 (0)\ttotal: 13.9s\tremaining: 26.8s\n",
            "341:\tlearn: 0.9999310\ttest: 0.9506323\tbest: 0.9879708 (0)\ttotal: 13.9s\tremaining: 26.7s\n",
            "342:\tlearn: 0.9999310\ttest: 0.9506323\tbest: 0.9879708 (0)\ttotal: 13.9s\tremaining: 26.7s\n",
            "343:\tlearn: 0.9999310\ttest: 0.9506323\tbest: 0.9879708 (0)\ttotal: 14s\tremaining: 26.6s\n",
            "344:\tlearn: 0.9999310\ttest: 0.9506323\tbest: 0.9879708 (0)\ttotal: 14s\tremaining: 26.6s\n",
            "345:\tlearn: 0.9999310\ttest: 0.9506323\tbest: 0.9879708 (0)\ttotal: 14s\tremaining: 26.5s\n",
            "346:\tlearn: 0.9999310\ttest: 0.9506323\tbest: 0.9879708 (0)\ttotal: 14.1s\tremaining: 26.5s\n",
            "347:\tlearn: 0.9999310\ttest: 0.9506323\tbest: 0.9879708 (0)\ttotal: 14.1s\tremaining: 26.4s\n",
            "348:\tlearn: 0.9999310\ttest: 0.9506323\tbest: 0.9879708 (0)\ttotal: 14.1s\tremaining: 26.4s\n",
            "349:\tlearn: 0.9999310\ttest: 0.9506323\tbest: 0.9879708 (0)\ttotal: 14.2s\tremaining: 26.3s\n",
            "350:\tlearn: 0.9999310\ttest: 0.9506323\tbest: 0.9879708 (0)\ttotal: 14.2s\tremaining: 26.3s\n",
            "351:\tlearn: 0.9999310\ttest: 0.9506323\tbest: 0.9879708 (0)\ttotal: 14.3s\tremaining: 26.2s\n",
            "352:\tlearn: 0.9999310\ttest: 0.9506323\tbest: 0.9879708 (0)\ttotal: 14.3s\tremaining: 26.2s\n",
            "353:\tlearn: 0.9999310\ttest: 0.9506323\tbest: 0.9879708 (0)\ttotal: 14.3s\tremaining: 26.1s\n",
            "354:\tlearn: 0.9999310\ttest: 0.9506323\tbest: 0.9879708 (0)\ttotal: 14.4s\tremaining: 26.1s\n",
            "355:\tlearn: 0.9999310\ttest: 0.9506323\tbest: 0.9879708 (0)\ttotal: 14.4s\tremaining: 26s\n",
            "356:\tlearn: 0.9999310\ttest: 0.9506323\tbest: 0.9879708 (0)\ttotal: 14.4s\tremaining: 26s\n",
            "357:\tlearn: 0.9999310\ttest: 0.9506323\tbest: 0.9879708 (0)\ttotal: 14.5s\tremaining: 25.9s\n",
            "358:\tlearn: 0.9999310\ttest: 0.9506323\tbest: 0.9879708 (0)\ttotal: 14.5s\tremaining: 25.9s\n",
            "359:\tlearn: 0.9999310\ttest: 0.9506323\tbest: 0.9879708 (0)\ttotal: 14.5s\tremaining: 25.8s\n",
            "360:\tlearn: 0.9999310\ttest: 0.9506323\tbest: 0.9879708 (0)\ttotal: 14.6s\tremaining: 25.8s\n",
            "361:\tlearn: 0.9999310\ttest: 0.9506323\tbest: 0.9879708 (0)\ttotal: 14.6s\tremaining: 25.7s\n",
            "362:\tlearn: 0.9999310\ttest: 0.9506323\tbest: 0.9879708 (0)\ttotal: 14.6s\tremaining: 25.7s\n",
            "363:\tlearn: 0.9999310\ttest: 0.9506323\tbest: 0.9879708 (0)\ttotal: 14.7s\tremaining: 25.6s\n",
            "364:\tlearn: 0.9999310\ttest: 0.9506323\tbest: 0.9879708 (0)\ttotal: 14.7s\tremaining: 25.6s\n",
            "365:\tlearn: 0.9999310\ttest: 0.9506323\tbest: 0.9879708 (0)\ttotal: 14.8s\tremaining: 25.6s\n",
            "366:\tlearn: 0.9999310\ttest: 0.9506323\tbest: 0.9879708 (0)\ttotal: 14.8s\tremaining: 25.5s\n",
            "367:\tlearn: 0.9999310\ttest: 0.9506323\tbest: 0.9879708 (0)\ttotal: 14.8s\tremaining: 25.4s\n",
            "368:\tlearn: 0.9999310\ttest: 0.9506323\tbest: 0.9879708 (0)\ttotal: 14.9s\tremaining: 25.4s\n",
            "369:\tlearn: 0.9999310\ttest: 0.9506323\tbest: 0.9879708 (0)\ttotal: 14.9s\tremaining: 25.4s\n",
            "370:\tlearn: 0.9999310\ttest: 0.9506323\tbest: 0.9879708 (0)\ttotal: 14.9s\tremaining: 25.3s\n",
            "371:\tlearn: 0.9999310\ttest: 0.9506323\tbest: 0.9879708 (0)\ttotal: 15s\tremaining: 25.3s\n",
            "372:\tlearn: 0.9999310\ttest: 0.9506323\tbest: 0.9879708 (0)\ttotal: 15s\tremaining: 25.2s\n",
            "373:\tlearn: 0.9999310\ttest: 0.9506323\tbest: 0.9879708 (0)\ttotal: 15s\tremaining: 25.2s\n",
            "374:\tlearn: 0.9999310\ttest: 0.9506323\tbest: 0.9879708 (0)\ttotal: 15.1s\tremaining: 25.1s\n",
            "375:\tlearn: 0.9999310\ttest: 0.9506323\tbest: 0.9879708 (0)\ttotal: 15.1s\tremaining: 25.1s\n",
            "376:\tlearn: 0.9999310\ttest: 0.9506323\tbest: 0.9879708 (0)\ttotal: 15.1s\tremaining: 25s\n",
            "377:\tlearn: 0.9999310\ttest: 0.9506323\tbest: 0.9879708 (0)\ttotal: 15.2s\tremaining: 25s\n",
            "378:\tlearn: 0.9999310\ttest: 0.9506323\tbest: 0.9879708 (0)\ttotal: 15.2s\tremaining: 24.9s\n",
            "379:\tlearn: 0.9999310\ttest: 0.9506323\tbest: 0.9879708 (0)\ttotal: 15.2s\tremaining: 24.9s\n",
            "380:\tlearn: 0.9999310\ttest: 0.9506323\tbest: 0.9879708 (0)\ttotal: 15.3s\tremaining: 24.8s\n",
            "381:\tlearn: 0.9999310\ttest: 0.9506323\tbest: 0.9879708 (0)\ttotal: 15.3s\tremaining: 24.8s\n",
            "382:\tlearn: 0.9999310\ttest: 0.9506323\tbest: 0.9879708 (0)\ttotal: 15.4s\tremaining: 24.7s\n",
            "383:\tlearn: 0.9999310\ttest: 0.9506323\tbest: 0.9879708 (0)\ttotal: 15.4s\tremaining: 24.7s\n",
            "384:\tlearn: 0.9999310\ttest: 0.9506323\tbest: 0.9879708 (0)\ttotal: 15.4s\tremaining: 24.6s\n",
            "385:\tlearn: 0.9999310\ttest: 0.9506323\tbest: 0.9879708 (0)\ttotal: 15.5s\tremaining: 24.6s\n",
            "386:\tlearn: 0.9999310\ttest: 0.9506323\tbest: 0.9879708 (0)\ttotal: 15.5s\tremaining: 24.5s\n",
            "387:\tlearn: 0.9999310\ttest: 0.9506323\tbest: 0.9879708 (0)\ttotal: 15.5s\tremaining: 24.5s\n",
            "388:\tlearn: 0.9999310\ttest: 0.9506323\tbest: 0.9879708 (0)\ttotal: 15.6s\tremaining: 24.4s\n",
            "389:\tlearn: 0.9999310\ttest: 0.9506323\tbest: 0.9879708 (0)\ttotal: 15.6s\tremaining: 24.4s\n",
            "390:\tlearn: 0.9999310\ttest: 0.9506323\tbest: 0.9879708 (0)\ttotal: 15.6s\tremaining: 24.3s\n",
            "391:\tlearn: 0.9999310\ttest: 0.9506323\tbest: 0.9879708 (0)\ttotal: 15.7s\tremaining: 24.3s\n",
            "392:\tlearn: 0.9999310\ttest: 0.9506323\tbest: 0.9879708 (0)\ttotal: 15.7s\tremaining: 24.3s\n",
            "393:\tlearn: 0.9999310\ttest: 0.9506323\tbest: 0.9879708 (0)\ttotal: 15.7s\tremaining: 24.2s\n",
            "394:\tlearn: 0.9999310\ttest: 0.9506323\tbest: 0.9879708 (0)\ttotal: 15.8s\tremaining: 24.2s\n",
            "395:\tlearn: 0.9999310\ttest: 0.9506323\tbest: 0.9879708 (0)\ttotal: 15.8s\tremaining: 24.1s\n",
            "396:\tlearn: 0.9999310\ttest: 0.9506323\tbest: 0.9879708 (0)\ttotal: 15.9s\tremaining: 24.1s\n",
            "397:\tlearn: 0.9999310\ttest: 0.9506323\tbest: 0.9879708 (0)\ttotal: 15.9s\tremaining: 24s\n",
            "398:\tlearn: 0.9999310\ttest: 0.9506323\tbest: 0.9879708 (0)\ttotal: 15.9s\tremaining: 24s\n",
            "399:\tlearn: 0.9999310\ttest: 0.9506323\tbest: 0.9879708 (0)\ttotal: 16s\tremaining: 23.9s\n",
            "400:\tlearn: 0.9999310\ttest: 0.9506323\tbest: 0.9879708 (0)\ttotal: 16s\tremaining: 23.9s\n",
            "401:\tlearn: 0.9999310\ttest: 0.9506323\tbest: 0.9879708 (0)\ttotal: 16s\tremaining: 23.8s\n",
            "402:\tlearn: 0.9999310\ttest: 0.9506478\tbest: 0.9879708 (0)\ttotal: 16.1s\tremaining: 23.8s\n",
            "403:\tlearn: 0.9999310\ttest: 0.9506478\tbest: 0.9879708 (0)\ttotal: 16.1s\tremaining: 23.8s\n",
            "404:\tlearn: 0.9999310\ttest: 0.9508022\tbest: 0.9879708 (0)\ttotal: 16.2s\tremaining: 23.7s\n",
            "405:\tlearn: 0.9999310\ttest: 0.9508022\tbest: 0.9879708 (0)\ttotal: 16.2s\tremaining: 23.7s\n",
            "406:\tlearn: 0.9999310\ttest: 0.9508022\tbest: 0.9879708 (0)\ttotal: 16.2s\tremaining: 23.7s\n",
            "407:\tlearn: 0.9999310\ttest: 0.9507868\tbest: 0.9879708 (0)\ttotal: 16.3s\tremaining: 23.6s\n",
            "408:\tlearn: 0.9999310\ttest: 0.9507868\tbest: 0.9879708 (0)\ttotal: 16.3s\tremaining: 23.6s\n",
            "409:\tlearn: 0.9999310\ttest: 0.9507868\tbest: 0.9879708 (0)\ttotal: 16.3s\tremaining: 23.5s\n",
            "410:\tlearn: 0.9999310\ttest: 0.9507868\tbest: 0.9879708 (0)\ttotal: 16.4s\tremaining: 23.5s\n",
            "411:\tlearn: 0.9999310\ttest: 0.9507868\tbest: 0.9879708 (0)\ttotal: 16.4s\tremaining: 23.4s\n",
            "412:\tlearn: 0.9999310\ttest: 0.9507868\tbest: 0.9879708 (0)\ttotal: 16.4s\tremaining: 23.4s\n",
            "413:\tlearn: 0.9999310\ttest: 0.9507868\tbest: 0.9879708 (0)\ttotal: 16.5s\tremaining: 23.3s\n",
            "414:\tlearn: 0.9999310\ttest: 0.9507868\tbest: 0.9879708 (0)\ttotal: 16.5s\tremaining: 23.3s\n",
            "415:\tlearn: 0.9999310\ttest: 0.9507868\tbest: 0.9879708 (0)\ttotal: 16.5s\tremaining: 23.2s\n",
            "416:\tlearn: 0.9999310\ttest: 0.9507868\tbest: 0.9879708 (0)\ttotal: 16.6s\tremaining: 23.2s\n",
            "417:\tlearn: 0.9999310\ttest: 0.9507868\tbest: 0.9879708 (0)\ttotal: 16.6s\tremaining: 23.1s\n",
            "418:\tlearn: 0.9999310\ttest: 0.9507868\tbest: 0.9879708 (0)\ttotal: 16.6s\tremaining: 23.1s\n",
            "419:\tlearn: 0.9999310\ttest: 0.9507868\tbest: 0.9879708 (0)\ttotal: 16.7s\tremaining: 23s\n",
            "420:\tlearn: 0.9999310\ttest: 0.9507868\tbest: 0.9879708 (0)\ttotal: 16.7s\tremaining: 23s\n",
            "421:\tlearn: 0.9999310\ttest: 0.9507868\tbest: 0.9879708 (0)\ttotal: 16.7s\tremaining: 22.9s\n",
            "422:\tlearn: 0.9999310\ttest: 0.9507868\tbest: 0.9879708 (0)\ttotal: 16.8s\tremaining: 22.9s\n",
            "423:\tlearn: 0.9999310\ttest: 0.9507868\tbest: 0.9879708 (0)\ttotal: 16.8s\tremaining: 22.9s\n",
            "424:\tlearn: 0.9999310\ttest: 0.9507868\tbest: 0.9879708 (0)\ttotal: 16.9s\tremaining: 22.8s\n",
            "425:\tlearn: 0.9999310\ttest: 0.9507868\tbest: 0.9879708 (0)\ttotal: 16.9s\tremaining: 22.8s\n",
            "426:\tlearn: 0.9999310\ttest: 0.9507868\tbest: 0.9879708 (0)\ttotal: 16.9s\tremaining: 22.7s\n",
            "427:\tlearn: 0.9999310\ttest: 0.9507868\tbest: 0.9879708 (0)\ttotal: 17s\tremaining: 22.7s\n",
            "428:\tlearn: 0.9999310\ttest: 0.9507868\tbest: 0.9879708 (0)\ttotal: 17s\tremaining: 22.6s\n",
            "429:\tlearn: 0.9999310\ttest: 0.9507868\tbest: 0.9879708 (0)\ttotal: 17s\tremaining: 22.6s\n",
            "430:\tlearn: 0.9999310\ttest: 0.9507868\tbest: 0.9879708 (0)\ttotal: 17.1s\tremaining: 22.5s\n",
            "431:\tlearn: 0.9999310\ttest: 0.9507868\tbest: 0.9879708 (0)\ttotal: 17.1s\tremaining: 22.5s\n",
            "432:\tlearn: 0.9999310\ttest: 0.9507868\tbest: 0.9879708 (0)\ttotal: 17.1s\tremaining: 22.4s\n",
            "433:\tlearn: 0.9999310\ttest: 0.9507868\tbest: 0.9879708 (0)\ttotal: 17.2s\tremaining: 22.4s\n",
            "434:\tlearn: 0.9999310\ttest: 0.9507868\tbest: 0.9879708 (0)\ttotal: 17.2s\tremaining: 22.3s\n",
            "435:\tlearn: 0.9999310\ttest: 0.9507868\tbest: 0.9879708 (0)\ttotal: 17.2s\tremaining: 22.3s\n",
            "436:\tlearn: 0.9999310\ttest: 0.9507868\tbest: 0.9879708 (0)\ttotal: 17.3s\tremaining: 22.3s\n",
            "437:\tlearn: 0.9999310\ttest: 0.9507868\tbest: 0.9879708 (0)\ttotal: 17.3s\tremaining: 22.2s\n",
            "438:\tlearn: 0.9999310\ttest: 0.9507868\tbest: 0.9879708 (0)\ttotal: 17.3s\tremaining: 22.2s\n",
            "439:\tlearn: 0.9999310\ttest: 0.9507868\tbest: 0.9879708 (0)\ttotal: 17.4s\tremaining: 22.1s\n",
            "440:\tlearn: 0.9999310\ttest: 0.9507868\tbest: 0.9879708 (0)\ttotal: 17.4s\tremaining: 22.1s\n",
            "441:\tlearn: 0.9999310\ttest: 0.9507868\tbest: 0.9879708 (0)\ttotal: 17.4s\tremaining: 22s\n",
            "442:\tlearn: 0.9999310\ttest: 0.9507868\tbest: 0.9879708 (0)\ttotal: 17.5s\tremaining: 22s\n",
            "443:\tlearn: 0.9999310\ttest: 0.9507868\tbest: 0.9879708 (0)\ttotal: 17.5s\tremaining: 21.9s\n",
            "444:\tlearn: 0.9999310\ttest: 0.9507868\tbest: 0.9879708 (0)\ttotal: 17.5s\tremaining: 21.9s\n",
            "445:\tlearn: 0.9999310\ttest: 0.9507868\tbest: 0.9879708 (0)\ttotal: 17.6s\tremaining: 21.8s\n",
            "446:\tlearn: 0.9999310\ttest: 0.9507868\tbest: 0.9879708 (0)\ttotal: 17.6s\tremaining: 21.8s\n",
            "447:\tlearn: 0.9999310\ttest: 0.9507868\tbest: 0.9879708 (0)\ttotal: 17.6s\tremaining: 21.7s\n",
            "448:\tlearn: 0.9999310\ttest: 0.9507868\tbest: 0.9879708 (0)\ttotal: 17.7s\tremaining: 21.7s\n",
            "449:\tlearn: 0.9999310\ttest: 0.9507868\tbest: 0.9879708 (0)\ttotal: 17.7s\tremaining: 21.7s\n",
            "450:\tlearn: 0.9999310\ttest: 0.9507868\tbest: 0.9879708 (0)\ttotal: 17.8s\tremaining: 21.6s\n",
            "451:\tlearn: 0.9999310\ttest: 0.9507868\tbest: 0.9879708 (0)\ttotal: 17.8s\tremaining: 21.6s\n",
            "452:\tlearn: 0.9999310\ttest: 0.9507868\tbest: 0.9879708 (0)\ttotal: 17.8s\tremaining: 21.5s\n",
            "453:\tlearn: 0.9999310\ttest: 0.9507868\tbest: 0.9879708 (0)\ttotal: 17.9s\tremaining: 21.5s\n",
            "454:\tlearn: 0.9999310\ttest: 0.9507868\tbest: 0.9879708 (0)\ttotal: 17.9s\tremaining: 21.4s\n",
            "455:\tlearn: 0.9999310\ttest: 0.9507868\tbest: 0.9879708 (0)\ttotal: 17.9s\tremaining: 21.4s\n",
            "456:\tlearn: 0.9999310\ttest: 0.9507868\tbest: 0.9879708 (0)\ttotal: 18s\tremaining: 21.3s\n",
            "457:\tlearn: 0.9999310\ttest: 0.9507868\tbest: 0.9879708 (0)\ttotal: 18s\tremaining: 21.3s\n",
            "458:\tlearn: 0.9999310\ttest: 0.9507868\tbest: 0.9879708 (0)\ttotal: 18s\tremaining: 21.2s\n",
            "459:\tlearn: 0.9999310\ttest: 0.9507868\tbest: 0.9879708 (0)\ttotal: 18.1s\tremaining: 21.2s\n",
            "460:\tlearn: 0.9999310\ttest: 0.9507868\tbest: 0.9879708 (0)\ttotal: 18.1s\tremaining: 21.1s\n",
            "461:\tlearn: 0.9999310\ttest: 0.9507868\tbest: 0.9879708 (0)\ttotal: 18.1s\tremaining: 21.1s\n",
            "462:\tlearn: 0.9999310\ttest: 0.9507868\tbest: 0.9879708 (0)\ttotal: 18.2s\tremaining: 21.1s\n",
            "463:\tlearn: 0.9999310\ttest: 0.9507868\tbest: 0.9879708 (0)\ttotal: 18.2s\tremaining: 21s\n",
            "464:\tlearn: 0.9999310\ttest: 0.9507868\tbest: 0.9879708 (0)\ttotal: 18.2s\tremaining: 21s\n",
            "465:\tlearn: 0.9999310\ttest: 0.9507868\tbest: 0.9879708 (0)\ttotal: 18.3s\tremaining: 20.9s\n",
            "466:\tlearn: 0.9999310\ttest: 0.9507868\tbest: 0.9879708 (0)\ttotal: 18.3s\tremaining: 20.9s\n",
            "467:\tlearn: 0.9999310\ttest: 0.9507868\tbest: 0.9879708 (0)\ttotal: 18.3s\tremaining: 20.8s\n",
            "468:\tlearn: 0.9999310\ttest: 0.9507868\tbest: 0.9879708 (0)\ttotal: 18.4s\tremaining: 20.8s\n",
            "469:\tlearn: 0.9999310\ttest: 0.9507868\tbest: 0.9879708 (0)\ttotal: 18.4s\tremaining: 20.8s\n",
            "470:\tlearn: 0.9999310\ttest: 0.9507868\tbest: 0.9879708 (0)\ttotal: 18.4s\tremaining: 20.7s\n",
            "471:\tlearn: 0.9999310\ttest: 0.9507868\tbest: 0.9879708 (0)\ttotal: 18.5s\tremaining: 20.7s\n",
            "472:\tlearn: 0.9999310\ttest: 0.9507868\tbest: 0.9879708 (0)\ttotal: 18.5s\tremaining: 20.6s\n",
            "473:\tlearn: 0.9999310\ttest: 0.9507868\tbest: 0.9879708 (0)\ttotal: 18.5s\tremaining: 20.6s\n",
            "474:\tlearn: 0.9999310\ttest: 0.9507868\tbest: 0.9879708 (0)\ttotal: 18.6s\tremaining: 20.5s\n",
            "475:\tlearn: 0.9999310\ttest: 0.9507868\tbest: 0.9879708 (0)\ttotal: 18.6s\tremaining: 20.5s\n",
            "476:\tlearn: 0.9999310\ttest: 0.9507868\tbest: 0.9879708 (0)\ttotal: 18.6s\tremaining: 20.4s\n",
            "477:\tlearn: 0.9999310\ttest: 0.9507868\tbest: 0.9879708 (0)\ttotal: 18.7s\tremaining: 20.4s\n",
            "478:\tlearn: 0.9999310\ttest: 0.9507868\tbest: 0.9879708 (0)\ttotal: 18.7s\tremaining: 20.3s\n",
            "479:\tlearn: 0.9999310\ttest: 0.9507868\tbest: 0.9879708 (0)\ttotal: 18.7s\tremaining: 20.3s\n",
            "480:\tlearn: 0.9999310\ttest: 0.9507868\tbest: 0.9879708 (0)\ttotal: 18.8s\tremaining: 20.2s\n",
            "481:\tlearn: 0.9999310\ttest: 0.9507868\tbest: 0.9879708 (0)\ttotal: 18.8s\tremaining: 20.2s\n",
            "482:\tlearn: 0.9999310\ttest: 0.9507868\tbest: 0.9879708 (0)\ttotal: 18.8s\tremaining: 20.2s\n",
            "483:\tlearn: 0.9999310\ttest: 0.9507868\tbest: 0.9879708 (0)\ttotal: 18.9s\tremaining: 20.1s\n",
            "484:\tlearn: 0.9999310\ttest: 0.9507868\tbest: 0.9879708 (0)\ttotal: 18.9s\tremaining: 20.1s\n",
            "485:\tlearn: 0.9999310\ttest: 0.9507868\tbest: 0.9879708 (0)\ttotal: 18.9s\tremaining: 20s\n",
            "486:\tlearn: 0.9999310\ttest: 0.9507868\tbest: 0.9879708 (0)\ttotal: 19s\tremaining: 20s\n",
            "487:\tlearn: 0.9999310\ttest: 0.9507868\tbest: 0.9879708 (0)\ttotal: 19s\tremaining: 19.9s\n",
            "488:\tlearn: 0.9999310\ttest: 0.9507868\tbest: 0.9879708 (0)\ttotal: 19s\tremaining: 19.9s\n",
            "489:\tlearn: 0.9999310\ttest: 0.9507868\tbest: 0.9879708 (0)\ttotal: 19.1s\tremaining: 19.8s\n",
            "490:\tlearn: 0.9999310\ttest: 0.9507868\tbest: 0.9879708 (0)\ttotal: 19.1s\tremaining: 19.8s\n",
            "491:\tlearn: 0.9999310\ttest: 0.9507868\tbest: 0.9879708 (0)\ttotal: 19.1s\tremaining: 19.8s\n",
            "492:\tlearn: 0.9999310\ttest: 0.9507868\tbest: 0.9879708 (0)\ttotal: 19.2s\tremaining: 19.7s\n",
            "493:\tlearn: 0.9999310\ttest: 0.9507868\tbest: 0.9879708 (0)\ttotal: 19.2s\tremaining: 19.7s\n",
            "494:\tlearn: 0.9999310\ttest: 0.9507868\tbest: 0.9879708 (0)\ttotal: 19.2s\tremaining: 19.6s\n",
            "495:\tlearn: 0.9999310\ttest: 0.9507868\tbest: 0.9879708 (0)\ttotal: 19.3s\tremaining: 19.6s\n",
            "496:\tlearn: 0.9999310\ttest: 0.9507868\tbest: 0.9879708 (0)\ttotal: 19.3s\tremaining: 19.6s\n",
            "497:\tlearn: 0.9999310\ttest: 0.9507868\tbest: 0.9879708 (0)\ttotal: 19.4s\tremaining: 19.5s\n",
            "498:\tlearn: 0.9999310\ttest: 0.9507868\tbest: 0.9879708 (0)\ttotal: 19.4s\tremaining: 19.5s\n",
            "499:\tlearn: 0.9999310\ttest: 0.9507868\tbest: 0.9879708 (0)\ttotal: 19.4s\tremaining: 19.4s\n",
            "500:\tlearn: 0.9999310\ttest: 0.9507868\tbest: 0.9879708 (0)\ttotal: 19.5s\tremaining: 19.4s\n",
            "501:\tlearn: 0.9999310\ttest: 0.9507868\tbest: 0.9879708 (0)\ttotal: 19.5s\tremaining: 19.3s\n",
            "502:\tlearn: 0.9999310\ttest: 0.9507868\tbest: 0.9879708 (0)\ttotal: 19.5s\tremaining: 19.3s\n",
            "503:\tlearn: 0.9999310\ttest: 0.9507868\tbest: 0.9879708 (0)\ttotal: 19.6s\tremaining: 19.2s\n",
            "504:\tlearn: 0.9999310\ttest: 0.9507868\tbest: 0.9879708 (0)\ttotal: 19.6s\tremaining: 19.2s\n",
            "505:\tlearn: 0.9999310\ttest: 0.9507868\tbest: 0.9879708 (0)\ttotal: 19.6s\tremaining: 19.2s\n",
            "506:\tlearn: 0.9999310\ttest: 0.9507868\tbest: 0.9879708 (0)\ttotal: 19.7s\tremaining: 19.1s\n",
            "507:\tlearn: 0.9999310\ttest: 0.9507868\tbest: 0.9879708 (0)\ttotal: 19.7s\tremaining: 19.1s\n",
            "508:\tlearn: 0.9999310\ttest: 0.9507868\tbest: 0.9879708 (0)\ttotal: 19.7s\tremaining: 19s\n",
            "509:\tlearn: 0.9999310\ttest: 0.9507868\tbest: 0.9879708 (0)\ttotal: 19.8s\tremaining: 19s\n",
            "510:\tlearn: 0.9999310\ttest: 0.9507868\tbest: 0.9879708 (0)\ttotal: 19.8s\tremaining: 18.9s\n",
            "511:\tlearn: 0.9999310\ttest: 0.9507868\tbest: 0.9879708 (0)\ttotal: 19.8s\tremaining: 18.9s\n",
            "512:\tlearn: 0.9999310\ttest: 0.9507868\tbest: 0.9879708 (0)\ttotal: 19.9s\tremaining: 18.9s\n",
            "513:\tlearn: 0.9999310\ttest: 0.9507868\tbest: 0.9879708 (0)\ttotal: 19.9s\tremaining: 18.8s\n",
            "514:\tlearn: 0.9999310\ttest: 0.9507868\tbest: 0.9879708 (0)\ttotal: 19.9s\tremaining: 18.8s\n",
            "515:\tlearn: 0.9999310\ttest: 0.9507868\tbest: 0.9879708 (0)\ttotal: 20s\tremaining: 18.7s\n",
            "516:\tlearn: 0.9999310\ttest: 0.9507868\tbest: 0.9879708 (0)\ttotal: 20s\tremaining: 18.7s\n",
            "517:\tlearn: 0.9999310\ttest: 0.9507868\tbest: 0.9879708 (0)\ttotal: 20s\tremaining: 18.6s\n",
            "518:\tlearn: 0.9999310\ttest: 0.9507868\tbest: 0.9879708 (0)\ttotal: 20.1s\tremaining: 18.6s\n",
            "519:\tlearn: 0.9999310\ttest: 0.9507868\tbest: 0.9879708 (0)\ttotal: 20.1s\tremaining: 18.6s\n",
            "520:\tlearn: 0.9999310\ttest: 0.9507868\tbest: 0.9879708 (0)\ttotal: 20.1s\tremaining: 18.5s\n",
            "521:\tlearn: 0.9999310\ttest: 0.9507868\tbest: 0.9879708 (0)\ttotal: 20.2s\tremaining: 18.5s\n",
            "522:\tlearn: 0.9999310\ttest: 0.9507868\tbest: 0.9879708 (0)\ttotal: 20.2s\tremaining: 18.4s\n",
            "523:\tlearn: 0.9999310\ttest: 0.9507868\tbest: 0.9879708 (0)\ttotal: 20.2s\tremaining: 18.4s\n",
            "524:\tlearn: 0.9999310\ttest: 0.9507868\tbest: 0.9879708 (0)\ttotal: 20.3s\tremaining: 18.3s\n",
            "525:\tlearn: 0.9999310\ttest: 0.9507868\tbest: 0.9879708 (0)\ttotal: 20.3s\tremaining: 18.3s\n",
            "526:\tlearn: 0.9999310\ttest: 0.9507868\tbest: 0.9879708 (0)\ttotal: 20.3s\tremaining: 18.3s\n",
            "527:\tlearn: 0.9999310\ttest: 0.9507868\tbest: 0.9879708 (0)\ttotal: 20.4s\tremaining: 18.2s\n",
            "528:\tlearn: 0.9999310\ttest: 0.9507868\tbest: 0.9879708 (0)\ttotal: 20.4s\tremaining: 18.2s\n",
            "529:\tlearn: 0.9999310\ttest: 0.9507868\tbest: 0.9879708 (0)\ttotal: 20.4s\tremaining: 18.1s\n",
            "530:\tlearn: 0.9999310\ttest: 0.9507868\tbest: 0.9879708 (0)\ttotal: 20.5s\tremaining: 18.1s\n",
            "531:\tlearn: 0.9999310\ttest: 0.9507868\tbest: 0.9879708 (0)\ttotal: 20.5s\tremaining: 18s\n",
            "532:\tlearn: 0.9999310\ttest: 0.9507868\tbest: 0.9879708 (0)\ttotal: 20.5s\tremaining: 18s\n",
            "533:\tlearn: 0.9999310\ttest: 0.9507868\tbest: 0.9879708 (0)\ttotal: 20.6s\tremaining: 17.9s\n",
            "534:\tlearn: 0.9999310\ttest: 0.9507868\tbest: 0.9879708 (0)\ttotal: 20.6s\tremaining: 17.9s\n",
            "535:\tlearn: 0.9999310\ttest: 0.9507868\tbest: 0.9879708 (0)\ttotal: 20.6s\tremaining: 17.9s\n",
            "536:\tlearn: 0.9999310\ttest: 0.9507868\tbest: 0.9879708 (0)\ttotal: 20.7s\tremaining: 17.8s\n",
            "537:\tlearn: 0.9999310\ttest: 0.9507868\tbest: 0.9879708 (0)\ttotal: 20.7s\tremaining: 17.8s\n",
            "538:\tlearn: 0.9999310\ttest: 0.9507868\tbest: 0.9879708 (0)\ttotal: 20.7s\tremaining: 17.7s\n",
            "539:\tlearn: 0.9999310\ttest: 0.9507868\tbest: 0.9879708 (0)\ttotal: 20.8s\tremaining: 17.7s\n",
            "540:\tlearn: 0.9999310\ttest: 0.9507868\tbest: 0.9879708 (0)\ttotal: 20.8s\tremaining: 17.6s\n",
            "541:\tlearn: 0.9999310\ttest: 0.9507868\tbest: 0.9879708 (0)\ttotal: 20.8s\tremaining: 17.6s\n",
            "542:\tlearn: 0.9999310\ttest: 0.9507868\tbest: 0.9879708 (0)\ttotal: 20.9s\tremaining: 17.6s\n",
            "543:\tlearn: 0.9999310\ttest: 0.9507868\tbest: 0.9879708 (0)\ttotal: 20.9s\tremaining: 17.5s\n",
            "544:\tlearn: 0.9999310\ttest: 0.9507868\tbest: 0.9879708 (0)\ttotal: 20.9s\tremaining: 17.5s\n",
            "545:\tlearn: 0.9999310\ttest: 0.9507868\tbest: 0.9879708 (0)\ttotal: 21s\tremaining: 17.4s\n",
            "546:\tlearn: 0.9999310\ttest: 0.9507868\tbest: 0.9879708 (0)\ttotal: 21s\tremaining: 17.4s\n",
            "547:\tlearn: 0.9999310\ttest: 0.9507868\tbest: 0.9879708 (0)\ttotal: 21s\tremaining: 17.4s\n",
            "548:\tlearn: 0.9999310\ttest: 0.9507868\tbest: 0.9879708 (0)\ttotal: 21.1s\tremaining: 17.3s\n",
            "549:\tlearn: 0.9999310\ttest: 0.9507868\tbest: 0.9879708 (0)\ttotal: 21.1s\tremaining: 17.3s\n",
            "550:\tlearn: 0.9999310\ttest: 0.9507868\tbest: 0.9879708 (0)\ttotal: 21.1s\tremaining: 17.2s\n",
            "551:\tlearn: 0.9999310\ttest: 0.9507868\tbest: 0.9879708 (0)\ttotal: 21.2s\tremaining: 17.2s\n",
            "552:\tlearn: 0.9999310\ttest: 0.9507868\tbest: 0.9879708 (0)\ttotal: 21.2s\tremaining: 17.1s\n",
            "553:\tlearn: 0.9999310\ttest: 0.9507868\tbest: 0.9879708 (0)\ttotal: 21.2s\tremaining: 17.1s\n",
            "554:\tlearn: 0.9999310\ttest: 0.9507868\tbest: 0.9879708 (0)\ttotal: 21.3s\tremaining: 17.1s\n",
            "555:\tlearn: 0.9999310\ttest: 0.9507868\tbest: 0.9879708 (0)\ttotal: 21.3s\tremaining: 17s\n",
            "556:\tlearn: 0.9999310\ttest: 0.9507868\tbest: 0.9879708 (0)\ttotal: 21.4s\tremaining: 17s\n",
            "557:\tlearn: 0.9999310\ttest: 0.9507868\tbest: 0.9879708 (0)\ttotal: 21.4s\tremaining: 16.9s\n",
            "558:\tlearn: 0.9999310\ttest: 0.9507868\tbest: 0.9879708 (0)\ttotal: 21.4s\tremaining: 16.9s\n",
            "559:\tlearn: 0.9999310\ttest: 0.9507868\tbest: 0.9879708 (0)\ttotal: 21.5s\tremaining: 16.9s\n",
            "560:\tlearn: 0.9999310\ttest: 0.9507868\tbest: 0.9879708 (0)\ttotal: 21.5s\tremaining: 16.8s\n",
            "561:\tlearn: 0.9999310\ttest: 0.9507868\tbest: 0.9879708 (0)\ttotal: 21.5s\tremaining: 16.8s\n",
            "562:\tlearn: 0.9999310\ttest: 0.9507868\tbest: 0.9879708 (0)\ttotal: 21.6s\tremaining: 16.7s\n",
            "563:\tlearn: 0.9999310\ttest: 0.9507868\tbest: 0.9879708 (0)\ttotal: 21.6s\tremaining: 16.7s\n",
            "564:\tlearn: 0.9999310\ttest: 0.9507868\tbest: 0.9879708 (0)\ttotal: 21.6s\tremaining: 16.7s\n",
            "565:\tlearn: 0.9999310\ttest: 0.9507868\tbest: 0.9879708 (0)\ttotal: 21.7s\tremaining: 16.6s\n",
            "566:\tlearn: 0.9999310\ttest: 0.9507868\tbest: 0.9879708 (0)\ttotal: 21.7s\tremaining: 16.6s\n",
            "567:\tlearn: 0.9999310\ttest: 0.9507868\tbest: 0.9879708 (0)\ttotal: 21.7s\tremaining: 16.5s\n",
            "568:\tlearn: 0.9999310\ttest: 0.9507868\tbest: 0.9879708 (0)\ttotal: 21.8s\tremaining: 16.5s\n",
            "569:\tlearn: 0.9999310\ttest: 0.9507868\tbest: 0.9879708 (0)\ttotal: 21.8s\tremaining: 16.4s\n",
            "570:\tlearn: 0.9999310\ttest: 0.9507868\tbest: 0.9879708 (0)\ttotal: 21.8s\tremaining: 16.4s\n",
            "571:\tlearn: 0.9999310\ttest: 0.9507868\tbest: 0.9879708 (0)\ttotal: 21.9s\tremaining: 16.4s\n",
            "572:\tlearn: 0.9999310\ttest: 0.9507868\tbest: 0.9879708 (0)\ttotal: 21.9s\tremaining: 16.3s\n",
            "573:\tlearn: 0.9999310\ttest: 0.9507868\tbest: 0.9879708 (0)\ttotal: 21.9s\tremaining: 16.3s\n",
            "574:\tlearn: 0.9999310\ttest: 0.9507868\tbest: 0.9879708 (0)\ttotal: 22s\tremaining: 16.2s\n",
            "575:\tlearn: 0.9999310\ttest: 0.9507868\tbest: 0.9879708 (0)\ttotal: 22s\tremaining: 16.2s\n",
            "576:\tlearn: 0.9999310\ttest: 0.9507868\tbest: 0.9879708 (0)\ttotal: 22.1s\tremaining: 16.2s\n",
            "577:\tlearn: 0.9999310\ttest: 0.9507868\tbest: 0.9879708 (0)\ttotal: 22.1s\tremaining: 16.1s\n",
            "578:\tlearn: 0.9999310\ttest: 0.9507868\tbest: 0.9879708 (0)\ttotal: 22.1s\tremaining: 16.1s\n",
            "579:\tlearn: 0.9999310\ttest: 0.9507868\tbest: 0.9879708 (0)\ttotal: 22.2s\tremaining: 16.1s\n",
            "580:\tlearn: 0.9999310\ttest: 0.9507868\tbest: 0.9879708 (0)\ttotal: 22.2s\tremaining: 16s\n",
            "581:\tlearn: 0.9999310\ttest: 0.9507868\tbest: 0.9879708 (0)\ttotal: 22.3s\tremaining: 16s\n",
            "582:\tlearn: 0.9999310\ttest: 0.9507868\tbest: 0.9879708 (0)\ttotal: 22.3s\tremaining: 15.9s\n",
            "583:\tlearn: 0.9999310\ttest: 0.9507868\tbest: 0.9879708 (0)\ttotal: 22.3s\tremaining: 15.9s\n",
            "584:\tlearn: 0.9999310\ttest: 0.9507868\tbest: 0.9879708 (0)\ttotal: 22.4s\tremaining: 15.9s\n",
            "585:\tlearn: 0.9999310\ttest: 0.9507868\tbest: 0.9879708 (0)\ttotal: 22.4s\tremaining: 15.8s\n",
            "586:\tlearn: 0.9999310\ttest: 0.9507868\tbest: 0.9879708 (0)\ttotal: 22.4s\tremaining: 15.8s\n",
            "587:\tlearn: 0.9999310\ttest: 0.9507868\tbest: 0.9879708 (0)\ttotal: 22.5s\tremaining: 15.7s\n",
            "588:\tlearn: 0.9999310\ttest: 0.9507868\tbest: 0.9879708 (0)\ttotal: 22.5s\tremaining: 15.7s\n",
            "589:\tlearn: 0.9999310\ttest: 0.9507868\tbest: 0.9879708 (0)\ttotal: 22.5s\tremaining: 15.7s\n",
            "590:\tlearn: 0.9999310\ttest: 0.9507868\tbest: 0.9879708 (0)\ttotal: 22.6s\tremaining: 15.6s\n",
            "591:\tlearn: 0.9999310\ttest: 0.9507868\tbest: 0.9879708 (0)\ttotal: 22.6s\tremaining: 15.6s\n",
            "592:\tlearn: 0.9999310\ttest: 0.9507868\tbest: 0.9879708 (0)\ttotal: 22.6s\tremaining: 15.5s\n",
            "593:\tlearn: 0.9999310\ttest: 0.9507868\tbest: 0.9879708 (0)\ttotal: 22.7s\tremaining: 15.5s\n",
            "594:\tlearn: 0.9999310\ttest: 0.9507868\tbest: 0.9879708 (0)\ttotal: 22.7s\tremaining: 15.4s\n",
            "595:\tlearn: 0.9999310\ttest: 0.9507868\tbest: 0.9879708 (0)\ttotal: 22.7s\tremaining: 15.4s\n",
            "596:\tlearn: 0.9999310\ttest: 0.9507868\tbest: 0.9879708 (0)\ttotal: 22.8s\tremaining: 15.4s\n",
            "597:\tlearn: 0.9999310\ttest: 0.9507868\tbest: 0.9879708 (0)\ttotal: 22.8s\tremaining: 15.3s\n",
            "598:\tlearn: 0.9999310\ttest: 0.9507868\tbest: 0.9879708 (0)\ttotal: 22.8s\tremaining: 15.3s\n",
            "599:\tlearn: 0.9999310\ttest: 0.9507868\tbest: 0.9879708 (0)\ttotal: 22.9s\tremaining: 15.2s\n",
            "600:\tlearn: 0.9999310\ttest: 0.9507868\tbest: 0.9879708 (0)\ttotal: 22.9s\tremaining: 15.2s\n",
            "601:\tlearn: 0.9999310\ttest: 0.9507868\tbest: 0.9879708 (0)\ttotal: 22.9s\tremaining: 15.2s\n",
            "602:\tlearn: 0.9999310\ttest: 0.9507868\tbest: 0.9879708 (0)\ttotal: 23s\tremaining: 15.1s\n",
            "603:\tlearn: 0.9999310\ttest: 0.9507868\tbest: 0.9879708 (0)\ttotal: 23s\tremaining: 15.1s\n",
            "604:\tlearn: 0.9999310\ttest: 0.9507868\tbest: 0.9879708 (0)\ttotal: 23s\tremaining: 15s\n",
            "605:\tlearn: 0.9999310\ttest: 0.9507868\tbest: 0.9879708 (0)\ttotal: 23.1s\tremaining: 15s\n",
            "606:\tlearn: 0.9999310\ttest: 0.9507868\tbest: 0.9879708 (0)\ttotal: 23.1s\tremaining: 15s\n",
            "607:\tlearn: 0.9999310\ttest: 0.9507868\tbest: 0.9879708 (0)\ttotal: 23.1s\tremaining: 14.9s\n",
            "608:\tlearn: 0.9999310\ttest: 0.9507868\tbest: 0.9879708 (0)\ttotal: 23.2s\tremaining: 14.9s\n",
            "609:\tlearn: 0.9999310\ttest: 0.9507868\tbest: 0.9879708 (0)\ttotal: 23.2s\tremaining: 14.8s\n",
            "610:\tlearn: 0.9999310\ttest: 0.9507868\tbest: 0.9879708 (0)\ttotal: 23.2s\tremaining: 14.8s\n",
            "611:\tlearn: 0.9999310\ttest: 0.9507868\tbest: 0.9879708 (0)\ttotal: 23.3s\tremaining: 14.8s\n",
            "612:\tlearn: 0.9999310\ttest: 0.9507868\tbest: 0.9879708 (0)\ttotal: 23.3s\tremaining: 14.7s\n",
            "613:\tlearn: 0.9999310\ttest: 0.9507868\tbest: 0.9879708 (0)\ttotal: 23.3s\tremaining: 14.7s\n",
            "614:\tlearn: 0.9999310\ttest: 0.9507868\tbest: 0.9879708 (0)\ttotal: 23.4s\tremaining: 14.6s\n",
            "615:\tlearn: 0.9999310\ttest: 0.9507868\tbest: 0.9879708 (0)\ttotal: 23.4s\tremaining: 14.6s\n",
            "616:\tlearn: 0.9999310\ttest: 0.9507868\tbest: 0.9879708 (0)\ttotal: 23.4s\tremaining: 14.6s\n",
            "617:\tlearn: 0.9999310\ttest: 0.9507868\tbest: 0.9879708 (0)\ttotal: 23.5s\tremaining: 14.5s\n",
            "618:\tlearn: 0.9999310\ttest: 0.9507868\tbest: 0.9879708 (0)\ttotal: 23.5s\tremaining: 14.5s\n",
            "619:\tlearn: 0.9999310\ttest: 0.9507868\tbest: 0.9879708 (0)\ttotal: 23.5s\tremaining: 14.4s\n",
            "620:\tlearn: 0.9999310\ttest: 0.9507868\tbest: 0.9879708 (0)\ttotal: 23.6s\tremaining: 14.4s\n",
            "621:\tlearn: 0.9999310\ttest: 0.9507868\tbest: 0.9879708 (0)\ttotal: 23.6s\tremaining: 14.3s\n",
            "622:\tlearn: 0.9999310\ttest: 0.9507868\tbest: 0.9879708 (0)\ttotal: 23.6s\tremaining: 14.3s\n",
            "623:\tlearn: 0.9999310\ttest: 0.9507868\tbest: 0.9879708 (0)\ttotal: 23.7s\tremaining: 14.3s\n",
            "624:\tlearn: 0.9999310\ttest: 0.9507868\tbest: 0.9879708 (0)\ttotal: 23.7s\tremaining: 14.2s\n",
            "625:\tlearn: 0.9999310\ttest: 0.9507868\tbest: 0.9879708 (0)\ttotal: 23.7s\tremaining: 14.2s\n",
            "626:\tlearn: 0.9999310\ttest: 0.9507868\tbest: 0.9879708 (0)\ttotal: 23.8s\tremaining: 14.1s\n",
            "627:\tlearn: 0.9999310\ttest: 0.9507868\tbest: 0.9879708 (0)\ttotal: 23.8s\tremaining: 14.1s\n",
            "628:\tlearn: 0.9999310\ttest: 0.9507868\tbest: 0.9879708 (0)\ttotal: 23.8s\tremaining: 14.1s\n",
            "629:\tlearn: 0.9999310\ttest: 0.9507868\tbest: 0.9879708 (0)\ttotal: 23.9s\tremaining: 14s\n",
            "630:\tlearn: 0.9999310\ttest: 0.9507868\tbest: 0.9879708 (0)\ttotal: 23.9s\tremaining: 14s\n",
            "631:\tlearn: 0.9999310\ttest: 0.9507868\tbest: 0.9879708 (0)\ttotal: 24s\tremaining: 13.9s\n",
            "632:\tlearn: 0.9999310\ttest: 0.9507868\tbest: 0.9879708 (0)\ttotal: 24s\tremaining: 13.9s\n",
            "633:\tlearn: 0.9999310\ttest: 0.9507868\tbest: 0.9879708 (0)\ttotal: 24s\tremaining: 13.9s\n",
            "634:\tlearn: 0.9999310\ttest: 0.9507868\tbest: 0.9879708 (0)\ttotal: 24.1s\tremaining: 13.8s\n",
            "635:\tlearn: 0.9999310\ttest: 0.9507868\tbest: 0.9879708 (0)\ttotal: 24.1s\tremaining: 13.8s\n",
            "636:\tlearn: 0.9999310\ttest: 0.9507868\tbest: 0.9879708 (0)\ttotal: 24.1s\tremaining: 13.7s\n",
            "637:\tlearn: 0.9999310\ttest: 0.9507868\tbest: 0.9879708 (0)\ttotal: 24.2s\tremaining: 13.7s\n",
            "638:\tlearn: 0.9999310\ttest: 0.9507868\tbest: 0.9879708 (0)\ttotal: 24.2s\tremaining: 13.7s\n",
            "639:\tlearn: 0.9999310\ttest: 0.9507868\tbest: 0.9879708 (0)\ttotal: 24.2s\tremaining: 13.6s\n",
            "640:\tlearn: 0.9999310\ttest: 0.9507868\tbest: 0.9879708 (0)\ttotal: 24.3s\tremaining: 13.6s\n",
            "641:\tlearn: 0.9999310\ttest: 0.9507868\tbest: 0.9879708 (0)\ttotal: 24.3s\tremaining: 13.5s\n",
            "642:\tlearn: 0.9999310\ttest: 0.9507868\tbest: 0.9879708 (0)\ttotal: 24.3s\tremaining: 13.5s\n",
            "643:\tlearn: 0.9999310\ttest: 0.9507868\tbest: 0.9879708 (0)\ttotal: 24.4s\tremaining: 13.5s\n",
            "644:\tlearn: 0.9999310\ttest: 0.9507868\tbest: 0.9879708 (0)\ttotal: 24.4s\tremaining: 13.4s\n",
            "645:\tlearn: 0.9999310\ttest: 0.9507868\tbest: 0.9879708 (0)\ttotal: 24.4s\tremaining: 13.4s\n",
            "646:\tlearn: 0.9999310\ttest: 0.9507868\tbest: 0.9879708 (0)\ttotal: 24.5s\tremaining: 13.3s\n",
            "647:\tlearn: 0.9999310\ttest: 0.9507868\tbest: 0.9879708 (0)\ttotal: 24.5s\tremaining: 13.3s\n",
            "648:\tlearn: 0.9999310\ttest: 0.9507868\tbest: 0.9879708 (0)\ttotal: 24.5s\tremaining: 13.3s\n",
            "649:\tlearn: 0.9999310\ttest: 0.9507868\tbest: 0.9879708 (0)\ttotal: 24.6s\tremaining: 13.2s\n",
            "650:\tlearn: 0.9999310\ttest: 0.9507868\tbest: 0.9879708 (0)\ttotal: 24.6s\tremaining: 13.2s\n",
            "651:\tlearn: 0.9999310\ttest: 0.9507868\tbest: 0.9879708 (0)\ttotal: 24.6s\tremaining: 13.1s\n",
            "652:\tlearn: 0.9999310\ttest: 0.9507868\tbest: 0.9879708 (0)\ttotal: 24.7s\tremaining: 13.1s\n",
            "653:\tlearn: 0.9999310\ttest: 0.9507868\tbest: 0.9879708 (0)\ttotal: 24.7s\tremaining: 13.1s\n",
            "654:\tlearn: 0.9999310\ttest: 0.9507868\tbest: 0.9879708 (0)\ttotal: 24.7s\tremaining: 13s\n",
            "655:\tlearn: 0.9999310\ttest: 0.9507868\tbest: 0.9879708 (0)\ttotal: 24.8s\tremaining: 13s\n",
            "656:\tlearn: 0.9999310\ttest: 0.9507868\tbest: 0.9879708 (0)\ttotal: 24.8s\tremaining: 12.9s\n",
            "657:\tlearn: 0.9999310\ttest: 0.9507868\tbest: 0.9879708 (0)\ttotal: 24.8s\tremaining: 12.9s\n",
            "658:\tlearn: 0.9999310\ttest: 0.9507868\tbest: 0.9879708 (0)\ttotal: 24.9s\tremaining: 12.9s\n",
            "659:\tlearn: 0.9999310\ttest: 0.9507868\tbest: 0.9879708 (0)\ttotal: 24.9s\tremaining: 12.8s\n",
            "660:\tlearn: 0.9999310\ttest: 0.9507868\tbest: 0.9879708 (0)\ttotal: 24.9s\tremaining: 12.8s\n",
            "661:\tlearn: 0.9999310\ttest: 0.9507868\tbest: 0.9879708 (0)\ttotal: 25s\tremaining: 12.7s\n",
            "662:\tlearn: 0.9999310\ttest: 0.9507868\tbest: 0.9879708 (0)\ttotal: 25s\tremaining: 12.7s\n",
            "663:\tlearn: 0.9999310\ttest: 0.9507868\tbest: 0.9879708 (0)\ttotal: 25s\tremaining: 12.7s\n",
            "664:\tlearn: 0.9999310\ttest: 0.9507868\tbest: 0.9879708 (0)\ttotal: 25.1s\tremaining: 12.6s\n",
            "665:\tlearn: 0.9999310\ttest: 0.9507868\tbest: 0.9879708 (0)\ttotal: 25.1s\tremaining: 12.6s\n",
            "666:\tlearn: 0.9999310\ttest: 0.9507868\tbest: 0.9879708 (0)\ttotal: 25.1s\tremaining: 12.5s\n",
            "667:\tlearn: 0.9999310\ttest: 0.9507868\tbest: 0.9879708 (0)\ttotal: 25.2s\tremaining: 12.5s\n",
            "668:\tlearn: 0.9999310\ttest: 0.9507868\tbest: 0.9879708 (0)\ttotal: 25.2s\tremaining: 12.5s\n",
            "669:\tlearn: 0.9999310\ttest: 0.9507868\tbest: 0.9879708 (0)\ttotal: 25.2s\tremaining: 12.4s\n",
            "670:\tlearn: 0.9999310\ttest: 0.9507868\tbest: 0.9879708 (0)\ttotal: 25.3s\tremaining: 12.4s\n",
            "671:\tlearn: 0.9999310\ttest: 0.9507868\tbest: 0.9879708 (0)\ttotal: 25.3s\tremaining: 12.4s\n",
            "672:\tlearn: 0.9999310\ttest: 0.9507868\tbest: 0.9879708 (0)\ttotal: 25.3s\tremaining: 12.3s\n",
            "673:\tlearn: 0.9999310\ttest: 0.9507868\tbest: 0.9879708 (0)\ttotal: 25.4s\tremaining: 12.3s\n",
            "674:\tlearn: 0.9999310\ttest: 0.9507868\tbest: 0.9879708 (0)\ttotal: 25.4s\tremaining: 12.2s\n",
            "675:\tlearn: 0.9999310\ttest: 0.9507868\tbest: 0.9879708 (0)\ttotal: 25.4s\tremaining: 12.2s\n",
            "676:\tlearn: 0.9999310\ttest: 0.9507868\tbest: 0.9879708 (0)\ttotal: 25.5s\tremaining: 12.2s\n",
            "677:\tlearn: 0.9999310\ttest: 0.9507868\tbest: 0.9879708 (0)\ttotal: 25.5s\tremaining: 12.1s\n",
            "678:\tlearn: 0.9999310\ttest: 0.9507868\tbest: 0.9879708 (0)\ttotal: 25.5s\tremaining: 12.1s\n",
            "679:\tlearn: 0.9999310\ttest: 0.9507868\tbest: 0.9879708 (0)\ttotal: 25.6s\tremaining: 12s\n",
            "680:\tlearn: 0.9999310\ttest: 0.9507868\tbest: 0.9879708 (0)\ttotal: 25.6s\tremaining: 12s\n",
            "681:\tlearn: 0.9999310\ttest: 0.9507868\tbest: 0.9879708 (0)\ttotal: 25.6s\tremaining: 12s\n",
            "682:\tlearn: 0.9999310\ttest: 0.9507868\tbest: 0.9879708 (0)\ttotal: 25.7s\tremaining: 11.9s\n",
            "683:\tlearn: 0.9999310\ttest: 0.9507868\tbest: 0.9879708 (0)\ttotal: 25.7s\tremaining: 11.9s\n",
            "684:\tlearn: 0.9999310\ttest: 0.9507868\tbest: 0.9879708 (0)\ttotal: 25.7s\tremaining: 11.8s\n",
            "685:\tlearn: 0.9999310\ttest: 0.9507868\tbest: 0.9879708 (0)\ttotal: 25.8s\tremaining: 11.8s\n",
            "686:\tlearn: 0.9999310\ttest: 0.9507868\tbest: 0.9879708 (0)\ttotal: 25.8s\tremaining: 11.8s\n",
            "687:\tlearn: 0.9999310\ttest: 0.9507868\tbest: 0.9879708 (0)\ttotal: 25.9s\tremaining: 11.7s\n",
            "688:\tlearn: 0.9999310\ttest: 0.9507868\tbest: 0.9879708 (0)\ttotal: 25.9s\tremaining: 11.7s\n",
            "689:\tlearn: 0.9999310\ttest: 0.9507868\tbest: 0.9879708 (0)\ttotal: 25.9s\tremaining: 11.6s\n",
            "690:\tlearn: 0.9999310\ttest: 0.9507868\tbest: 0.9879708 (0)\ttotal: 26s\tremaining: 11.6s\n",
            "691:\tlearn: 0.9999310\ttest: 0.9507868\tbest: 0.9879708 (0)\ttotal: 26s\tremaining: 11.6s\n",
            "692:\tlearn: 0.9999310\ttest: 0.9507868\tbest: 0.9879708 (0)\ttotal: 26s\tremaining: 11.5s\n",
            "693:\tlearn: 0.9999310\ttest: 0.9507868\tbest: 0.9879708 (0)\ttotal: 26.1s\tremaining: 11.5s\n",
            "694:\tlearn: 0.9999310\ttest: 0.9507868\tbest: 0.9879708 (0)\ttotal: 26.1s\tremaining: 11.5s\n",
            "695:\tlearn: 0.9999310\ttest: 0.9507868\tbest: 0.9879708 (0)\ttotal: 26.1s\tremaining: 11.4s\n",
            "696:\tlearn: 0.9999310\ttest: 0.9507868\tbest: 0.9879708 (0)\ttotal: 26.2s\tremaining: 11.4s\n",
            "697:\tlearn: 0.9999310\ttest: 0.9507868\tbest: 0.9879708 (0)\ttotal: 26.2s\tremaining: 11.3s\n",
            "698:\tlearn: 0.9999310\ttest: 0.9507868\tbest: 0.9879708 (0)\ttotal: 26.2s\tremaining: 11.3s\n",
            "699:\tlearn: 0.9999310\ttest: 0.9507868\tbest: 0.9879708 (0)\ttotal: 26.3s\tremaining: 11.3s\n",
            "700:\tlearn: 0.9999310\ttest: 0.9507868\tbest: 0.9879708 (0)\ttotal: 26.3s\tremaining: 11.2s\n",
            "701:\tlearn: 0.9999310\ttest: 0.9507868\tbest: 0.9879708 (0)\ttotal: 26.3s\tremaining: 11.2s\n",
            "702:\tlearn: 0.9999310\ttest: 0.9507868\tbest: 0.9879708 (0)\ttotal: 26.4s\tremaining: 11.1s\n",
            "703:\tlearn: 0.9999310\ttest: 0.9507868\tbest: 0.9879708 (0)\ttotal: 26.4s\tremaining: 11.1s\n",
            "704:\tlearn: 0.9999310\ttest: 0.9507868\tbest: 0.9879708 (0)\ttotal: 26.4s\tremaining: 11.1s\n",
            "705:\tlearn: 0.9999310\ttest: 0.9507868\tbest: 0.9879708 (0)\ttotal: 26.5s\tremaining: 11s\n",
            "706:\tlearn: 0.9999310\ttest: 0.9507868\tbest: 0.9879708 (0)\ttotal: 26.5s\tremaining: 11s\n",
            "707:\tlearn: 0.9999310\ttest: 0.9507868\tbest: 0.9879708 (0)\ttotal: 26.5s\tremaining: 10.9s\n",
            "708:\tlearn: 0.9999310\ttest: 0.9507868\tbest: 0.9879708 (0)\ttotal: 26.6s\tremaining: 10.9s\n",
            "709:\tlearn: 0.9999310\ttest: 0.9507868\tbest: 0.9879708 (0)\ttotal: 26.6s\tremaining: 10.9s\n",
            "710:\tlearn: 0.9999310\ttest: 0.9507868\tbest: 0.9879708 (0)\ttotal: 26.6s\tremaining: 10.8s\n",
            "711:\tlearn: 0.9999310\ttest: 0.9507868\tbest: 0.9879708 (0)\ttotal: 26.7s\tremaining: 10.8s\n",
            "712:\tlearn: 0.9999310\ttest: 0.9507868\tbest: 0.9879708 (0)\ttotal: 26.7s\tremaining: 10.8s\n",
            "713:\tlearn: 0.9999310\ttest: 0.9507868\tbest: 0.9879708 (0)\ttotal: 26.7s\tremaining: 10.7s\n",
            "714:\tlearn: 0.9999310\ttest: 0.9507868\tbest: 0.9879708 (0)\ttotal: 26.8s\tremaining: 10.7s\n",
            "715:\tlearn: 0.9999310\ttest: 0.9507868\tbest: 0.9879708 (0)\ttotal: 26.8s\tremaining: 10.6s\n",
            "716:\tlearn: 0.9999310\ttest: 0.9507868\tbest: 0.9879708 (0)\ttotal: 26.8s\tremaining: 10.6s\n",
            "717:\tlearn: 0.9999310\ttest: 0.9507868\tbest: 0.9879708 (0)\ttotal: 26.9s\tremaining: 10.6s\n",
            "718:\tlearn: 0.9999310\ttest: 0.9507868\tbest: 0.9879708 (0)\ttotal: 26.9s\tremaining: 10.5s\n",
            "719:\tlearn: 0.9999310\ttest: 0.9507868\tbest: 0.9879708 (0)\ttotal: 26.9s\tremaining: 10.5s\n",
            "720:\tlearn: 0.9999310\ttest: 0.9507868\tbest: 0.9879708 (0)\ttotal: 27s\tremaining: 10.4s\n",
            "721:\tlearn: 0.9999310\ttest: 0.9507868\tbest: 0.9879708 (0)\ttotal: 27s\tremaining: 10.4s\n",
            "722:\tlearn: 0.9999310\ttest: 0.9507868\tbest: 0.9879708 (0)\ttotal: 27s\tremaining: 10.4s\n",
            "723:\tlearn: 0.9999310\ttest: 0.9507868\tbest: 0.9879708 (0)\ttotal: 27.1s\tremaining: 10.3s\n",
            "724:\tlearn: 0.9999310\ttest: 0.9507868\tbest: 0.9879708 (0)\ttotal: 27.1s\tremaining: 10.3s\n",
            "725:\tlearn: 0.9999310\ttest: 0.9507868\tbest: 0.9879708 (0)\ttotal: 27.1s\tremaining: 10.2s\n",
            "726:\tlearn: 0.9999310\ttest: 0.9507868\tbest: 0.9879708 (0)\ttotal: 27.2s\tremaining: 10.2s\n",
            "727:\tlearn: 0.9999310\ttest: 0.9507868\tbest: 0.9879708 (0)\ttotal: 27.2s\tremaining: 10.2s\n",
            "728:\tlearn: 0.9999310\ttest: 0.9507868\tbest: 0.9879708 (0)\ttotal: 27.2s\tremaining: 10.1s\n",
            "729:\tlearn: 0.9999310\ttest: 0.9507868\tbest: 0.9879708 (0)\ttotal: 27.3s\tremaining: 10.1s\n",
            "730:\tlearn: 0.9999310\ttest: 0.9507868\tbest: 0.9879708 (0)\ttotal: 27.3s\tremaining: 10.1s\n",
            "731:\tlearn: 0.9999310\ttest: 0.9507868\tbest: 0.9879708 (0)\ttotal: 27.4s\tremaining: 10s\n",
            "732:\tlearn: 0.9999310\ttest: 0.9507868\tbest: 0.9879708 (0)\ttotal: 27.4s\tremaining: 9.98s\n",
            "733:\tlearn: 0.9999310\ttest: 0.9507868\tbest: 0.9879708 (0)\ttotal: 27.4s\tremaining: 9.94s\n",
            "734:\tlearn: 0.9999310\ttest: 0.9507868\tbest: 0.9879708 (0)\ttotal: 27.5s\tremaining: 9.9s\n",
            "735:\tlearn: 0.9999310\ttest: 0.9507868\tbest: 0.9879708 (0)\ttotal: 27.5s\tremaining: 9.86s\n",
            "736:\tlearn: 0.9999310\ttest: 0.9507868\tbest: 0.9879708 (0)\ttotal: 27.5s\tremaining: 9.82s\n",
            "737:\tlearn: 0.9999310\ttest: 0.9507868\tbest: 0.9879708 (0)\ttotal: 27.6s\tremaining: 9.79s\n",
            "738:\tlearn: 0.9999310\ttest: 0.9507868\tbest: 0.9879708 (0)\ttotal: 27.6s\tremaining: 9.75s\n",
            "739:\tlearn: 0.9999310\ttest: 0.9507868\tbest: 0.9879708 (0)\ttotal: 27.6s\tremaining: 9.71s\n",
            "740:\tlearn: 0.9999310\ttest: 0.9507868\tbest: 0.9879708 (0)\ttotal: 27.7s\tremaining: 9.67s\n",
            "741:\tlearn: 0.9999310\ttest: 0.9507868\tbest: 0.9879708 (0)\ttotal: 27.7s\tremaining: 9.63s\n",
            "742:\tlearn: 0.9999310\ttest: 0.9507868\tbest: 0.9879708 (0)\ttotal: 27.7s\tremaining: 9.59s\n",
            "743:\tlearn: 0.9999310\ttest: 0.9507868\tbest: 0.9879708 (0)\ttotal: 27.8s\tremaining: 9.55s\n",
            "744:\tlearn: 0.9999310\ttest: 0.9507868\tbest: 0.9879708 (0)\ttotal: 27.8s\tremaining: 9.51s\n",
            "745:\tlearn: 0.9999310\ttest: 0.9507868\tbest: 0.9879708 (0)\ttotal: 27.8s\tremaining: 9.48s\n",
            "746:\tlearn: 0.9999310\ttest: 0.9507868\tbest: 0.9879708 (0)\ttotal: 27.9s\tremaining: 9.44s\n",
            "747:\tlearn: 0.9999310\ttest: 0.9507868\tbest: 0.9879708 (0)\ttotal: 27.9s\tremaining: 9.4s\n",
            "748:\tlearn: 0.9999310\ttest: 0.9507868\tbest: 0.9879708 (0)\ttotal: 27.9s\tremaining: 9.36s\n",
            "749:\tlearn: 0.9999310\ttest: 0.9507868\tbest: 0.9879708 (0)\ttotal: 28s\tremaining: 9.32s\n",
            "750:\tlearn: 0.9999310\ttest: 0.9507868\tbest: 0.9879708 (0)\ttotal: 28s\tremaining: 9.28s\n",
            "751:\tlearn: 0.9999310\ttest: 0.9507868\tbest: 0.9879708 (0)\ttotal: 28s\tremaining: 9.24s\n",
            "752:\tlearn: 0.9999310\ttest: 0.9507868\tbest: 0.9879708 (0)\ttotal: 28.1s\tremaining: 9.21s\n",
            "753:\tlearn: 0.9999310\ttest: 0.9507868\tbest: 0.9879708 (0)\ttotal: 28.1s\tremaining: 9.17s\n",
            "754:\tlearn: 0.9999310\ttest: 0.9507868\tbest: 0.9879708 (0)\ttotal: 28.1s\tremaining: 9.13s\n",
            "755:\tlearn: 0.9999310\ttest: 0.9507868\tbest: 0.9879708 (0)\ttotal: 28.2s\tremaining: 9.09s\n",
            "756:\tlearn: 0.9999310\ttest: 0.9507868\tbest: 0.9879708 (0)\ttotal: 28.2s\tremaining: 9.05s\n",
            "757:\tlearn: 0.9999310\ttest: 0.9507868\tbest: 0.9879708 (0)\ttotal: 28.2s\tremaining: 9.01s\n",
            "758:\tlearn: 0.9999310\ttest: 0.9507868\tbest: 0.9879708 (0)\ttotal: 28.3s\tremaining: 8.97s\n",
            "759:\tlearn: 0.9999310\ttest: 0.9507868\tbest: 0.9879708 (0)\ttotal: 28.3s\tremaining: 8.94s\n",
            "760:\tlearn: 0.9999310\ttest: 0.9507868\tbest: 0.9879708 (0)\ttotal: 28.3s\tremaining: 8.9s\n",
            "761:\tlearn: 0.9999310\ttest: 0.9507868\tbest: 0.9879708 (0)\ttotal: 28.4s\tremaining: 8.86s\n",
            "762:\tlearn: 0.9999310\ttest: 0.9507868\tbest: 0.9879708 (0)\ttotal: 28.4s\tremaining: 8.82s\n",
            "763:\tlearn: 0.9999310\ttest: 0.9507868\tbest: 0.9879708 (0)\ttotal: 28.4s\tremaining: 8.78s\n",
            "764:\tlearn: 0.9999310\ttest: 0.9507868\tbest: 0.9879708 (0)\ttotal: 28.5s\tremaining: 8.75s\n",
            "765:\tlearn: 0.9999310\ttest: 0.9507868\tbest: 0.9879708 (0)\ttotal: 28.5s\tremaining: 8.71s\n",
            "766:\tlearn: 0.9999310\ttest: 0.9507868\tbest: 0.9879708 (0)\ttotal: 28.5s\tremaining: 8.67s\n",
            "767:\tlearn: 0.9999310\ttest: 0.9507868\tbest: 0.9879708 (0)\ttotal: 28.6s\tremaining: 8.63s\n",
            "768:\tlearn: 0.9999310\ttest: 0.9507868\tbest: 0.9879708 (0)\ttotal: 28.6s\tremaining: 8.6s\n",
            "769:\tlearn: 0.9999310\ttest: 0.9507868\tbest: 0.9879708 (0)\ttotal: 28.6s\tremaining: 8.56s\n",
            "770:\tlearn: 0.9999310\ttest: 0.9507868\tbest: 0.9879708 (0)\ttotal: 28.7s\tremaining: 8.52s\n",
            "771:\tlearn: 0.9999310\ttest: 0.9507868\tbest: 0.9879708 (0)\ttotal: 28.7s\tremaining: 8.48s\n",
            "772:\tlearn: 0.9999310\ttest: 0.9507868\tbest: 0.9879708 (0)\ttotal: 28.7s\tremaining: 8.44s\n",
            "773:\tlearn: 0.9999310\ttest: 0.9507868\tbest: 0.9879708 (0)\ttotal: 28.8s\tremaining: 8.4s\n",
            "774:\tlearn: 0.9999310\ttest: 0.9507868\tbest: 0.9879708 (0)\ttotal: 28.8s\tremaining: 8.37s\n",
            "775:\tlearn: 0.9999310\ttest: 0.9507868\tbest: 0.9879708 (0)\ttotal: 28.9s\tremaining: 8.33s\n",
            "776:\tlearn: 0.9999310\ttest: 0.9507868\tbest: 0.9879708 (0)\ttotal: 28.9s\tremaining: 8.29s\n",
            "777:\tlearn: 0.9999310\ttest: 0.9507868\tbest: 0.9879708 (0)\ttotal: 28.9s\tremaining: 8.25s\n",
            "778:\tlearn: 0.9999310\ttest: 0.9507868\tbest: 0.9879708 (0)\ttotal: 29s\tremaining: 8.21s\n",
            "779:\tlearn: 0.9999310\ttest: 0.9507868\tbest: 0.9879708 (0)\ttotal: 29s\tremaining: 8.18s\n",
            "780:\tlearn: 0.9999310\ttest: 0.9507868\tbest: 0.9879708 (0)\ttotal: 29s\tremaining: 8.14s\n",
            "781:\tlearn: 0.9999310\ttest: 0.9507868\tbest: 0.9879708 (0)\ttotal: 29.1s\tremaining: 8.1s\n",
            "782:\tlearn: 0.9999310\ttest: 0.9507868\tbest: 0.9879708 (0)\ttotal: 29.1s\tremaining: 8.06s\n",
            "783:\tlearn: 0.9999310\ttest: 0.9507868\tbest: 0.9879708 (0)\ttotal: 29.1s\tremaining: 8.03s\n",
            "784:\tlearn: 0.9999310\ttest: 0.9507868\tbest: 0.9879708 (0)\ttotal: 29.2s\tremaining: 7.99s\n",
            "785:\tlearn: 0.9999310\ttest: 0.9507868\tbest: 0.9879708 (0)\ttotal: 29.2s\tremaining: 7.95s\n",
            "786:\tlearn: 0.9999310\ttest: 0.9507868\tbest: 0.9879708 (0)\ttotal: 29.2s\tremaining: 7.91s\n",
            "787:\tlearn: 0.9999310\ttest: 0.9507868\tbest: 0.9879708 (0)\ttotal: 29.3s\tremaining: 7.87s\n",
            "788:\tlearn: 0.9999310\ttest: 0.9507868\tbest: 0.9879708 (0)\ttotal: 29.3s\tremaining: 7.83s\n",
            "789:\tlearn: 0.9999310\ttest: 0.9507868\tbest: 0.9879708 (0)\ttotal: 29.3s\tremaining: 7.8s\n",
            "790:\tlearn: 0.9999310\ttest: 0.9507868\tbest: 0.9879708 (0)\ttotal: 29.4s\tremaining: 7.76s\n",
            "791:\tlearn: 0.9999310\ttest: 0.9507868\tbest: 0.9879708 (0)\ttotal: 29.4s\tremaining: 7.72s\n",
            "792:\tlearn: 0.9999310\ttest: 0.9507868\tbest: 0.9879708 (0)\ttotal: 29.4s\tremaining: 7.68s\n",
            "793:\tlearn: 0.9999310\ttest: 0.9507868\tbest: 0.9879708 (0)\ttotal: 29.5s\tremaining: 7.65s\n",
            "794:\tlearn: 0.9999310\ttest: 0.9507868\tbest: 0.9879708 (0)\ttotal: 29.5s\tremaining: 7.61s\n",
            "795:\tlearn: 0.9999310\ttest: 0.9507868\tbest: 0.9879708 (0)\ttotal: 29.5s\tremaining: 7.57s\n",
            "796:\tlearn: 0.9999310\ttest: 0.9507868\tbest: 0.9879708 (0)\ttotal: 29.6s\tremaining: 7.53s\n",
            "797:\tlearn: 0.9999310\ttest: 0.9507868\tbest: 0.9879708 (0)\ttotal: 29.6s\tremaining: 7.5s\n",
            "798:\tlearn: 0.9999310\ttest: 0.9507868\tbest: 0.9879708 (0)\ttotal: 29.6s\tremaining: 7.46s\n",
            "799:\tlearn: 0.9999310\ttest: 0.9507868\tbest: 0.9879708 (0)\ttotal: 29.7s\tremaining: 7.42s\n",
            "800:\tlearn: 0.9999310\ttest: 0.9507868\tbest: 0.9879708 (0)\ttotal: 29.7s\tremaining: 7.38s\n",
            "801:\tlearn: 0.9999310\ttest: 0.9507868\tbest: 0.9879708 (0)\ttotal: 29.7s\tremaining: 7.34s\n",
            "802:\tlearn: 0.9999310\ttest: 0.9507868\tbest: 0.9879708 (0)\ttotal: 29.8s\tremaining: 7.3s\n",
            "803:\tlearn: 0.9999310\ttest: 0.9507868\tbest: 0.9879708 (0)\ttotal: 29.8s\tremaining: 7.27s\n",
            "804:\tlearn: 0.9999310\ttest: 0.9507868\tbest: 0.9879708 (0)\ttotal: 29.8s\tremaining: 7.23s\n",
            "805:\tlearn: 0.9999310\ttest: 0.9507868\tbest: 0.9879708 (0)\ttotal: 29.9s\tremaining: 7.19s\n",
            "806:\tlearn: 0.9999310\ttest: 0.9507868\tbest: 0.9879708 (0)\ttotal: 29.9s\tremaining: 7.15s\n",
            "807:\tlearn: 0.9999310\ttest: 0.9507868\tbest: 0.9879708 (0)\ttotal: 29.9s\tremaining: 7.11s\n",
            "808:\tlearn: 0.9999310\ttest: 0.9507868\tbest: 0.9879708 (0)\ttotal: 30s\tremaining: 7.08s\n",
            "809:\tlearn: 0.9999310\ttest: 0.9507868\tbest: 0.9879708 (0)\ttotal: 30s\tremaining: 7.04s\n",
            "810:\tlearn: 0.9999310\ttest: 0.9507868\tbest: 0.9879708 (0)\ttotal: 30s\tremaining: 7s\n",
            "811:\tlearn: 0.9999310\ttest: 0.9507868\tbest: 0.9879708 (0)\ttotal: 30.1s\tremaining: 6.96s\n",
            "812:\tlearn: 0.9999310\ttest: 0.9507868\tbest: 0.9879708 (0)\ttotal: 30.1s\tremaining: 6.93s\n",
            "813:\tlearn: 0.9999310\ttest: 0.9507868\tbest: 0.9879708 (0)\ttotal: 30.1s\tremaining: 6.89s\n",
            "814:\tlearn: 0.9999310\ttest: 0.9507868\tbest: 0.9879708 (0)\ttotal: 30.2s\tremaining: 6.85s\n",
            "815:\tlearn: 0.9999310\ttest: 0.9507868\tbest: 0.9879708 (0)\ttotal: 30.2s\tremaining: 6.81s\n",
            "816:\tlearn: 0.9999310\ttest: 0.9507868\tbest: 0.9879708 (0)\ttotal: 30.2s\tremaining: 6.78s\n",
            "817:\tlearn: 0.9999310\ttest: 0.9507868\tbest: 0.9879708 (0)\ttotal: 30.3s\tremaining: 6.74s\n",
            "818:\tlearn: 0.9999310\ttest: 0.9507868\tbest: 0.9879708 (0)\ttotal: 30.3s\tremaining: 6.7s\n",
            "819:\tlearn: 0.9999310\ttest: 0.9507868\tbest: 0.9879708 (0)\ttotal: 30.4s\tremaining: 6.66s\n",
            "820:\tlearn: 0.9999310\ttest: 0.9507868\tbest: 0.9879708 (0)\ttotal: 30.4s\tremaining: 6.63s\n",
            "821:\tlearn: 0.9999310\ttest: 0.9507868\tbest: 0.9879708 (0)\ttotal: 30.4s\tremaining: 6.59s\n",
            "822:\tlearn: 0.9999310\ttest: 0.9507868\tbest: 0.9879708 (0)\ttotal: 30.5s\tremaining: 6.55s\n",
            "823:\tlearn: 0.9999310\ttest: 0.9507868\tbest: 0.9879708 (0)\ttotal: 30.5s\tremaining: 6.51s\n",
            "824:\tlearn: 0.9999310\ttest: 0.9507868\tbest: 0.9879708 (0)\ttotal: 30.5s\tremaining: 6.47s\n",
            "825:\tlearn: 0.9999310\ttest: 0.9507868\tbest: 0.9879708 (0)\ttotal: 30.6s\tremaining: 6.44s\n",
            "826:\tlearn: 0.9999310\ttest: 0.9507868\tbest: 0.9879708 (0)\ttotal: 30.6s\tremaining: 6.4s\n",
            "827:\tlearn: 0.9999310\ttest: 0.9507868\tbest: 0.9879708 (0)\ttotal: 30.6s\tremaining: 6.36s\n",
            "828:\tlearn: 0.9999310\ttest: 0.9507868\tbest: 0.9879708 (0)\ttotal: 30.7s\tremaining: 6.33s\n",
            "829:\tlearn: 0.9999310\ttest: 0.9507868\tbest: 0.9879708 (0)\ttotal: 30.7s\tremaining: 6.29s\n",
            "830:\tlearn: 0.9999310\ttest: 0.9507868\tbest: 0.9879708 (0)\ttotal: 30.7s\tremaining: 6.25s\n",
            "831:\tlearn: 0.9999310\ttest: 0.9507868\tbest: 0.9879708 (0)\ttotal: 30.8s\tremaining: 6.21s\n",
            "832:\tlearn: 0.9999310\ttest: 0.9507868\tbest: 0.9879708 (0)\ttotal: 30.8s\tremaining: 6.17s\n",
            "833:\tlearn: 0.9999310\ttest: 0.9507868\tbest: 0.9879708 (0)\ttotal: 30.8s\tremaining: 6.14s\n",
            "834:\tlearn: 0.9999310\ttest: 0.9507868\tbest: 0.9879708 (0)\ttotal: 30.9s\tremaining: 6.1s\n",
            "835:\tlearn: 0.9999310\ttest: 0.9507868\tbest: 0.9879708 (0)\ttotal: 30.9s\tremaining: 6.06s\n",
            "836:\tlearn: 0.9999310\ttest: 0.9507868\tbest: 0.9879708 (0)\ttotal: 30.9s\tremaining: 6.02s\n",
            "837:\tlearn: 0.9999310\ttest: 0.9507868\tbest: 0.9879708 (0)\ttotal: 31s\tremaining: 5.99s\n",
            "838:\tlearn: 0.9999310\ttest: 0.9507868\tbest: 0.9879708 (0)\ttotal: 31s\tremaining: 5.95s\n",
            "839:\tlearn: 0.9999310\ttest: 0.9507868\tbest: 0.9879708 (0)\ttotal: 31s\tremaining: 5.91s\n",
            "840:\tlearn: 0.9999310\ttest: 0.9507868\tbest: 0.9879708 (0)\ttotal: 31.1s\tremaining: 5.87s\n",
            "841:\tlearn: 0.9999310\ttest: 0.9507868\tbest: 0.9879708 (0)\ttotal: 31.1s\tremaining: 5.84s\n",
            "842:\tlearn: 0.9999310\ttest: 0.9507868\tbest: 0.9879708 (0)\ttotal: 31.1s\tremaining: 5.8s\n",
            "843:\tlearn: 0.9999310\ttest: 0.9507868\tbest: 0.9879708 (0)\ttotal: 31.2s\tremaining: 5.76s\n",
            "844:\tlearn: 0.9999310\ttest: 0.9507868\tbest: 0.9879708 (0)\ttotal: 31.2s\tremaining: 5.72s\n",
            "845:\tlearn: 0.9999310\ttest: 0.9507868\tbest: 0.9879708 (0)\ttotal: 31.2s\tremaining: 5.68s\n",
            "846:\tlearn: 0.9999310\ttest: 0.9507868\tbest: 0.9879708 (0)\ttotal: 31.3s\tremaining: 5.65s\n",
            "847:\tlearn: 0.9999310\ttest: 0.9507868\tbest: 0.9879708 (0)\ttotal: 31.3s\tremaining: 5.61s\n",
            "848:\tlearn: 0.9999310\ttest: 0.9507868\tbest: 0.9879708 (0)\ttotal: 31.3s\tremaining: 5.57s\n",
            "849:\tlearn: 0.9999310\ttest: 0.9507868\tbest: 0.9879708 (0)\ttotal: 31.4s\tremaining: 5.54s\n",
            "850:\tlearn: 0.9999310\ttest: 0.9507868\tbest: 0.9879708 (0)\ttotal: 31.4s\tremaining: 5.5s\n",
            "851:\tlearn: 0.9999310\ttest: 0.9507868\tbest: 0.9879708 (0)\ttotal: 31.4s\tremaining: 5.46s\n",
            "852:\tlearn: 0.9999310\ttest: 0.9507868\tbest: 0.9879708 (0)\ttotal: 31.5s\tremaining: 5.42s\n",
            "853:\tlearn: 0.9999310\ttest: 0.9507868\tbest: 0.9879708 (0)\ttotal: 31.5s\tremaining: 5.39s\n",
            "854:\tlearn: 0.9999310\ttest: 0.9507868\tbest: 0.9879708 (0)\ttotal: 31.5s\tremaining: 5.35s\n",
            "855:\tlearn: 0.9999310\ttest: 0.9507868\tbest: 0.9879708 (0)\ttotal: 31.6s\tremaining: 5.31s\n",
            "856:\tlearn: 0.9999310\ttest: 0.9507868\tbest: 0.9879708 (0)\ttotal: 31.6s\tremaining: 5.27s\n",
            "857:\tlearn: 0.9999310\ttest: 0.9507868\tbest: 0.9879708 (0)\ttotal: 31.6s\tremaining: 5.24s\n",
            "858:\tlearn: 0.9999310\ttest: 0.9507868\tbest: 0.9879708 (0)\ttotal: 31.7s\tremaining: 5.2s\n",
            "859:\tlearn: 0.9999310\ttest: 0.9507868\tbest: 0.9879708 (0)\ttotal: 31.7s\tremaining: 5.16s\n",
            "860:\tlearn: 0.9999310\ttest: 0.9507868\tbest: 0.9879708 (0)\ttotal: 31.7s\tremaining: 5.12s\n",
            "861:\tlearn: 0.9999310\ttest: 0.9507868\tbest: 0.9879708 (0)\ttotal: 31.8s\tremaining: 5.09s\n",
            "862:\tlearn: 0.9999310\ttest: 0.9507868\tbest: 0.9879708 (0)\ttotal: 31.8s\tremaining: 5.05s\n",
            "863:\tlearn: 0.9999310\ttest: 0.9507868\tbest: 0.9879708 (0)\ttotal: 31.8s\tremaining: 5.01s\n",
            "864:\tlearn: 0.9999310\ttest: 0.9507868\tbest: 0.9879708 (0)\ttotal: 31.9s\tremaining: 4.97s\n",
            "865:\tlearn: 0.9999310\ttest: 0.9507868\tbest: 0.9879708 (0)\ttotal: 31.9s\tremaining: 4.94s\n",
            "866:\tlearn: 0.9999310\ttest: 0.9507868\tbest: 0.9879708 (0)\ttotal: 31.9s\tremaining: 4.9s\n",
            "867:\tlearn: 0.9999310\ttest: 0.9507868\tbest: 0.9879708 (0)\ttotal: 32s\tremaining: 4.86s\n",
            "868:\tlearn: 0.9999310\ttest: 0.9507868\tbest: 0.9879708 (0)\ttotal: 32s\tremaining: 4.83s\n",
            "869:\tlearn: 0.9999310\ttest: 0.9507868\tbest: 0.9879708 (0)\ttotal: 32.1s\tremaining: 4.79s\n",
            "870:\tlearn: 0.9999310\ttest: 0.9507868\tbest: 0.9879708 (0)\ttotal: 32.1s\tremaining: 4.75s\n",
            "871:\tlearn: 0.9999310\ttest: 0.9507868\tbest: 0.9879708 (0)\ttotal: 32.1s\tremaining: 4.71s\n",
            "872:\tlearn: 0.9999310\ttest: 0.9507868\tbest: 0.9879708 (0)\ttotal: 32.2s\tremaining: 4.68s\n",
            "873:\tlearn: 0.9999310\ttest: 0.9507868\tbest: 0.9879708 (0)\ttotal: 32.2s\tremaining: 4.64s\n",
            "874:\tlearn: 0.9999310\ttest: 0.9507868\tbest: 0.9879708 (0)\ttotal: 32.2s\tremaining: 4.6s\n",
            "875:\tlearn: 0.9999310\ttest: 0.9507868\tbest: 0.9879708 (0)\ttotal: 32.3s\tremaining: 4.57s\n",
            "876:\tlearn: 0.9999310\ttest: 0.9507868\tbest: 0.9879708 (0)\ttotal: 32.3s\tremaining: 4.53s\n",
            "877:\tlearn: 0.9999310\ttest: 0.9507868\tbest: 0.9879708 (0)\ttotal: 32.4s\tremaining: 4.5s\n",
            "878:\tlearn: 0.9999310\ttest: 0.9507868\tbest: 0.9879708 (0)\ttotal: 32.4s\tremaining: 4.46s\n",
            "879:\tlearn: 0.9999310\ttest: 0.9507868\tbest: 0.9879708 (0)\ttotal: 32.4s\tremaining: 4.42s\n",
            "880:\tlearn: 0.9999310\ttest: 0.9507868\tbest: 0.9879708 (0)\ttotal: 32.5s\tremaining: 4.38s\n",
            "881:\tlearn: 0.9999310\ttest: 0.9507868\tbest: 0.9879708 (0)\ttotal: 32.5s\tremaining: 4.35s\n",
            "882:\tlearn: 0.9999310\ttest: 0.9507868\tbest: 0.9879708 (0)\ttotal: 32.5s\tremaining: 4.31s\n",
            "883:\tlearn: 0.9999310\ttest: 0.9507868\tbest: 0.9879708 (0)\ttotal: 32.6s\tremaining: 4.27s\n",
            "884:\tlearn: 0.9999310\ttest: 0.9507868\tbest: 0.9879708 (0)\ttotal: 32.6s\tremaining: 4.23s\n",
            "885:\tlearn: 0.9999310\ttest: 0.9507868\tbest: 0.9879708 (0)\ttotal: 32.6s\tremaining: 4.2s\n",
            "886:\tlearn: 0.9999310\ttest: 0.9507868\tbest: 0.9879708 (0)\ttotal: 32.7s\tremaining: 4.16s\n",
            "887:\tlearn: 0.9999310\ttest: 0.9507868\tbest: 0.9879708 (0)\ttotal: 32.7s\tremaining: 4.12s\n",
            "888:\tlearn: 0.9999310\ttest: 0.9507868\tbest: 0.9879708 (0)\ttotal: 32.7s\tremaining: 4.09s\n",
            "889:\tlearn: 0.9999310\ttest: 0.9507868\tbest: 0.9879708 (0)\ttotal: 32.8s\tremaining: 4.05s\n",
            "890:\tlearn: 0.9999310\ttest: 0.9507868\tbest: 0.9879708 (0)\ttotal: 32.8s\tremaining: 4.01s\n",
            "891:\tlearn: 0.9999310\ttest: 0.9507868\tbest: 0.9879708 (0)\ttotal: 32.8s\tremaining: 3.97s\n",
            "892:\tlearn: 0.9999310\ttest: 0.9507868\tbest: 0.9879708 (0)\ttotal: 32.9s\tremaining: 3.94s\n",
            "893:\tlearn: 0.9999310\ttest: 0.9507868\tbest: 0.9879708 (0)\ttotal: 32.9s\tremaining: 3.9s\n",
            "894:\tlearn: 0.9999310\ttest: 0.9507868\tbest: 0.9879708 (0)\ttotal: 32.9s\tremaining: 3.86s\n",
            "895:\tlearn: 0.9999310\ttest: 0.9507868\tbest: 0.9879708 (0)\ttotal: 33s\tremaining: 3.83s\n",
            "896:\tlearn: 0.9999310\ttest: 0.9507868\tbest: 0.9879708 (0)\ttotal: 33s\tremaining: 3.79s\n",
            "897:\tlearn: 0.9999310\ttest: 0.9507868\tbest: 0.9879708 (0)\ttotal: 33s\tremaining: 3.75s\n",
            "898:\tlearn: 0.9999310\ttest: 0.9507868\tbest: 0.9879708 (0)\ttotal: 33.1s\tremaining: 3.71s\n",
            "899:\tlearn: 0.9999310\ttest: 0.9507868\tbest: 0.9879708 (0)\ttotal: 33.1s\tremaining: 3.68s\n",
            "900:\tlearn: 0.9999310\ttest: 0.9507868\tbest: 0.9879708 (0)\ttotal: 33.1s\tremaining: 3.64s\n",
            "901:\tlearn: 0.9999310\ttest: 0.9507868\tbest: 0.9879708 (0)\ttotal: 33.2s\tremaining: 3.6s\n",
            "902:\tlearn: 0.9999310\ttest: 0.9507868\tbest: 0.9879708 (0)\ttotal: 33.2s\tremaining: 3.56s\n",
            "903:\tlearn: 0.9999310\ttest: 0.9507868\tbest: 0.9879708 (0)\ttotal: 33.2s\tremaining: 3.53s\n",
            "904:\tlearn: 0.9999310\ttest: 0.9507868\tbest: 0.9879708 (0)\ttotal: 33.3s\tremaining: 3.49s\n",
            "905:\tlearn: 0.9999310\ttest: 0.9507868\tbest: 0.9879708 (0)\ttotal: 33.3s\tremaining: 3.46s\n",
            "906:\tlearn: 0.9999310\ttest: 0.9507868\tbest: 0.9879708 (0)\ttotal: 33.4s\tremaining: 3.42s\n",
            "907:\tlearn: 0.9999310\ttest: 0.9507868\tbest: 0.9879708 (0)\ttotal: 33.4s\tremaining: 3.38s\n",
            "908:\tlearn: 0.9999310\ttest: 0.9507868\tbest: 0.9879708 (0)\ttotal: 33.4s\tremaining: 3.35s\n",
            "909:\tlearn: 0.9999310\ttest: 0.9507868\tbest: 0.9879708 (0)\ttotal: 33.5s\tremaining: 3.31s\n",
            "910:\tlearn: 0.9999310\ttest: 0.9507868\tbest: 0.9879708 (0)\ttotal: 33.5s\tremaining: 3.27s\n",
            "911:\tlearn: 0.9999310\ttest: 0.9507868\tbest: 0.9879708 (0)\ttotal: 33.5s\tremaining: 3.23s\n",
            "912:\tlearn: 0.9999310\ttest: 0.9507868\tbest: 0.9879708 (0)\ttotal: 33.6s\tremaining: 3.2s\n",
            "913:\tlearn: 0.9999310\ttest: 0.9507868\tbest: 0.9879708 (0)\ttotal: 33.6s\tremaining: 3.16s\n",
            "914:\tlearn: 0.9999310\ttest: 0.9507868\tbest: 0.9879708 (0)\ttotal: 33.6s\tremaining: 3.12s\n",
            "915:\tlearn: 0.9999310\ttest: 0.9507868\tbest: 0.9879708 (0)\ttotal: 33.7s\tremaining: 3.09s\n",
            "916:\tlearn: 0.9999310\ttest: 0.9507868\tbest: 0.9879708 (0)\ttotal: 33.7s\tremaining: 3.05s\n",
            "917:\tlearn: 0.9999310\ttest: 0.9507868\tbest: 0.9879708 (0)\ttotal: 33.7s\tremaining: 3.01s\n",
            "918:\tlearn: 0.9999310\ttest: 0.9507868\tbest: 0.9879708 (0)\ttotal: 33.8s\tremaining: 2.98s\n",
            "919:\tlearn: 0.9999310\ttest: 0.9507868\tbest: 0.9879708 (0)\ttotal: 33.8s\tremaining: 2.94s\n",
            "920:\tlearn: 0.9999310\ttest: 0.9507868\tbest: 0.9879708 (0)\ttotal: 33.8s\tremaining: 2.9s\n",
            "921:\tlearn: 0.9999310\ttest: 0.9507868\tbest: 0.9879708 (0)\ttotal: 33.9s\tremaining: 2.86s\n",
            "922:\tlearn: 0.9999310\ttest: 0.9507868\tbest: 0.9879708 (0)\ttotal: 33.9s\tremaining: 2.83s\n",
            "923:\tlearn: 0.9999310\ttest: 0.9507868\tbest: 0.9879708 (0)\ttotal: 33.9s\tremaining: 2.79s\n",
            "924:\tlearn: 0.9999310\ttest: 0.9507868\tbest: 0.9879708 (0)\ttotal: 34s\tremaining: 2.75s\n",
            "925:\tlearn: 0.9999310\ttest: 0.9507868\tbest: 0.9879708 (0)\ttotal: 34s\tremaining: 2.72s\n",
            "926:\tlearn: 0.9999310\ttest: 0.9507868\tbest: 0.9879708 (0)\ttotal: 34s\tremaining: 2.68s\n",
            "927:\tlearn: 0.9999310\ttest: 0.9507868\tbest: 0.9879708 (0)\ttotal: 34.1s\tremaining: 2.64s\n",
            "928:\tlearn: 0.9999310\ttest: 0.9507868\tbest: 0.9879708 (0)\ttotal: 34.1s\tremaining: 2.61s\n",
            "929:\tlearn: 0.9999310\ttest: 0.9507868\tbest: 0.9879708 (0)\ttotal: 34.1s\tremaining: 2.57s\n",
            "930:\tlearn: 0.9999310\ttest: 0.9507868\tbest: 0.9879708 (0)\ttotal: 34.2s\tremaining: 2.53s\n",
            "931:\tlearn: 0.9999310\ttest: 0.9507868\tbest: 0.9879708 (0)\ttotal: 34.2s\tremaining: 2.5s\n",
            "932:\tlearn: 0.9999310\ttest: 0.9507868\tbest: 0.9879708 (0)\ttotal: 34.2s\tremaining: 2.46s\n",
            "933:\tlearn: 0.9999310\ttest: 0.9507868\tbest: 0.9879708 (0)\ttotal: 34.3s\tremaining: 2.42s\n",
            "934:\tlearn: 0.9999310\ttest: 0.9507868\tbest: 0.9879708 (0)\ttotal: 34.3s\tremaining: 2.38s\n",
            "935:\tlearn: 0.9999310\ttest: 0.9507868\tbest: 0.9879708 (0)\ttotal: 34.3s\tremaining: 2.35s\n",
            "936:\tlearn: 0.9999310\ttest: 0.9507868\tbest: 0.9879708 (0)\ttotal: 34.4s\tremaining: 2.31s\n",
            "937:\tlearn: 0.9999310\ttest: 0.9507868\tbest: 0.9879708 (0)\ttotal: 34.4s\tremaining: 2.27s\n",
            "938:\tlearn: 0.9999310\ttest: 0.9507868\tbest: 0.9879708 (0)\ttotal: 34.5s\tremaining: 2.24s\n",
            "939:\tlearn: 0.9999310\ttest: 0.9507868\tbest: 0.9879708 (0)\ttotal: 34.5s\tremaining: 2.2s\n",
            "940:\tlearn: 0.9999310\ttest: 0.9507868\tbest: 0.9879708 (0)\ttotal: 34.5s\tremaining: 2.16s\n",
            "941:\tlearn: 0.9999310\ttest: 0.9507868\tbest: 0.9879708 (0)\ttotal: 34.5s\tremaining: 2.13s\n",
            "942:\tlearn: 0.9999310\ttest: 0.9507868\tbest: 0.9879708 (0)\ttotal: 34.6s\tremaining: 2.09s\n",
            "943:\tlearn: 0.9999310\ttest: 0.9507868\tbest: 0.9879708 (0)\ttotal: 34.6s\tremaining: 2.05s\n",
            "944:\tlearn: 0.9999310\ttest: 0.9507868\tbest: 0.9879708 (0)\ttotal: 34.6s\tremaining: 2.02s\n",
            "945:\tlearn: 0.9999310\ttest: 0.9507868\tbest: 0.9879708 (0)\ttotal: 34.7s\tremaining: 1.98s\n",
            "946:\tlearn: 0.9999310\ttest: 0.9507868\tbest: 0.9879708 (0)\ttotal: 34.7s\tremaining: 1.94s\n",
            "947:\tlearn: 0.9999310\ttest: 0.9507868\tbest: 0.9879708 (0)\ttotal: 34.8s\tremaining: 1.91s\n",
            "948:\tlearn: 0.9999310\ttest: 0.9507868\tbest: 0.9879708 (0)\ttotal: 34.8s\tremaining: 1.87s\n",
            "949:\tlearn: 0.9999310\ttest: 0.9507868\tbest: 0.9879708 (0)\ttotal: 34.8s\tremaining: 1.83s\n",
            "950:\tlearn: 0.9999310\ttest: 0.9507868\tbest: 0.9879708 (0)\ttotal: 34.9s\tremaining: 1.79s\n",
            "951:\tlearn: 0.9999310\ttest: 0.9507868\tbest: 0.9879708 (0)\ttotal: 34.9s\tremaining: 1.76s\n",
            "952:\tlearn: 0.9999310\ttest: 0.9507868\tbest: 0.9879708 (0)\ttotal: 34.9s\tremaining: 1.72s\n",
            "953:\tlearn: 0.9999310\ttest: 0.9507868\tbest: 0.9879708 (0)\ttotal: 34.9s\tremaining: 1.69s\n",
            "954:\tlearn: 0.9999310\ttest: 0.9507868\tbest: 0.9879708 (0)\ttotal: 35s\tremaining: 1.65s\n",
            "955:\tlearn: 0.9999310\ttest: 0.9507868\tbest: 0.9879708 (0)\ttotal: 35s\tremaining: 1.61s\n",
            "956:\tlearn: 0.9999310\ttest: 0.9507868\tbest: 0.9879708 (0)\ttotal: 35.1s\tremaining: 1.57s\n",
            "957:\tlearn: 0.9999310\ttest: 0.9507868\tbest: 0.9879708 (0)\ttotal: 35.1s\tremaining: 1.54s\n",
            "958:\tlearn: 0.9999310\ttest: 0.9507868\tbest: 0.9879708 (0)\ttotal: 35.1s\tremaining: 1.5s\n",
            "959:\tlearn: 0.9999310\ttest: 0.9507868\tbest: 0.9879708 (0)\ttotal: 35.2s\tremaining: 1.46s\n",
            "960:\tlearn: 0.9999310\ttest: 0.9507868\tbest: 0.9879708 (0)\ttotal: 35.2s\tremaining: 1.43s\n",
            "961:\tlearn: 0.9999310\ttest: 0.9507868\tbest: 0.9879708 (0)\ttotal: 35.2s\tremaining: 1.39s\n",
            "962:\tlearn: 0.9999310\ttest: 0.9507868\tbest: 0.9879708 (0)\ttotal: 35.2s\tremaining: 1.35s\n",
            "963:\tlearn: 0.9999310\ttest: 0.9507868\tbest: 0.9879708 (0)\ttotal: 35.3s\tremaining: 1.32s\n",
            "964:\tlearn: 0.9999310\ttest: 0.9507868\tbest: 0.9879708 (0)\ttotal: 35.3s\tremaining: 1.28s\n",
            "965:\tlearn: 0.9999310\ttest: 0.9507868\tbest: 0.9879708 (0)\ttotal: 35.4s\tremaining: 1.24s\n",
            "966:\tlearn: 0.9999310\ttest: 0.9507868\tbest: 0.9879708 (0)\ttotal: 35.4s\tremaining: 1.21s\n",
            "967:\tlearn: 0.9999310\ttest: 0.9507868\tbest: 0.9879708 (0)\ttotal: 35.4s\tremaining: 1.17s\n",
            "968:\tlearn: 0.9999310\ttest: 0.9507868\tbest: 0.9879708 (0)\ttotal: 35.5s\tremaining: 1.13s\n",
            "969:\tlearn: 0.9999310\ttest: 0.9507868\tbest: 0.9879708 (0)\ttotal: 35.5s\tremaining: 1.1s\n",
            "970:\tlearn: 0.9999310\ttest: 0.9507868\tbest: 0.9879708 (0)\ttotal: 35.5s\tremaining: 1.06s\n",
            "971:\tlearn: 0.9999310\ttest: 0.9507868\tbest: 0.9879708 (0)\ttotal: 35.6s\tremaining: 1.02s\n",
            "972:\tlearn: 0.9999310\ttest: 0.9507868\tbest: 0.9879708 (0)\ttotal: 35.6s\tremaining: 988ms\n",
            "973:\tlearn: 0.9999310\ttest: 0.9507868\tbest: 0.9879708 (0)\ttotal: 35.6s\tremaining: 951ms\n",
            "974:\tlearn: 0.9999310\ttest: 0.9507868\tbest: 0.9879708 (0)\ttotal: 35.7s\tremaining: 915ms\n",
            "975:\tlearn: 0.9999310\ttest: 0.9507868\tbest: 0.9879708 (0)\ttotal: 35.7s\tremaining: 878ms\n",
            "976:\tlearn: 0.9999310\ttest: 0.9507868\tbest: 0.9879708 (0)\ttotal: 35.7s\tremaining: 841ms\n",
            "977:\tlearn: 0.9999310\ttest: 0.9507868\tbest: 0.9879708 (0)\ttotal: 35.8s\tremaining: 805ms\n",
            "978:\tlearn: 0.9999310\ttest: 0.9507868\tbest: 0.9879708 (0)\ttotal: 35.8s\tremaining: 768ms\n",
            "979:\tlearn: 0.9999310\ttest: 0.9507868\tbest: 0.9879708 (0)\ttotal: 35.8s\tremaining: 731ms\n",
            "980:\tlearn: 0.9999310\ttest: 0.9507868\tbest: 0.9879708 (0)\ttotal: 35.9s\tremaining: 695ms\n",
            "981:\tlearn: 0.9999310\ttest: 0.9507868\tbest: 0.9879708 (0)\ttotal: 35.9s\tremaining: 658ms\n",
            "982:\tlearn: 0.9999310\ttest: 0.9507868\tbest: 0.9879708 (0)\ttotal: 35.9s\tremaining: 621ms\n",
            "983:\tlearn: 0.9999310\ttest: 0.9507868\tbest: 0.9879708 (0)\ttotal: 36s\tremaining: 585ms\n",
            "984:\tlearn: 0.9999310\ttest: 0.9507868\tbest: 0.9879708 (0)\ttotal: 36s\tremaining: 548ms\n",
            "985:\tlearn: 0.9999310\ttest: 0.9507868\tbest: 0.9879708 (0)\ttotal: 36s\tremaining: 512ms\n",
            "986:\tlearn: 0.9999310\ttest: 0.9507868\tbest: 0.9879708 (0)\ttotal: 36.1s\tremaining: 475ms\n",
            "987:\tlearn: 0.9999310\ttest: 0.9507868\tbest: 0.9879708 (0)\ttotal: 36.1s\tremaining: 438ms\n",
            "988:\tlearn: 0.9999310\ttest: 0.9507868\tbest: 0.9879708 (0)\ttotal: 36.1s\tremaining: 402ms\n",
            "989:\tlearn: 0.9999310\ttest: 0.9507868\tbest: 0.9879708 (0)\ttotal: 36.2s\tremaining: 365ms\n",
            "990:\tlearn: 0.9999310\ttest: 0.9507868\tbest: 0.9879708 (0)\ttotal: 36.2s\tremaining: 329ms\n",
            "991:\tlearn: 0.9999310\ttest: 0.9507868\tbest: 0.9879708 (0)\ttotal: 36.2s\tremaining: 292ms\n",
            "992:\tlearn: 0.9999310\ttest: 0.9507868\tbest: 0.9879708 (0)\ttotal: 36.3s\tremaining: 256ms\n",
            "993:\tlearn: 0.9999310\ttest: 0.9507868\tbest: 0.9879708 (0)\ttotal: 36.3s\tremaining: 219ms\n",
            "994:\tlearn: 0.9999310\ttest: 0.9507868\tbest: 0.9879708 (0)\ttotal: 36.3s\tremaining: 183ms\n",
            "995:\tlearn: 0.9999310\ttest: 0.9507868\tbest: 0.9879708 (0)\ttotal: 36.4s\tremaining: 146ms\n",
            "996:\tlearn: 0.9999310\ttest: 0.9507868\tbest: 0.9879708 (0)\ttotal: 36.4s\tremaining: 110ms\n",
            "997:\tlearn: 0.9999310\ttest: 0.9507868\tbest: 0.9879708 (0)\ttotal: 36.4s\tremaining: 73ms\n",
            "998:\tlearn: 0.9999310\ttest: 0.9507868\tbest: 0.9879708 (0)\ttotal: 36.5s\tremaining: 36.5ms\n",
            "999:\tlearn: 0.9999310\ttest: 0.9507868\tbest: 0.9879708 (0)\ttotal: 36.5s\tremaining: 0us\n",
            "\n",
            "bestTest = 0.987970784\n",
            "bestIteration = 0\n",
            "\n",
            "Shrink model to first 1 iterations.\n"
          ],
          "name": "stdout"
        },
        {
          "output_type": "execute_result",
          "data": {
            "text/plain": [
              "<catboost.core.CatBoostClassifier at 0x7fbd1447edd8>"
            ]
          },
          "metadata": {
            "tags": []
          },
          "execution_count": 55
        }
      ]
    },
    {
      "cell_type": "code",
      "metadata": {
        "colab": {
          "base_uri": "https://localhost:8080/"
        },
        "id": "LPZW8d9EUKqP",
        "outputId": "dfdc42c1-7100-4cb7-a4bd-47648672b7f6"
      },
      "source": [
        "print(\"Start Predicting\")\n",
        "predictions = model.predict(X_test)\n",
        "pred_proba = model.predict_proba(X_test)[:, 1]\n",
        "\n",
        "print(\"\\nResulting Metrics\")\n",
        "print(\"Accuracy : %.4g\" % metrics.accuracy_score(y_test, predictions))\n",
        "print(\"AUC : %f\" % metrics.roc_auc_score(y_test, pred_proba))\n",
        "print(\"F1 Score : %f\" % metrics.f1_score(y_test, predictions))"
      ],
      "execution_count": 56,
      "outputs": [
        {
          "output_type": "stream",
          "text": [
            "Start Predicting\n",
            "\n",
            "Resulting Metrics\n",
            "Accuracy : 0.988\n",
            "AUC : 0.982139\n",
            "F1 Score : 0.902759\n"
          ],
          "name": "stdout"
        }
      ]
    },
    {
      "cell_type": "markdown",
      "metadata": {
        "id": "JRHz3nOo5Lek"
      },
      "source": [
        "## Hyperparameter Optimization"
      ]
    },
    {
      "cell_type": "markdown",
      "metadata": {
        "id": "2VI8wYsJDHne"
      },
      "source": [
        "We will apply RandomSearch and Bayesian Optimization to tune the hyperparameters. Since it is a time consuming process, we only show how to use the libraries for hyperparameter optimization task. For this reason, it is unlikely to beat the performance obtained by default parameters using RandomSearch or GridSearch. \n",
        "\n",
        "However, we can obtain better model if we use Bayesian Optimization."
      ]
    },
    {
      "cell_type": "code",
      "metadata": {
        "colab": {
          "base_uri": "https://localhost:8080/"
        },
        "id": "6KSi9W0aWHIr",
        "outputId": "e2d2ce1d-68a8-4ea9-9c85-920b12cace82"
      },
      "source": [
        "from sklearn.model_selection import RandomizedSearchCV\n",
        "from scipy.stats import uniform as sp_randFloat\n",
        "from scipy.stats import randint as sp_randInt  \n",
        "\n",
        "parameters = {'depth'         : sp_randInt(1, 10),\n",
        "              'learning_rate' : sp_randFloat(),\n",
        "              'iterations'    : sp_randInt(10, 100)\n",
        "}\n",
        "    \n",
        "randm = RandomizedSearchCV(estimator=model, param_distributions = parameters, \n",
        "                               cv = 2, n_iter = 10, n_jobs=-1)\n",
        "randm.fit(X_train, y_train, eval_set=(X_test,y_test))"
      ],
      "execution_count": 57,
      "outputs": [
        {
          "output_type": "stream",
          "text": [
            "0:\tlearn: 0.9979583\ttest: 0.8967093\tbest: 0.8967093 (0)\ttotal: 61.2ms\tremaining: 3.79s\n",
            "1:\tlearn: 0.9967056\ttest: 0.9689618\tbest: 0.9689618 (1)\ttotal: 127ms\tremaining: 3.87s\n",
            "2:\tlearn: 0.9964196\ttest: 0.9769453\tbest: 0.9769453 (2)\ttotal: 180ms\tremaining: 3.6s\n",
            "3:\tlearn: 0.9985501\ttest: 0.9830603\tbest: 0.9830603 (3)\ttotal: 236ms\tremaining: 3.48s\n",
            "4:\tlearn: 0.9982739\ttest: 0.9847280\tbest: 0.9847280 (4)\ttotal: 294ms\tremaining: 3.42s\n",
            "5:\tlearn: 0.9965281\ttest: 0.9857626\tbest: 0.9857626 (5)\ttotal: 348ms\tremaining: 3.3s\n",
            "6:\tlearn: 0.9966662\ttest: 0.9865038\tbest: 0.9865038 (6)\ttotal: 395ms\tremaining: 3.16s\n",
            "7:\tlearn: 0.9968733\ttest: 0.9858552\tbest: 0.9865038 (6)\ttotal: 452ms\tremaining: 3.11s\n",
            "8:\tlearn: 0.9967254\ttest: 0.9873377\tbest: 0.9873377 (8)\ttotal: 511ms\tremaining: 3.07s\n",
            "9:\tlearn: 0.9970410\ttest: 0.9890980\tbest: 0.9890980 (9)\ttotal: 569ms\tremaining: 3.02s\n",
            "10:\tlearn: 0.9970410\ttest: 0.9892216\tbest: 0.9892216 (10)\ttotal: 626ms\tremaining: 2.96s\n",
            "11:\tlearn: 0.9989446\ttest: 0.9892061\tbest: 0.9892216 (10)\ttotal: 684ms\tremaining: 2.9s\n",
            "12:\tlearn: 0.9990433\ttest: 0.9852376\tbest: 0.9892216 (10)\ttotal: 743ms\tremaining: 2.86s\n",
            "13:\tlearn: 0.9990334\ttest: 0.9858552\tbest: 0.9892216 (10)\ttotal: 800ms\tremaining: 2.8s\n",
            "14:\tlearn: 0.9990728\ttest: 0.9856699\tbest: 0.9892216 (10)\ttotal: 857ms\tremaining: 2.74s\n",
            "15:\tlearn: 0.9990433\ttest: 0.9863185\tbest: 0.9892216 (10)\ttotal: 917ms\tremaining: 2.69s\n",
            "16:\tlearn: 0.9990433\ttest: 0.9855310\tbest: 0.9892216 (10)\ttotal: 975ms\tremaining: 2.64s\n",
            "17:\tlearn: 0.9990433\ttest: 0.9845736\tbest: 0.9892216 (10)\ttotal: 1.03s\tremaining: 2.58s\n",
            "18:\tlearn: 0.9990728\ttest: 0.9835544\tbest: 0.9892216 (10)\ttotal: 1.09s\tremaining: 2.52s\n",
            "19:\tlearn: 0.9991024\ttest: 0.9798175\tbest: 0.9892216 (10)\ttotal: 1.15s\tremaining: 2.48s\n",
            "20:\tlearn: 0.9991024\ttest: 0.9778255\tbest: 0.9892216 (10)\ttotal: 1.22s\tremaining: 2.44s\n",
            "21:\tlearn: 0.9991320\ttest: 0.9780571\tbest: 0.9892216 (10)\ttotal: 1.28s\tremaining: 2.38s\n",
            "22:\tlearn: 0.9991320\ttest: 0.9790763\tbest: 0.9892216 (10)\ttotal: 1.33s\tremaining: 2.32s\n",
            "23:\tlearn: 0.9991320\ttest: 0.9795395\tbest: 0.9892216 (10)\ttotal: 1.39s\tremaining: 2.26s\n",
            "24:\tlearn: 0.9991419\ttest: 0.9792925\tbest: 0.9892216 (10)\ttotal: 1.45s\tremaining: 2.21s\n",
            "25:\tlearn: 0.9991419\ttest: 0.9789373\tbest: 0.9892216 (10)\ttotal: 1.52s\tremaining: 2.16s\n",
            "26:\tlearn: 0.9992307\ttest: 0.9790454\tbest: 0.9892216 (10)\ttotal: 1.57s\tremaining: 2.1s\n",
            "27:\tlearn: 0.9992307\ttest: 0.9775012\tbest: 0.9892216 (10)\ttotal: 1.63s\tremaining: 2.04s\n",
            "28:\tlearn: 0.9992602\ttest: 0.9753393\tbest: 0.9892216 (10)\ttotal: 1.69s\tremaining: 1.98s\n",
            "29:\tlearn: 0.9992701\ttest: 0.9752776\tbest: 0.9892216 (10)\ttotal: 1.75s\tremaining: 1.92s\n",
            "30:\tlearn: 0.9992997\ttest: 0.9736562\tbest: 0.9892216 (10)\ttotal: 1.81s\tremaining: 1.87s\n",
            "31:\tlearn: 0.9992800\ttest: 0.9730848\tbest: 0.9892216 (10)\ttotal: 1.87s\tremaining: 1.81s\n",
            "32:\tlearn: 0.9992898\ttest: 0.9728069\tbest: 0.9892216 (10)\ttotal: 1.93s\tremaining: 1.75s\n",
            "33:\tlearn: 0.9992997\ttest: 0.9720811\tbest: 0.9892216 (10)\ttotal: 1.99s\tremaining: 1.7s\n",
            "34:\tlearn: 0.9992997\ttest: 0.9715406\tbest: 0.9892216 (10)\ttotal: 2.04s\tremaining: 1.64s\n",
            "35:\tlearn: 0.9992997\ttest: 0.9699192\tbest: 0.9892216 (10)\ttotal: 2.11s\tremaining: 1.59s\n",
            "36:\tlearn: 0.9993096\ttest: 0.9689001\tbest: 0.9892216 (10)\ttotal: 2.18s\tremaining: 1.53s\n",
            "37:\tlearn: 0.9993194\ttest: 0.9693324\tbest: 0.9892216 (10)\ttotal: 2.24s\tremaining: 1.47s\n",
            "38:\tlearn: 0.9993687\ttest: 0.9683751\tbest: 0.9892216 (10)\ttotal: 2.3s\tremaining: 1.41s\n",
            "39:\tlearn: 0.9993687\ttest: 0.9677419\tbest: 0.9892216 (10)\ttotal: 2.36s\tremaining: 1.35s\n",
            "40:\tlearn: 0.9993687\ttest: 0.9674640\tbest: 0.9892216 (10)\ttotal: 2.43s\tremaining: 1.3s\n",
            "41:\tlearn: 0.9993786\ttest: 0.9677419\tbest: 0.9892216 (10)\ttotal: 2.49s\tremaining: 1.25s\n",
            "42:\tlearn: 0.9993786\ttest: 0.9675257\tbest: 0.9892216 (10)\ttotal: 2.55s\tremaining: 1.19s\n",
            "43:\tlearn: 0.9993786\ttest: 0.9662132\tbest: 0.9892216 (10)\ttotal: 2.61s\tremaining: 1.13s\n",
            "44:\tlearn: 0.9993786\ttest: 0.9663985\tbest: 0.9892216 (10)\ttotal: 2.67s\tremaining: 1.07s\n",
            "45:\tlearn: 0.9993983\ttest: 0.9666147\tbest: 0.9892216 (10)\ttotal: 2.73s\tremaining: 1.01s\n",
            "46:\tlearn: 0.9993983\ttest: 0.9667537\tbest: 0.9892216 (10)\ttotal: 2.79s\tremaining: 951ms\n",
            "47:\tlearn: 0.9994181\ttest: 0.9666456\tbest: 0.9892216 (10)\ttotal: 2.85s\tremaining: 891ms\n",
            "48:\tlearn: 0.9994082\ttest: 0.9661205\tbest: 0.9892216 (10)\ttotal: 2.92s\tremaining: 833ms\n",
            "49:\tlearn: 0.9994082\ttest: 0.9649470\tbest: 0.9892216 (10)\ttotal: 2.97s\tremaining: 773ms\n",
            "50:\tlearn: 0.9994279\ttest: 0.9651631\tbest: 0.9892216 (10)\ttotal: 3.04s\tremaining: 714ms\n",
            "51:\tlearn: 0.9994378\ttest: 0.9667691\tbest: 0.9892216 (10)\ttotal: 3.1s\tremaining: 655ms\n",
            "52:\tlearn: 0.9994378\ttest: 0.9668154\tbest: 0.9892216 (10)\ttotal: 3.16s\tremaining: 597ms\n",
            "53:\tlearn: 0.9994378\ttest: 0.9651168\tbest: 0.9892216 (10)\ttotal: 3.22s\tremaining: 537ms\n",
            "54:\tlearn: 0.9994378\ttest: 0.9650396\tbest: 0.9892216 (10)\ttotal: 3.29s\tremaining: 479ms\n",
            "55:\tlearn: 0.9994378\ttest: 0.9646999\tbest: 0.9892216 (10)\ttotal: 3.35s\tremaining: 419ms\n",
            "56:\tlearn: 0.9994477\ttest: 0.9646999\tbest: 0.9892216 (10)\ttotal: 3.42s\tremaining: 360ms\n",
            "57:\tlearn: 0.9994477\ttest: 0.9645455\tbest: 0.9892216 (10)\ttotal: 3.48s\tremaining: 300ms\n",
            "58:\tlearn: 0.9994575\ttest: 0.9640668\tbest: 0.9892216 (10)\ttotal: 3.54s\tremaining: 240ms\n",
            "59:\tlearn: 0.9994575\ttest: 0.9641440\tbest: 0.9892216 (10)\ttotal: 3.6s\tremaining: 180ms\n",
            "60:\tlearn: 0.9994772\ttest: 0.9641440\tbest: 0.9892216 (10)\ttotal: 3.66s\tremaining: 120ms\n",
            "61:\tlearn: 0.9994772\ttest: 0.9639587\tbest: 0.9892216 (10)\ttotal: 3.72s\tremaining: 60ms\n",
            "62:\tlearn: 0.9994772\ttest: 0.9638043\tbest: 0.9892216 (10)\ttotal: 3.78s\tremaining: 0us\n",
            "\n",
            "bestTest = 0.9892215754\n",
            "bestIteration = 10\n",
            "\n",
            "Shrink model to first 11 iterations.\n"
          ],
          "name": "stdout"
        },
        {
          "output_type": "execute_result",
          "data": {
            "text/plain": [
              "RandomizedSearchCV(cv=2, error_score=nan,\n",
              "                   estimator=<catboost.core.CatBoostClassifier object at 0x7fbd1447edd8>,\n",
              "                   iid='deprecated', n_iter=10, n_jobs=-1,\n",
              "                   param_distributions={'depth': <scipy.stats._distn_infrastructure.rv_frozen object at 0x7fbd144526d8>,\n",
              "                                        'iterations': <scipy.stats._distn_infrastructure.rv_frozen object at 0x7fbd14452dd8>,\n",
              "                                        'learning_rate': <scipy.stats._distn_infrastructure.rv_frozen object at 0x7fbd14452860>},\n",
              "                   pre_dispatch='2*n_jobs', random_state=None, refit=True,\n",
              "                   return_train_score=False, scoring=None, verbose=0)"
            ]
          },
          "metadata": {
            "tags": []
          },
          "execution_count": 57
        }
      ]
    },
    {
      "cell_type": "code",
      "metadata": {
        "colab": {
          "base_uri": "https://localhost:8080/"
        },
        "id": "4pSR8Fjk7BIu",
        "outputId": "d85670cb-156c-481c-c4f7-fdb5a7565ac3"
      },
      "source": [
        "randm.best_estimator_"
      ],
      "execution_count": 58,
      "outputs": [
        {
          "output_type": "execute_result",
          "data": {
            "text/plain": [
              "<catboost.core.CatBoostClassifier at 0x7fbd143f3c88>"
            ]
          },
          "metadata": {
            "tags": []
          },
          "execution_count": 58
        }
      ]
    },
    {
      "cell_type": "code",
      "metadata": {
        "colab": {
          "base_uri": "https://localhost:8080/"
        },
        "id": "0DO1YzGh8VlF",
        "outputId": "539fae0c-1583-4aa0-cef3-a1c7bcd7d1e4"
      },
      "source": [
        "randm.best_params_"
      ],
      "execution_count": 59,
      "outputs": [
        {
          "output_type": "execute_result",
          "data": {
            "text/plain": [
              "{'depth': 8, 'iterations': 63, 'learning_rate': 0.017860792872981812}"
            ]
          },
          "metadata": {
            "tags": []
          },
          "execution_count": 59
        }
      ]
    },
    {
      "cell_type": "code",
      "metadata": {
        "colab": {
          "base_uri": "https://localhost:8080/"
        },
        "id": "cQZBnttG8Z4r",
        "outputId": "178dc2b9-44d4-4b44-aadd-d835d3583955"
      },
      "source": [
        "print(\"Start Predicting\")\n",
        "predictions = randm.best_estimator_.predict(X_test)\n",
        "pred_proba = randm.best_estimator_.predict_proba(X_test)[:, 1]\n",
        "\n",
        "print(\"\\nResulting Metrics\")\n",
        "print(\"Accuracy : %.4g\" % metrics.accuracy_score(y_test, predictions))\n",
        "print(\"AUC : %f\" % metrics.roc_auc_score(y_test, pred_proba))\n",
        "print(\"F1 Score : %f\" % metrics.f1_score(y_test, predictions))"
      ],
      "execution_count": 60,
      "outputs": [
        {
          "output_type": "stream",
          "text": [
            "Start Predicting\n",
            "\n",
            "Resulting Metrics\n",
            "Accuracy : 0.9892\n",
            "AUC : 0.997010\n",
            "F1 Score : 0.916126\n"
          ],
          "name": "stdout"
        }
      ]
    },
    {
      "cell_type": "code",
      "metadata": {
        "colab": {
          "base_uri": "https://localhost:8080/"
        },
        "id": "ulqF9iCf9o9S",
        "outputId": "ff03d364-2ac4-4134-ee1f-0ce5db76e64b"
      },
      "source": [
        "!pip install scikit-optimize"
      ],
      "execution_count": 61,
      "outputs": [
        {
          "output_type": "stream",
          "text": [
            "Collecting scikit-optimize\n",
            "\u001b[?25l  Downloading https://files.pythonhosted.org/packages/8b/03/be33e89f55866065a02e515c5b319304a801a9f1027a9b311a9b1d1f8dc7/scikit_optimize-0.8.1-py2.py3-none-any.whl (101kB)\n",
            "\r\u001b[K     |███▎                            | 10kB 22.6MB/s eta 0:00:01\r\u001b[K     |██████▌                         | 20kB 28.5MB/s eta 0:00:01\r\u001b[K     |█████████▊                      | 30kB 13.8MB/s eta 0:00:01\r\u001b[K     |█████████████                   | 40kB 10.2MB/s eta 0:00:01\r\u001b[K     |████████████████▏               | 51kB 6.8MB/s eta 0:00:01\r\u001b[K     |███████████████████▍            | 61kB 7.2MB/s eta 0:00:01\r\u001b[K     |██████████████████████▊         | 71kB 7.6MB/s eta 0:00:01\r\u001b[K     |██████████████████████████      | 81kB 7.8MB/s eta 0:00:01\r\u001b[K     |█████████████████████████████▏  | 92kB 8.1MB/s eta 0:00:01\r\u001b[K     |████████████████████████████████| 102kB 6.0MB/s \n",
            "\u001b[?25hRequirement already satisfied: scipy>=0.19.1 in /usr/local/lib/python3.6/dist-packages (from scikit-optimize) (1.4.1)\n",
            "Requirement already satisfied: numpy>=1.13.3 in /usr/local/lib/python3.6/dist-packages (from scikit-optimize) (1.19.4)\n",
            "Requirement already satisfied: joblib>=0.11 in /usr/local/lib/python3.6/dist-packages (from scikit-optimize) (1.0.0)\n",
            "Requirement already satisfied: scikit-learn>=0.20.0 in /usr/local/lib/python3.6/dist-packages (from scikit-optimize) (0.22.2.post1)\n",
            "Collecting pyaml>=16.9\n",
            "  Downloading https://files.pythonhosted.org/packages/15/c4/1310a054d33abc318426a956e7d6df0df76a6ddfa9c66f6310274fb75d42/pyaml-20.4.0-py2.py3-none-any.whl\n",
            "Requirement already satisfied: PyYAML in /usr/local/lib/python3.6/dist-packages (from pyaml>=16.9->scikit-optimize) (3.13)\n",
            "Installing collected packages: pyaml, scikit-optimize\n",
            "Successfully installed pyaml-20.4.0 scikit-optimize-0.8.1\n"
          ],
          "name": "stdout"
        }
      ]
    },
    {
      "cell_type": "code",
      "metadata": {
        "id": "DJJg5nbw9nh4"
      },
      "source": [
        "from skopt import BayesSearchCV\n",
        "from skopt.callbacks import DeadlineStopper, VerboseCallback, DeltaXStopper\n",
        "from skopt.space import Real, Categorical, Integer\n",
        "from sklearn.model_selection import StratifiedKFold\n",
        "\n",
        "from sklearn.metrics import roc_auc_score\n",
        "from sklearn.metrics import make_scorer"
      ],
      "execution_count": 62,
      "outputs": []
    },
    {
      "cell_type": "code",
      "metadata": {
        "colab": {
          "base_uri": "https://localhost:8080/"
        },
        "id": "M1t6h3_R8yps",
        "outputId": "cf65810e-e9ec-4f4e-f0cf-af1d6f26dac4"
      },
      "source": [
        "# Converting average precision score into a scorer suitable for model selection\n",
        "roc_auc = make_scorer(roc_auc_score, greater_is_better=True, needs_threshold=True)\n",
        "\n",
        "# Defining your search space\n",
        "search_spaces = {'iterations': Integer(10, 300),\n",
        "                 'depth': Integer(1, 8),\n",
        "                 'learning_rate': Real(0.01, 1.0, 'log-uniform'),\n",
        "                 #'random_strength': Real(1e-9, 10, 'log-uniform'),\n",
        "                 #'bagging_temperature': Real(0.0, 1.0),\n",
        "                 #'border_count': Integer(1, 255),\n",
        "                 #'l2_leaf_reg': Integer(2, 30),\n",
        "                 #'scale_pos_weight':Real(0.01, 1.0, 'uniform')\n",
        "                 }\n",
        "# Setting up BayesSearchCV\n",
        "opt = BayesSearchCV(model,\n",
        "                    search_spaces,\n",
        "                    scoring=roc_auc,\n",
        "                    n_iter=2,\n",
        "                    n_jobs=-1,  \n",
        "                    return_train_score=False,\n",
        "                    refit=True, #use best model\n",
        "                    optimizer_kwargs={'base_estimator': 'GP'},\n",
        "                    random_state=42)\n",
        "# Running the optimization\n",
        "opt.fit(X_train, y_train)"
      ],
      "execution_count": 64,
      "outputs": [
        {
          "output_type": "stream",
          "text": [
            "0:\tlearn: 0.9974552\ttotal: 48.9ms\tremaining: 13s\n",
            "1:\tlearn: 0.9986684\ttotal: 95ms\tremaining: 12.5s\n",
            "2:\tlearn: 0.9984909\ttotal: 139ms\tremaining: 12.2s\n",
            "3:\tlearn: 0.9976032\ttotal: 182ms\tremaining: 11.9s\n",
            "4:\tlearn: 0.9979879\ttotal: 226ms\tremaining: 11.8s\n",
            "5:\tlearn: 0.9982640\ttotal: 276ms\tremaining: 12s\n",
            "6:\tlearn: 0.9982246\ttotal: 320ms\tremaining: 11.8s\n",
            "7:\tlearn: 0.9983331\ttotal: 365ms\tremaining: 11.8s\n",
            "8:\tlearn: 0.9988361\ttotal: 410ms\tremaining: 11.7s\n",
            "9:\tlearn: 0.9984712\ttotal: 454ms\tremaining: 11.6s\n",
            "10:\tlearn: 0.9986684\ttotal: 502ms\tremaining: 11.6s\n",
            "11:\tlearn: 0.9992405\ttotal: 547ms\tremaining: 11.6s\n",
            "12:\tlearn: 0.9993786\ttotal: 599ms\tremaining: 11.7s\n",
            "13:\tlearn: 0.9994082\ttotal: 647ms\tremaining: 11.7s\n",
            "14:\tlearn: 0.9993983\ttotal: 693ms\tremaining: 11.6s\n",
            "15:\tlearn: 0.9993786\ttotal: 742ms\tremaining: 11.6s\n",
            "16:\tlearn: 0.9993885\ttotal: 788ms\tremaining: 11.5s\n",
            "17:\tlearn: 0.9993786\ttotal: 834ms\tremaining: 11.5s\n",
            "18:\tlearn: 0.9994181\ttotal: 880ms\tremaining: 11.4s\n",
            "19:\tlearn: 0.9994181\ttotal: 930ms\tremaining: 11.4s\n",
            "20:\tlearn: 0.9993885\ttotal: 986ms\tremaining: 11.5s\n",
            "21:\tlearn: 0.9993983\ttotal: 1.03s\tremaining: 11.5s\n",
            "22:\tlearn: 0.9993885\ttotal: 1.08s\tremaining: 11.4s\n",
            "23:\tlearn: 0.9994181\ttotal: 1.12s\tremaining: 11.3s\n",
            "24:\tlearn: 0.9994378\ttotal: 1.17s\tremaining: 11.3s\n",
            "25:\tlearn: 0.9994279\ttotal: 1.22s\tremaining: 11.3s\n",
            "26:\tlearn: 0.9994378\ttotal: 1.27s\tremaining: 11.2s\n",
            "27:\tlearn: 0.9994378\ttotal: 1.31s\tremaining: 11.2s\n",
            "28:\tlearn: 0.9994378\ttotal: 1.36s\tremaining: 11.1s\n",
            "29:\tlearn: 0.9994575\ttotal: 1.41s\tremaining: 11.1s\n",
            "30:\tlearn: 0.9994871\ttotal: 1.46s\tremaining: 11.1s\n",
            "31:\tlearn: 0.9994772\ttotal: 1.51s\tremaining: 11s\n",
            "32:\tlearn: 0.9994871\ttotal: 1.56s\tremaining: 11s\n",
            "33:\tlearn: 0.9994871\ttotal: 1.63s\tremaining: 11.1s\n",
            "34:\tlearn: 0.9994871\ttotal: 1.68s\tremaining: 11.1s\n",
            "35:\tlearn: 0.9994871\ttotal: 1.73s\tremaining: 11s\n",
            "36:\tlearn: 0.9994871\ttotal: 1.78s\tremaining: 11s\n",
            "37:\tlearn: 0.9995266\ttotal: 1.83s\tremaining: 11s\n",
            "38:\tlearn: 0.9995167\ttotal: 1.88s\tremaining: 10.9s\n",
            "39:\tlearn: 0.9995068\ttotal: 1.92s\tremaining: 10.9s\n",
            "40:\tlearn: 0.9995266\ttotal: 1.97s\tremaining: 10.8s\n",
            "41:\tlearn: 0.9995167\ttotal: 2.02s\tremaining: 10.8s\n",
            "42:\tlearn: 0.9995167\ttotal: 2.08s\tremaining: 10.8s\n",
            "43:\tlearn: 0.9995364\ttotal: 2.13s\tremaining: 10.8s\n",
            "44:\tlearn: 0.9995364\ttotal: 2.18s\tremaining: 10.7s\n",
            "45:\tlearn: 0.9995463\ttotal: 2.23s\tremaining: 10.6s\n",
            "46:\tlearn: 0.9995463\ttotal: 2.27s\tremaining: 10.6s\n",
            "47:\tlearn: 0.9995463\ttotal: 2.32s\tremaining: 10.5s\n",
            "48:\tlearn: 0.9995463\ttotal: 2.38s\tremaining: 10.5s\n",
            "49:\tlearn: 0.9995463\ttotal: 2.42s\tremaining: 10.5s\n",
            "50:\tlearn: 0.9995561\ttotal: 2.47s\tremaining: 10.4s\n",
            "51:\tlearn: 0.9995561\ttotal: 2.51s\tremaining: 10.3s\n",
            "52:\tlearn: 0.9995561\ttotal: 2.56s\tremaining: 10.3s\n",
            "53:\tlearn: 0.9995561\ttotal: 2.61s\tremaining: 10.3s\n",
            "54:\tlearn: 0.9995561\ttotal: 2.66s\tremaining: 10.2s\n",
            "55:\tlearn: 0.9995561\ttotal: 2.71s\tremaining: 10.2s\n",
            "56:\tlearn: 0.9995561\ttotal: 2.76s\tremaining: 10.1s\n",
            "57:\tlearn: 0.9995759\ttotal: 2.8s\tremaining: 10s\n",
            "58:\tlearn: 0.9995660\ttotal: 2.85s\tremaining: 10s\n",
            "59:\tlearn: 0.9995759\ttotal: 2.9s\tremaining: 9.95s\n",
            "60:\tlearn: 0.9995857\ttotal: 2.94s\tremaining: 9.89s\n",
            "61:\tlearn: 0.9995857\ttotal: 3s\tremaining: 9.87s\n",
            "62:\tlearn: 0.9995857\ttotal: 3.04s\tremaining: 9.81s\n",
            "63:\tlearn: 0.9996055\ttotal: 3.09s\tremaining: 9.77s\n",
            "64:\tlearn: 0.9996055\ttotal: 3.14s\tremaining: 9.7s\n",
            "65:\tlearn: 0.9997041\ttotal: 3.18s\tremaining: 9.65s\n",
            "66:\tlearn: 0.9997633\ttotal: 3.23s\tremaining: 9.6s\n",
            "67:\tlearn: 0.9997633\ttotal: 3.27s\tremaining: 9.53s\n",
            "68:\tlearn: 0.9997633\ttotal: 3.32s\tremaining: 9.48s\n",
            "69:\tlearn: 0.9997731\ttotal: 3.37s\tremaining: 9.45s\n",
            "70:\tlearn: 0.9997731\ttotal: 3.42s\tremaining: 9.38s\n",
            "71:\tlearn: 0.9997731\ttotal: 3.46s\tremaining: 9.32s\n",
            "72:\tlearn: 0.9997929\ttotal: 3.5s\tremaining: 9.26s\n",
            "73:\tlearn: 0.9997929\ttotal: 3.56s\tremaining: 9.22s\n",
            "74:\tlearn: 0.9997929\ttotal: 3.6s\tremaining: 9.16s\n",
            "75:\tlearn: 0.9997929\ttotal: 3.65s\tremaining: 9.12s\n",
            "76:\tlearn: 0.9997929\ttotal: 3.69s\tremaining: 9.06s\n",
            "77:\tlearn: 0.9997929\ttotal: 3.73s\tremaining: 9s\n",
            "78:\tlearn: 0.9997929\ttotal: 3.79s\tremaining: 8.96s\n",
            "79:\tlearn: 0.9997929\ttotal: 3.83s\tremaining: 8.91s\n",
            "80:\tlearn: 0.9998027\ttotal: 3.87s\tremaining: 8.85s\n",
            "81:\tlearn: 0.9998027\ttotal: 3.92s\tremaining: 8.79s\n",
            "82:\tlearn: 0.9998027\ttotal: 3.97s\tremaining: 8.76s\n",
            "83:\tlearn: 0.9998027\ttotal: 4.03s\tremaining: 8.73s\n",
            "84:\tlearn: 0.9998027\ttotal: 4.07s\tremaining: 8.67s\n",
            "85:\tlearn: 0.9998027\ttotal: 4.11s\tremaining: 8.61s\n",
            "86:\tlearn: 0.9998027\ttotal: 4.16s\tremaining: 8.56s\n",
            "87:\tlearn: 0.9998027\ttotal: 4.21s\tremaining: 8.51s\n",
            "88:\tlearn: 0.9998027\ttotal: 4.25s\tremaining: 8.46s\n",
            "89:\tlearn: 0.9998027\ttotal: 4.3s\tremaining: 8.41s\n",
            "90:\tlearn: 0.9998027\ttotal: 4.34s\tremaining: 8.36s\n",
            "91:\tlearn: 0.9998027\ttotal: 4.39s\tremaining: 8.3s\n",
            "92:\tlearn: 0.9998027\ttotal: 4.43s\tremaining: 8.24s\n",
            "93:\tlearn: 0.9998027\ttotal: 4.48s\tremaining: 8.19s\n",
            "94:\tlearn: 0.9998027\ttotal: 4.52s\tremaining: 8.13s\n",
            "95:\tlearn: 0.9998027\ttotal: 4.57s\tremaining: 8.1s\n",
            "96:\tlearn: 0.9998027\ttotal: 4.61s\tremaining: 8.03s\n",
            "97:\tlearn: 0.9998126\ttotal: 4.65s\tremaining: 7.97s\n",
            "98:\tlearn: 0.9998126\ttotal: 4.7s\tremaining: 7.93s\n",
            "99:\tlearn: 0.9998126\ttotal: 4.75s\tremaining: 7.88s\n",
            "100:\tlearn: 0.9998225\ttotal: 4.79s\tremaining: 7.83s\n",
            "101:\tlearn: 0.9998225\ttotal: 4.83s\tremaining: 7.77s\n",
            "102:\tlearn: 0.9998225\ttotal: 4.88s\tremaining: 7.72s\n",
            "103:\tlearn: 0.9998225\ttotal: 4.93s\tremaining: 7.67s\n",
            "104:\tlearn: 0.9998225\ttotal: 4.97s\tremaining: 7.63s\n",
            "105:\tlearn: 0.9998225\ttotal: 5.03s\tremaining: 7.59s\n",
            "106:\tlearn: 0.9998225\ttotal: 5.07s\tremaining: 7.54s\n",
            "107:\tlearn: 0.9998225\ttotal: 5.12s\tremaining: 7.49s\n",
            "108:\tlearn: 0.9998225\ttotal: 5.17s\tremaining: 7.44s\n",
            "109:\tlearn: 0.9998126\ttotal: 5.21s\tremaining: 7.39s\n",
            "110:\tlearn: 0.9998225\ttotal: 5.26s\tremaining: 7.34s\n",
            "111:\tlearn: 0.9998323\ttotal: 5.3s\tremaining: 7.29s\n",
            "112:\tlearn: 0.9998323\ttotal: 5.35s\tremaining: 7.24s\n",
            "113:\tlearn: 0.9998323\ttotal: 5.4s\tremaining: 7.2s\n",
            "114:\tlearn: 0.9998323\ttotal: 5.45s\tremaining: 7.15s\n",
            "115:\tlearn: 0.9998323\ttotal: 5.5s\tremaining: 7.11s\n",
            "116:\tlearn: 0.9998323\ttotal: 5.54s\tremaining: 7.05s\n",
            "117:\tlearn: 0.9998323\ttotal: 5.59s\tremaining: 7.01s\n",
            "118:\tlearn: 0.9998323\ttotal: 5.63s\tremaining: 6.96s\n",
            "119:\tlearn: 0.9998323\ttotal: 5.68s\tremaining: 6.91s\n",
            "120:\tlearn: 0.9998323\ttotal: 5.72s\tremaining: 6.86s\n",
            "121:\tlearn: 0.9998323\ttotal: 5.76s\tremaining: 6.8s\n",
            "122:\tlearn: 0.9998323\ttotal: 5.81s\tremaining: 6.75s\n",
            "123:\tlearn: 0.9998323\ttotal: 5.85s\tremaining: 6.7s\n",
            "124:\tlearn: 0.9998323\ttotal: 5.9s\tremaining: 6.65s\n",
            "125:\tlearn: 0.9998323\ttotal: 5.95s\tremaining: 6.61s\n",
            "126:\tlearn: 0.9998323\ttotal: 6s\tremaining: 6.57s\n",
            "127:\tlearn: 0.9998323\ttotal: 6.05s\tremaining: 6.52s\n",
            "128:\tlearn: 0.9998323\ttotal: 6.1s\tremaining: 6.48s\n",
            "129:\tlearn: 0.9998323\ttotal: 6.13s\tremaining: 6.41s\n",
            "130:\tlearn: 0.9998323\ttotal: 6.18s\tremaining: 6.37s\n",
            "131:\tlearn: 0.9998323\ttotal: 6.22s\tremaining: 6.32s\n",
            "132:\tlearn: 0.9998323\ttotal: 6.27s\tremaining: 6.27s\n",
            "133:\tlearn: 0.9998323\ttotal: 6.31s\tremaining: 6.22s\n",
            "134:\tlearn: 0.9998323\ttotal: 6.35s\tremaining: 6.17s\n",
            "135:\tlearn: 0.9998323\ttotal: 6.41s\tremaining: 6.12s\n",
            "136:\tlearn: 0.9998323\ttotal: 6.45s\tremaining: 6.07s\n",
            "137:\tlearn: 0.9998323\ttotal: 6.49s\tremaining: 6.02s\n",
            "138:\tlearn: 0.9998323\ttotal: 6.53s\tremaining: 5.96s\n",
            "139:\tlearn: 0.9998323\ttotal: 6.57s\tremaining: 5.92s\n",
            "140:\tlearn: 0.9998323\ttotal: 6.62s\tremaining: 5.87s\n",
            "141:\tlearn: 0.9998323\ttotal: 6.66s\tremaining: 5.81s\n",
            "142:\tlearn: 0.9998323\ttotal: 6.71s\tremaining: 5.77s\n",
            "143:\tlearn: 0.9998323\ttotal: 6.75s\tremaining: 5.72s\n",
            "144:\tlearn: 0.9998323\ttotal: 6.8s\tremaining: 5.67s\n",
            "145:\tlearn: 0.9998323\ttotal: 6.84s\tremaining: 5.62s\n",
            "146:\tlearn: 0.9998323\ttotal: 6.88s\tremaining: 5.57s\n",
            "147:\tlearn: 0.9998323\ttotal: 6.93s\tremaining: 5.52s\n",
            "148:\tlearn: 0.9998323\ttotal: 6.97s\tremaining: 5.48s\n",
            "149:\tlearn: 0.9998323\ttotal: 7.02s\tremaining: 5.43s\n",
            "150:\tlearn: 0.9998323\ttotal: 7.08s\tremaining: 5.39s\n",
            "151:\tlearn: 0.9998323\ttotal: 7.14s\tremaining: 5.35s\n",
            "152:\tlearn: 0.9998323\ttotal: 7.18s\tremaining: 5.31s\n",
            "153:\tlearn: 0.9998323\ttotal: 7.23s\tremaining: 5.26s\n",
            "154:\tlearn: 0.9998323\ttotal: 7.27s\tremaining: 5.21s\n",
            "155:\tlearn: 0.9998323\ttotal: 7.32s\tremaining: 5.16s\n",
            "156:\tlearn: 0.9998323\ttotal: 7.36s\tremaining: 5.11s\n",
            "157:\tlearn: 0.9998323\ttotal: 7.41s\tremaining: 5.07s\n",
            "158:\tlearn: 0.9998323\ttotal: 7.46s\tremaining: 5.02s\n",
            "159:\tlearn: 0.9998323\ttotal: 7.51s\tremaining: 4.97s\n",
            "160:\tlearn: 0.9998323\ttotal: 7.55s\tremaining: 4.93s\n",
            "161:\tlearn: 0.9998323\ttotal: 7.6s\tremaining: 4.88s\n",
            "162:\tlearn: 0.9998323\ttotal: 7.64s\tremaining: 4.83s\n",
            "163:\tlearn: 0.9998422\ttotal: 7.69s\tremaining: 4.78s\n",
            "164:\tlearn: 0.9998422\ttotal: 7.73s\tremaining: 4.73s\n",
            "165:\tlearn: 0.9998422\ttotal: 7.78s\tremaining: 4.68s\n",
            "166:\tlearn: 0.9998422\ttotal: 7.82s\tremaining: 4.64s\n",
            "167:\tlearn: 0.9998422\ttotal: 7.87s\tremaining: 4.59s\n",
            "168:\tlearn: 0.9998422\ttotal: 7.9s\tremaining: 4.54s\n",
            "169:\tlearn: 0.9998422\ttotal: 7.95s\tremaining: 4.49s\n",
            "170:\tlearn: 0.9998422\ttotal: 7.99s\tremaining: 4.44s\n",
            "171:\tlearn: 0.9998422\ttotal: 8.04s\tremaining: 4.4s\n",
            "172:\tlearn: 0.9998422\ttotal: 8.09s\tremaining: 4.35s\n",
            "173:\tlearn: 0.9998422\ttotal: 8.14s\tremaining: 4.3s\n",
            "174:\tlearn: 0.9998520\ttotal: 8.19s\tremaining: 4.26s\n",
            "175:\tlearn: 0.9998520\ttotal: 8.22s\tremaining: 4.2s\n",
            "176:\tlearn: 0.9998520\ttotal: 8.26s\tremaining: 4.15s\n",
            "177:\tlearn: 0.9998619\ttotal: 8.31s\tremaining: 4.11s\n",
            "178:\tlearn: 0.9998619\ttotal: 8.35s\tremaining: 4.06s\n",
            "179:\tlearn: 0.9998619\ttotal: 8.4s\tremaining: 4.01s\n",
            "180:\tlearn: 0.9998619\ttotal: 8.44s\tremaining: 3.96s\n",
            "181:\tlearn: 0.9998619\ttotal: 8.49s\tremaining: 3.92s\n",
            "182:\tlearn: 0.9998816\ttotal: 8.53s\tremaining: 3.87s\n",
            "183:\tlearn: 0.9998816\ttotal: 8.58s\tremaining: 3.82s\n",
            "184:\tlearn: 0.9998816\ttotal: 8.62s\tremaining: 3.77s\n",
            "185:\tlearn: 0.9998816\ttotal: 8.66s\tremaining: 3.73s\n",
            "186:\tlearn: 0.9998816\ttotal: 8.71s\tremaining: 3.68s\n",
            "187:\tlearn: 0.9998816\ttotal: 8.75s\tremaining: 3.63s\n",
            "188:\tlearn: 0.9998816\ttotal: 8.78s\tremaining: 3.58s\n",
            "189:\tlearn: 0.9998816\ttotal: 8.83s\tremaining: 3.53s\n",
            "190:\tlearn: 0.9998816\ttotal: 8.87s\tremaining: 3.48s\n",
            "191:\tlearn: 0.9998816\ttotal: 8.92s\tremaining: 3.44s\n",
            "192:\tlearn: 0.9998816\ttotal: 8.97s\tremaining: 3.39s\n",
            "193:\tlearn: 0.9998816\ttotal: 9.02s\tremaining: 3.35s\n",
            "194:\tlearn: 0.9998816\ttotal: 9.07s\tremaining: 3.3s\n",
            "195:\tlearn: 0.9998816\ttotal: 9.11s\tremaining: 3.25s\n",
            "196:\tlearn: 0.9998816\ttotal: 9.16s\tremaining: 3.21s\n",
            "197:\tlearn: 0.9998816\ttotal: 9.2s\tremaining: 3.16s\n",
            "198:\tlearn: 0.9998816\ttotal: 9.25s\tremaining: 3.11s\n",
            "199:\tlearn: 0.9998816\ttotal: 9.29s\tremaining: 3.07s\n",
            "200:\tlearn: 0.9998915\ttotal: 9.34s\tremaining: 3.02s\n",
            "201:\tlearn: 0.9998915\ttotal: 9.38s\tremaining: 2.97s\n",
            "202:\tlearn: 0.9998915\ttotal: 9.43s\tremaining: 2.93s\n",
            "203:\tlearn: 0.9998915\ttotal: 9.47s\tremaining: 2.88s\n",
            "204:\tlearn: 0.9998915\ttotal: 9.5s\tremaining: 2.83s\n",
            "205:\tlearn: 0.9998915\ttotal: 9.56s\tremaining: 2.79s\n",
            "206:\tlearn: 0.9998915\ttotal: 9.61s\tremaining: 2.74s\n",
            "207:\tlearn: 0.9998915\ttotal: 9.66s\tremaining: 2.69s\n",
            "208:\tlearn: 0.9998915\ttotal: 9.71s\tremaining: 2.65s\n",
            "209:\tlearn: 0.9998915\ttotal: 9.75s\tremaining: 2.6s\n",
            "210:\tlearn: 0.9998915\ttotal: 9.8s\tremaining: 2.55s\n",
            "211:\tlearn: 0.9998915\ttotal: 9.84s\tremaining: 2.51s\n",
            "212:\tlearn: 0.9998915\ttotal: 9.9s\tremaining: 2.46s\n",
            "213:\tlearn: 0.9998915\ttotal: 9.94s\tremaining: 2.42s\n",
            "214:\tlearn: 0.9998915\ttotal: 9.98s\tremaining: 2.37s\n",
            "215:\tlearn: 0.9998915\ttotal: 10s\tremaining: 2.32s\n",
            "216:\tlearn: 0.9998915\ttotal: 10.1s\tremaining: 2.28s\n",
            "217:\tlearn: 0.9998915\ttotal: 10.1s\tremaining: 2.23s\n",
            "218:\tlearn: 0.9998915\ttotal: 10.2s\tremaining: 2.18s\n",
            "219:\tlearn: 0.9998915\ttotal: 10.2s\tremaining: 2.13s\n",
            "220:\tlearn: 0.9998915\ttotal: 10.2s\tremaining: 2.08s\n",
            "221:\tlearn: 0.9998915\ttotal: 10.3s\tremaining: 2.04s\n",
            "222:\tlearn: 0.9998915\ttotal: 10.3s\tremaining: 1.99s\n",
            "223:\tlearn: 0.9998915\ttotal: 10.4s\tremaining: 1.95s\n",
            "224:\tlearn: 0.9998915\ttotal: 10.4s\tremaining: 1.9s\n",
            "225:\tlearn: 0.9998915\ttotal: 10.5s\tremaining: 1.85s\n",
            "226:\tlearn: 0.9998915\ttotal: 10.5s\tremaining: 1.8s\n",
            "227:\tlearn: 0.9999014\ttotal: 10.6s\tremaining: 1.76s\n",
            "228:\tlearn: 0.9999014\ttotal: 10.6s\tremaining: 1.71s\n",
            "229:\tlearn: 0.9998915\ttotal: 10.6s\tremaining: 1.67s\n",
            "230:\tlearn: 0.9999014\ttotal: 10.7s\tremaining: 1.62s\n",
            "231:\tlearn: 0.9999014\ttotal: 10.7s\tremaining: 1.57s\n",
            "232:\tlearn: 0.9999014\ttotal: 10.8s\tremaining: 1.53s\n",
            "233:\tlearn: 0.9998915\ttotal: 10.8s\tremaining: 1.48s\n",
            "234:\tlearn: 0.9999014\ttotal: 10.9s\tremaining: 1.43s\n",
            "235:\tlearn: 0.9999014\ttotal: 10.9s\tremaining: 1.39s\n",
            "236:\tlearn: 0.9999014\ttotal: 11s\tremaining: 1.34s\n",
            "237:\tlearn: 0.9999112\ttotal: 11s\tremaining: 1.29s\n",
            "238:\tlearn: 0.9999112\ttotal: 11s\tremaining: 1.25s\n",
            "239:\tlearn: 0.9999112\ttotal: 11.1s\tremaining: 1.2s\n",
            "240:\tlearn: 0.9999112\ttotal: 11.2s\tremaining: 1.16s\n",
            "241:\tlearn: 0.9999112\ttotal: 11.2s\tremaining: 1.11s\n",
            "242:\tlearn: 0.9999112\ttotal: 11.3s\tremaining: 1.06s\n",
            "243:\tlearn: 0.9999112\ttotal: 11.3s\tremaining: 1.02s\n",
            "244:\tlearn: 0.9999112\ttotal: 11.3s\tremaining: 970ms\n",
            "245:\tlearn: 0.9999112\ttotal: 11.4s\tremaining: 924ms\n",
            "246:\tlearn: 0.9999112\ttotal: 11.4s\tremaining: 878ms\n",
            "247:\tlearn: 0.9999112\ttotal: 11.5s\tremaining: 832ms\n",
            "248:\tlearn: 0.9999112\ttotal: 11.5s\tremaining: 786ms\n",
            "249:\tlearn: 0.9999112\ttotal: 11.6s\tremaining: 740ms\n",
            "250:\tlearn: 0.9999112\ttotal: 11.6s\tremaining: 693ms\n",
            "251:\tlearn: 0.9999112\ttotal: 11.6s\tremaining: 647ms\n",
            "252:\tlearn: 0.9999112\ttotal: 11.7s\tremaining: 601ms\n",
            "253:\tlearn: 0.9999014\ttotal: 11.7s\tremaining: 555ms\n",
            "254:\tlearn: 0.9999014\ttotal: 11.8s\tremaining: 508ms\n",
            "255:\tlearn: 0.9999112\ttotal: 11.8s\tremaining: 462ms\n",
            "256:\tlearn: 0.9999112\ttotal: 11.9s\tremaining: 416ms\n",
            "257:\tlearn: 0.9999112\ttotal: 11.9s\tremaining: 369ms\n",
            "258:\tlearn: 0.9999112\ttotal: 12s\tremaining: 324ms\n",
            "259:\tlearn: 0.9999112\ttotal: 12s\tremaining: 277ms\n",
            "260:\tlearn: 0.9999112\ttotal: 12.1s\tremaining: 231ms\n",
            "261:\tlearn: 0.9999112\ttotal: 12.1s\tremaining: 185ms\n",
            "262:\tlearn: 0.9999112\ttotal: 12.2s\tremaining: 139ms\n",
            "263:\tlearn: 0.9999112\ttotal: 12.2s\tremaining: 92.5ms\n",
            "264:\tlearn: 0.9999112\ttotal: 12.2s\tremaining: 46.2ms\n",
            "265:\tlearn: 0.9999112\ttotal: 12.3s\tremaining: 0us\n"
          ],
          "name": "stdout"
        },
        {
          "output_type": "execute_result",
          "data": {
            "text/plain": [
              "BayesSearchCV(cv=None, error_score='raise',\n",
              "              estimator=<catboost.core.CatBoostClassifier object at 0x7fbd1447edd8>,\n",
              "              fit_params=None, iid=True, n_iter=2, n_jobs=-1, n_points=1,\n",
              "              optimizer_kwargs={'base_estimator': 'GP'},\n",
              "              pre_dispatch='2*n_jobs', random_state=42, refit=True,\n",
              "              return_train_score=False,\n",
              "              scoring=make_scorer(roc_auc_score, needs_threshold=True),\n",
              "              search_spaces={'depth': Integer(low=1, high=8, prior='uniform', transform='identity'),\n",
              "                             'iterations': Integer(low=10, high=300, prior='uniform', transform='identity'),\n",
              "                             'learning_rate': Real(low=0.01, high=1.0, prior='log-uniform', transform='identity')},\n",
              "              verbose=0)"
            ]
          },
          "metadata": {
            "tags": []
          },
          "execution_count": 64
        }
      ]
    },
    {
      "cell_type": "code",
      "metadata": {
        "colab": {
          "base_uri": "https://localhost:8080/"
        },
        "id": "cE1pAWjnDgvC",
        "outputId": "c4b0c07b-790a-4717-93de-2d614e70ca7d"
      },
      "source": [
        "print(\"Start Predicting\")\n",
        "predictions = opt.best_estimator_.predict(X_test)\n",
        "pred_proba = opt.best_estimator_.predict_proba(X_test)[:, 1]\n",
        "\n",
        "print(\"\\nResulting Metrics\")\n",
        "print(\"Accuracy : %.4g\" % metrics.accuracy_score(y_test, predictions))\n",
        "print(\"AUC : %f\" % metrics.roc_auc_score(y_test, pred_proba))\n",
        "print(\"F1 Score : %f\" % metrics.f1_score(y_test, predictions))"
      ],
      "execution_count": 65,
      "outputs": [
        {
          "output_type": "stream",
          "text": [
            "Start Predicting\n",
            "\n",
            "Resulting Metrics\n",
            "Accuracy : 0.9559\n",
            "AUC : 0.989242\n",
            "F1 Score : 0.714186\n"
          ],
          "name": "stdout"
        }
      ]
    },
    {
      "cell_type": "code",
      "metadata": {
        "id": "ILBPmvDTDp1Z"
      },
      "source": [
        ""
      ],
      "execution_count": null,
      "outputs": []
    },
    {
      "cell_type": "markdown",
      "metadata": {
        "id": "kbNqiio6DAR-"
      },
      "source": [
        "## TabNet"
      ]
    },
    {
      "cell_type": "code",
      "metadata": {
        "colab": {
          "base_uri": "https://localhost:8080/"
        },
        "id": "yIiiOAkWDLaI",
        "outputId": "2ecfb344-83cf-4a29-ed89-08a1f2b398b4"
      },
      "source": [
        "!pip install pytorch_tabnet"
      ],
      "execution_count": 2,
      "outputs": [
        {
          "output_type": "stream",
          "text": [
            "Collecting pytorch_tabnet\n",
            "  Downloading https://files.pythonhosted.org/packages/44/dd/e24309700d20dfc75643d231a3093179652d309cefcadc338e1a20ff288e/pytorch_tabnet-3.0.0-py3-none-any.whl\n",
            "Requirement already satisfied: tqdm<5.0,>=4.36 in /usr/local/lib/python3.6/dist-packages (from pytorch_tabnet) (4.41.1)\n",
            "Requirement already satisfied: scikit_learn>0.21 in /usr/local/lib/python3.6/dist-packages (from pytorch_tabnet) (0.22.2.post1)\n",
            "Requirement already satisfied: numpy<2.0,>=1.17 in /usr/local/lib/python3.6/dist-packages (from pytorch_tabnet) (1.19.4)\n",
            "Requirement already satisfied: torch<2.0,>=1.2 in /usr/local/lib/python3.6/dist-packages (from pytorch_tabnet) (1.7.0+cu101)\n",
            "Requirement already satisfied: scipy>1.4 in /usr/local/lib/python3.6/dist-packages (from pytorch_tabnet) (1.4.1)\n",
            "Requirement already satisfied: joblib>=0.11 in /usr/local/lib/python3.6/dist-packages (from scikit_learn>0.21->pytorch_tabnet) (1.0.0)\n",
            "Requirement already satisfied: dataclasses in /usr/local/lib/python3.6/dist-packages (from torch<2.0,>=1.2->pytorch_tabnet) (0.8)\n",
            "Requirement already satisfied: future in /usr/local/lib/python3.6/dist-packages (from torch<2.0,>=1.2->pytorch_tabnet) (0.16.0)\n",
            "Requirement already satisfied: typing-extensions in /usr/local/lib/python3.6/dist-packages (from torch<2.0,>=1.2->pytorch_tabnet) (3.7.4.3)\n",
            "Installing collected packages: pytorch-tabnet\n",
            "Successfully installed pytorch-tabnet-3.0.0\n"
          ],
          "name": "stdout"
        }
      ]
    },
    {
      "cell_type": "code",
      "metadata": {
        "colab": {
          "base_uri": "https://localhost:8080/",
          "height": 596
        },
        "id": "9mdtUD2dDBqE",
        "outputId": "8e123e60-6c22-40a3-e173-ae61c488dd70"
      },
      "source": [
        "from pytorch_tabnet.tab_model import TabNetClassifier\n",
        "\n",
        "classifier = TabNetClassifier()\n",
        "classifier.fit(X_train=X_train, y_train=y_train)\n",
        "\n",
        "#predictions = classifier.predict_proba(X_test)[:,1]"
      ],
      "execution_count": 68,
      "outputs": [
        {
          "output_type": "stream",
          "text": [
            "Device used : cpu\n",
            "No early stopping will be performed, last training weights will be used.\n"
          ],
          "name": "stdout"
        },
        {
          "output_type": "error",
          "ename": "KeyError",
          "evalue": "ignored",
          "traceback": [
            "\u001b[0;31m---------------------------------------------------------------------------\u001b[0m",
            "\u001b[0;31mKeyError\u001b[0m                                  Traceback (most recent call last)",
            "\u001b[0;32m/usr/local/lib/python3.6/dist-packages/pandas/core/indexes/base.py\u001b[0m in \u001b[0;36mget_loc\u001b[0;34m(self, key, method, tolerance)\u001b[0m\n\u001b[1;32m   2897\u001b[0m             \u001b[0;32mtry\u001b[0m\u001b[0;34m:\u001b[0m\u001b[0;34m\u001b[0m\u001b[0;34m\u001b[0m\u001b[0m\n\u001b[0;32m-> 2898\u001b[0;31m                 \u001b[0;32mreturn\u001b[0m \u001b[0mself\u001b[0m\u001b[0;34m.\u001b[0m\u001b[0m_engine\u001b[0m\u001b[0;34m.\u001b[0m\u001b[0mget_loc\u001b[0m\u001b[0;34m(\u001b[0m\u001b[0mcasted_key\u001b[0m\u001b[0;34m)\u001b[0m\u001b[0;34m\u001b[0m\u001b[0;34m\u001b[0m\u001b[0m\n\u001b[0m\u001b[1;32m   2899\u001b[0m             \u001b[0;32mexcept\u001b[0m \u001b[0mKeyError\u001b[0m \u001b[0;32mas\u001b[0m \u001b[0merr\u001b[0m\u001b[0;34m:\u001b[0m\u001b[0;34m\u001b[0m\u001b[0;34m\u001b[0m\u001b[0m\n",
            "\u001b[0;32mpandas/_libs/index.pyx\u001b[0m in \u001b[0;36mpandas._libs.index.IndexEngine.get_loc\u001b[0;34m()\u001b[0m\n",
            "\u001b[0;32mpandas/_libs/index.pyx\u001b[0m in \u001b[0;36mpandas._libs.index.IndexEngine.get_loc\u001b[0;34m()\u001b[0m\n",
            "\u001b[0;32mpandas/_libs/hashtable_class_helper.pxi\u001b[0m in \u001b[0;36mpandas._libs.hashtable.PyObjectHashTable.get_item\u001b[0;34m()\u001b[0m\n",
            "\u001b[0;32mpandas/_libs/hashtable_class_helper.pxi\u001b[0m in \u001b[0;36mpandas._libs.hashtable.PyObjectHashTable.get_item\u001b[0;34m()\u001b[0m\n",
            "\u001b[0;31mKeyError\u001b[0m: 94288",
            "\nThe above exception was the direct cause of the following exception:\n",
            "\u001b[0;31mKeyError\u001b[0m                                  Traceback (most recent call last)",
            "\u001b[0;32m<ipython-input-68-5d60181e75ba>\u001b[0m in \u001b[0;36m<module>\u001b[0;34m()\u001b[0m\n\u001b[1;32m      2\u001b[0m \u001b[0;34m\u001b[0m\u001b[0m\n\u001b[1;32m      3\u001b[0m \u001b[0mclassifier\u001b[0m \u001b[0;34m=\u001b[0m \u001b[0mTabNetClassifier\u001b[0m\u001b[0;34m(\u001b[0m\u001b[0;34m)\u001b[0m\u001b[0;34m\u001b[0m\u001b[0;34m\u001b[0m\u001b[0m\n\u001b[0;32m----> 4\u001b[0;31m \u001b[0mclassifier\u001b[0m\u001b[0;34m.\u001b[0m\u001b[0mfit\u001b[0m\u001b[0;34m(\u001b[0m\u001b[0mX_train\u001b[0m\u001b[0;34m=\u001b[0m\u001b[0mX_train\u001b[0m\u001b[0;34m,\u001b[0m \u001b[0my_train\u001b[0m\u001b[0;34m=\u001b[0m\u001b[0my_train\u001b[0m\u001b[0;34m)\u001b[0m\u001b[0;34m\u001b[0m\u001b[0;34m\u001b[0m\u001b[0m\n\u001b[0m\u001b[1;32m      5\u001b[0m \u001b[0;34m\u001b[0m\u001b[0m\n\u001b[1;32m      6\u001b[0m \u001b[0;31m#predictions = classifier.predict_proba(X_test)[:,1]\u001b[0m\u001b[0;34m\u001b[0m\u001b[0;34m\u001b[0m\u001b[0;34m\u001b[0m\u001b[0m\n",
            "\u001b[0;32m/usr/local/lib/python3.6/dist-packages/pytorch_tabnet/abstract_model.py\u001b[0m in \u001b[0;36mfit\u001b[0;34m(self, X_train, y_train, eval_set, eval_name, eval_metric, loss_fn, weights, max_epochs, patience, batch_size, virtual_batch_size, num_workers, drop_last, callbacks, pin_memory, from_unsupervised)\u001b[0m\n\u001b[1;32m    220\u001b[0m             \u001b[0mself\u001b[0m\u001b[0;34m.\u001b[0m\u001b[0m_callback_container\u001b[0m\u001b[0;34m.\u001b[0m\u001b[0mon_epoch_begin\u001b[0m\u001b[0;34m(\u001b[0m\u001b[0mepoch_idx\u001b[0m\u001b[0;34m)\u001b[0m\u001b[0;34m\u001b[0m\u001b[0;34m\u001b[0m\u001b[0m\n\u001b[1;32m    221\u001b[0m \u001b[0;34m\u001b[0m\u001b[0m\n\u001b[0;32m--> 222\u001b[0;31m             \u001b[0mself\u001b[0m\u001b[0;34m.\u001b[0m\u001b[0m_train_epoch\u001b[0m\u001b[0;34m(\u001b[0m\u001b[0mtrain_dataloader\u001b[0m\u001b[0;34m)\u001b[0m\u001b[0;34m\u001b[0m\u001b[0;34m\u001b[0m\u001b[0m\n\u001b[0m\u001b[1;32m    223\u001b[0m \u001b[0;34m\u001b[0m\u001b[0m\n\u001b[1;32m    224\u001b[0m             \u001b[0;31m# Apply predict epoch to all eval sets\u001b[0m\u001b[0;34m\u001b[0m\u001b[0;34m\u001b[0m\u001b[0;34m\u001b[0m\u001b[0m\n",
            "\u001b[0;32m/usr/local/lib/python3.6/dist-packages/pytorch_tabnet/abstract_model.py\u001b[0m in \u001b[0;36m_train_epoch\u001b[0;34m(self, train_loader)\u001b[0m\n\u001b[1;32m    416\u001b[0m         \u001b[0mself\u001b[0m\u001b[0;34m.\u001b[0m\u001b[0mnetwork\u001b[0m\u001b[0;34m.\u001b[0m\u001b[0mtrain\u001b[0m\u001b[0;34m(\u001b[0m\u001b[0;34m)\u001b[0m\u001b[0;34m\u001b[0m\u001b[0;34m\u001b[0m\u001b[0m\n\u001b[1;32m    417\u001b[0m \u001b[0;34m\u001b[0m\u001b[0m\n\u001b[0;32m--> 418\u001b[0;31m         \u001b[0;32mfor\u001b[0m \u001b[0mbatch_idx\u001b[0m\u001b[0;34m,\u001b[0m \u001b[0;34m(\u001b[0m\u001b[0mX\u001b[0m\u001b[0;34m,\u001b[0m \u001b[0my\u001b[0m\u001b[0;34m)\u001b[0m \u001b[0;32min\u001b[0m \u001b[0menumerate\u001b[0m\u001b[0;34m(\u001b[0m\u001b[0mtrain_loader\u001b[0m\u001b[0;34m)\u001b[0m\u001b[0;34m:\u001b[0m\u001b[0;34m\u001b[0m\u001b[0;34m\u001b[0m\u001b[0m\n\u001b[0m\u001b[1;32m    419\u001b[0m             \u001b[0mself\u001b[0m\u001b[0;34m.\u001b[0m\u001b[0m_callback_container\u001b[0m\u001b[0;34m.\u001b[0m\u001b[0mon_batch_begin\u001b[0m\u001b[0;34m(\u001b[0m\u001b[0mbatch_idx\u001b[0m\u001b[0;34m)\u001b[0m\u001b[0;34m\u001b[0m\u001b[0;34m\u001b[0m\u001b[0m\n\u001b[1;32m    420\u001b[0m \u001b[0;34m\u001b[0m\u001b[0m\n",
            "\u001b[0;32m/usr/local/lib/python3.6/dist-packages/torch/utils/data/dataloader.py\u001b[0m in \u001b[0;36m__next__\u001b[0;34m(self)\u001b[0m\n\u001b[1;32m    433\u001b[0m         \u001b[0;32mif\u001b[0m \u001b[0mself\u001b[0m\u001b[0;34m.\u001b[0m\u001b[0m_sampler_iter\u001b[0m \u001b[0;32mis\u001b[0m \u001b[0;32mNone\u001b[0m\u001b[0;34m:\u001b[0m\u001b[0;34m\u001b[0m\u001b[0;34m\u001b[0m\u001b[0m\n\u001b[1;32m    434\u001b[0m             \u001b[0mself\u001b[0m\u001b[0;34m.\u001b[0m\u001b[0m_reset\u001b[0m\u001b[0;34m(\u001b[0m\u001b[0;34m)\u001b[0m\u001b[0;34m\u001b[0m\u001b[0;34m\u001b[0m\u001b[0m\n\u001b[0;32m--> 435\u001b[0;31m         \u001b[0mdata\u001b[0m \u001b[0;34m=\u001b[0m \u001b[0mself\u001b[0m\u001b[0;34m.\u001b[0m\u001b[0m_next_data\u001b[0m\u001b[0;34m(\u001b[0m\u001b[0;34m)\u001b[0m\u001b[0;34m\u001b[0m\u001b[0;34m\u001b[0m\u001b[0m\n\u001b[0m\u001b[1;32m    436\u001b[0m         \u001b[0mself\u001b[0m\u001b[0;34m.\u001b[0m\u001b[0m_num_yielded\u001b[0m \u001b[0;34m+=\u001b[0m \u001b[0;36m1\u001b[0m\u001b[0;34m\u001b[0m\u001b[0;34m\u001b[0m\u001b[0m\n\u001b[1;32m    437\u001b[0m         \u001b[0;32mif\u001b[0m \u001b[0mself\u001b[0m\u001b[0;34m.\u001b[0m\u001b[0m_dataset_kind\u001b[0m \u001b[0;34m==\u001b[0m \u001b[0m_DatasetKind\u001b[0m\u001b[0;34m.\u001b[0m\u001b[0mIterable\u001b[0m \u001b[0;32mand\u001b[0m\u001b[0;31m \u001b[0m\u001b[0;31m\\\u001b[0m\u001b[0;34m\u001b[0m\u001b[0;34m\u001b[0m\u001b[0m\n",
            "\u001b[0;32m/usr/local/lib/python3.6/dist-packages/torch/utils/data/dataloader.py\u001b[0m in \u001b[0;36m_next_data\u001b[0;34m(self)\u001b[0m\n\u001b[1;32m    473\u001b[0m     \u001b[0;32mdef\u001b[0m \u001b[0m_next_data\u001b[0m\u001b[0;34m(\u001b[0m\u001b[0mself\u001b[0m\u001b[0;34m)\u001b[0m\u001b[0;34m:\u001b[0m\u001b[0;34m\u001b[0m\u001b[0;34m\u001b[0m\u001b[0m\n\u001b[1;32m    474\u001b[0m         \u001b[0mindex\u001b[0m \u001b[0;34m=\u001b[0m \u001b[0mself\u001b[0m\u001b[0;34m.\u001b[0m\u001b[0m_next_index\u001b[0m\u001b[0;34m(\u001b[0m\u001b[0;34m)\u001b[0m  \u001b[0;31m# may raise StopIteration\u001b[0m\u001b[0;34m\u001b[0m\u001b[0;34m\u001b[0m\u001b[0m\n\u001b[0;32m--> 475\u001b[0;31m         \u001b[0mdata\u001b[0m \u001b[0;34m=\u001b[0m \u001b[0mself\u001b[0m\u001b[0;34m.\u001b[0m\u001b[0m_dataset_fetcher\u001b[0m\u001b[0;34m.\u001b[0m\u001b[0mfetch\u001b[0m\u001b[0;34m(\u001b[0m\u001b[0mindex\u001b[0m\u001b[0;34m)\u001b[0m  \u001b[0;31m# may raise StopIteration\u001b[0m\u001b[0;34m\u001b[0m\u001b[0;34m\u001b[0m\u001b[0m\n\u001b[0m\u001b[1;32m    476\u001b[0m         \u001b[0;32mif\u001b[0m \u001b[0mself\u001b[0m\u001b[0;34m.\u001b[0m\u001b[0m_pin_memory\u001b[0m\u001b[0;34m:\u001b[0m\u001b[0;34m\u001b[0m\u001b[0;34m\u001b[0m\u001b[0m\n\u001b[1;32m    477\u001b[0m             \u001b[0mdata\u001b[0m \u001b[0;34m=\u001b[0m \u001b[0m_utils\u001b[0m\u001b[0;34m.\u001b[0m\u001b[0mpin_memory\u001b[0m\u001b[0;34m.\u001b[0m\u001b[0mpin_memory\u001b[0m\u001b[0;34m(\u001b[0m\u001b[0mdata\u001b[0m\u001b[0;34m)\u001b[0m\u001b[0;34m\u001b[0m\u001b[0;34m\u001b[0m\u001b[0m\n",
            "\u001b[0;32m/usr/local/lib/python3.6/dist-packages/torch/utils/data/_utils/fetch.py\u001b[0m in \u001b[0;36mfetch\u001b[0;34m(self, possibly_batched_index)\u001b[0m\n\u001b[1;32m     42\u001b[0m     \u001b[0;32mdef\u001b[0m \u001b[0mfetch\u001b[0m\u001b[0;34m(\u001b[0m\u001b[0mself\u001b[0m\u001b[0;34m,\u001b[0m \u001b[0mpossibly_batched_index\u001b[0m\u001b[0;34m)\u001b[0m\u001b[0;34m:\u001b[0m\u001b[0;34m\u001b[0m\u001b[0;34m\u001b[0m\u001b[0m\n\u001b[1;32m     43\u001b[0m         \u001b[0;32mif\u001b[0m \u001b[0mself\u001b[0m\u001b[0;34m.\u001b[0m\u001b[0mauto_collation\u001b[0m\u001b[0;34m:\u001b[0m\u001b[0;34m\u001b[0m\u001b[0;34m\u001b[0m\u001b[0m\n\u001b[0;32m---> 44\u001b[0;31m             \u001b[0mdata\u001b[0m \u001b[0;34m=\u001b[0m \u001b[0;34m[\u001b[0m\u001b[0mself\u001b[0m\u001b[0;34m.\u001b[0m\u001b[0mdataset\u001b[0m\u001b[0;34m[\u001b[0m\u001b[0midx\u001b[0m\u001b[0;34m]\u001b[0m \u001b[0;32mfor\u001b[0m \u001b[0midx\u001b[0m \u001b[0;32min\u001b[0m \u001b[0mpossibly_batched_index\u001b[0m\u001b[0;34m]\u001b[0m\u001b[0;34m\u001b[0m\u001b[0;34m\u001b[0m\u001b[0m\n\u001b[0m\u001b[1;32m     45\u001b[0m         \u001b[0;32melse\u001b[0m\u001b[0;34m:\u001b[0m\u001b[0;34m\u001b[0m\u001b[0;34m\u001b[0m\u001b[0m\n\u001b[1;32m     46\u001b[0m             \u001b[0mdata\u001b[0m \u001b[0;34m=\u001b[0m \u001b[0mself\u001b[0m\u001b[0;34m.\u001b[0m\u001b[0mdataset\u001b[0m\u001b[0;34m[\u001b[0m\u001b[0mpossibly_batched_index\u001b[0m\u001b[0;34m]\u001b[0m\u001b[0;34m\u001b[0m\u001b[0;34m\u001b[0m\u001b[0m\n",
            "\u001b[0;32m/usr/local/lib/python3.6/dist-packages/torch/utils/data/_utils/fetch.py\u001b[0m in \u001b[0;36m<listcomp>\u001b[0;34m(.0)\u001b[0m\n\u001b[1;32m     42\u001b[0m     \u001b[0;32mdef\u001b[0m \u001b[0mfetch\u001b[0m\u001b[0;34m(\u001b[0m\u001b[0mself\u001b[0m\u001b[0;34m,\u001b[0m \u001b[0mpossibly_batched_index\u001b[0m\u001b[0;34m)\u001b[0m\u001b[0;34m:\u001b[0m\u001b[0;34m\u001b[0m\u001b[0;34m\u001b[0m\u001b[0m\n\u001b[1;32m     43\u001b[0m         \u001b[0;32mif\u001b[0m \u001b[0mself\u001b[0m\u001b[0;34m.\u001b[0m\u001b[0mauto_collation\u001b[0m\u001b[0;34m:\u001b[0m\u001b[0;34m\u001b[0m\u001b[0;34m\u001b[0m\u001b[0m\n\u001b[0;32m---> 44\u001b[0;31m             \u001b[0mdata\u001b[0m \u001b[0;34m=\u001b[0m \u001b[0;34m[\u001b[0m\u001b[0mself\u001b[0m\u001b[0;34m.\u001b[0m\u001b[0mdataset\u001b[0m\u001b[0;34m[\u001b[0m\u001b[0midx\u001b[0m\u001b[0;34m]\u001b[0m \u001b[0;32mfor\u001b[0m \u001b[0midx\u001b[0m \u001b[0;32min\u001b[0m \u001b[0mpossibly_batched_index\u001b[0m\u001b[0;34m]\u001b[0m\u001b[0;34m\u001b[0m\u001b[0;34m\u001b[0m\u001b[0m\n\u001b[0m\u001b[1;32m     45\u001b[0m         \u001b[0;32melse\u001b[0m\u001b[0;34m:\u001b[0m\u001b[0;34m\u001b[0m\u001b[0;34m\u001b[0m\u001b[0m\n\u001b[1;32m     46\u001b[0m             \u001b[0mdata\u001b[0m \u001b[0;34m=\u001b[0m \u001b[0mself\u001b[0m\u001b[0;34m.\u001b[0m\u001b[0mdataset\u001b[0m\u001b[0;34m[\u001b[0m\u001b[0mpossibly_batched_index\u001b[0m\u001b[0;34m]\u001b[0m\u001b[0;34m\u001b[0m\u001b[0;34m\u001b[0m\u001b[0m\n",
            "\u001b[0;32m/usr/local/lib/python3.6/dist-packages/pytorch_tabnet/utils.py\u001b[0m in \u001b[0;36m__getitem__\u001b[0;34m(self, index)\u001b[0m\n\u001b[1;32m     27\u001b[0m \u001b[0;34m\u001b[0m\u001b[0m\n\u001b[1;32m     28\u001b[0m     \u001b[0;32mdef\u001b[0m \u001b[0m__getitem__\u001b[0m\u001b[0;34m(\u001b[0m\u001b[0mself\u001b[0m\u001b[0;34m,\u001b[0m \u001b[0mindex\u001b[0m\u001b[0;34m)\u001b[0m\u001b[0;34m:\u001b[0m\u001b[0;34m\u001b[0m\u001b[0;34m\u001b[0m\u001b[0m\n\u001b[0;32m---> 29\u001b[0;31m         \u001b[0mx\u001b[0m\u001b[0;34m,\u001b[0m \u001b[0my\u001b[0m \u001b[0;34m=\u001b[0m \u001b[0mself\u001b[0m\u001b[0;34m.\u001b[0m\u001b[0mx\u001b[0m\u001b[0;34m[\u001b[0m\u001b[0mindex\u001b[0m\u001b[0;34m]\u001b[0m\u001b[0;34m,\u001b[0m \u001b[0mself\u001b[0m\u001b[0;34m.\u001b[0m\u001b[0my\u001b[0m\u001b[0;34m[\u001b[0m\u001b[0mindex\u001b[0m\u001b[0;34m]\u001b[0m\u001b[0;34m\u001b[0m\u001b[0;34m\u001b[0m\u001b[0m\n\u001b[0m\u001b[1;32m     30\u001b[0m         \u001b[0;32mreturn\u001b[0m \u001b[0mx\u001b[0m\u001b[0;34m,\u001b[0m \u001b[0my\u001b[0m\u001b[0;34m\u001b[0m\u001b[0;34m\u001b[0m\u001b[0m\n\u001b[1;32m     31\u001b[0m \u001b[0;34m\u001b[0m\u001b[0m\n",
            "\u001b[0;32m/usr/local/lib/python3.6/dist-packages/pandas/core/frame.py\u001b[0m in \u001b[0;36m__getitem__\u001b[0;34m(self, key)\u001b[0m\n\u001b[1;32m   2904\u001b[0m             \u001b[0;32mif\u001b[0m \u001b[0mself\u001b[0m\u001b[0;34m.\u001b[0m\u001b[0mcolumns\u001b[0m\u001b[0;34m.\u001b[0m\u001b[0mnlevels\u001b[0m \u001b[0;34m>\u001b[0m \u001b[0;36m1\u001b[0m\u001b[0;34m:\u001b[0m\u001b[0;34m\u001b[0m\u001b[0;34m\u001b[0m\u001b[0m\n\u001b[1;32m   2905\u001b[0m                 \u001b[0;32mreturn\u001b[0m \u001b[0mself\u001b[0m\u001b[0;34m.\u001b[0m\u001b[0m_getitem_multilevel\u001b[0m\u001b[0;34m(\u001b[0m\u001b[0mkey\u001b[0m\u001b[0;34m)\u001b[0m\u001b[0;34m\u001b[0m\u001b[0;34m\u001b[0m\u001b[0m\n\u001b[0;32m-> 2906\u001b[0;31m             \u001b[0mindexer\u001b[0m \u001b[0;34m=\u001b[0m \u001b[0mself\u001b[0m\u001b[0;34m.\u001b[0m\u001b[0mcolumns\u001b[0m\u001b[0;34m.\u001b[0m\u001b[0mget_loc\u001b[0m\u001b[0;34m(\u001b[0m\u001b[0mkey\u001b[0m\u001b[0;34m)\u001b[0m\u001b[0;34m\u001b[0m\u001b[0;34m\u001b[0m\u001b[0m\n\u001b[0m\u001b[1;32m   2907\u001b[0m             \u001b[0;32mif\u001b[0m \u001b[0mis_integer\u001b[0m\u001b[0;34m(\u001b[0m\u001b[0mindexer\u001b[0m\u001b[0;34m)\u001b[0m\u001b[0;34m:\u001b[0m\u001b[0;34m\u001b[0m\u001b[0;34m\u001b[0m\u001b[0m\n\u001b[1;32m   2908\u001b[0m                 \u001b[0mindexer\u001b[0m \u001b[0;34m=\u001b[0m \u001b[0;34m[\u001b[0m\u001b[0mindexer\u001b[0m\u001b[0;34m]\u001b[0m\u001b[0;34m\u001b[0m\u001b[0;34m\u001b[0m\u001b[0m\n",
            "\u001b[0;32m/usr/local/lib/python3.6/dist-packages/pandas/core/indexes/base.py\u001b[0m in \u001b[0;36mget_loc\u001b[0;34m(self, key, method, tolerance)\u001b[0m\n\u001b[1;32m   2898\u001b[0m                 \u001b[0;32mreturn\u001b[0m \u001b[0mself\u001b[0m\u001b[0;34m.\u001b[0m\u001b[0m_engine\u001b[0m\u001b[0;34m.\u001b[0m\u001b[0mget_loc\u001b[0m\u001b[0;34m(\u001b[0m\u001b[0mcasted_key\u001b[0m\u001b[0;34m)\u001b[0m\u001b[0;34m\u001b[0m\u001b[0;34m\u001b[0m\u001b[0m\n\u001b[1;32m   2899\u001b[0m             \u001b[0;32mexcept\u001b[0m \u001b[0mKeyError\u001b[0m \u001b[0;32mas\u001b[0m \u001b[0merr\u001b[0m\u001b[0;34m:\u001b[0m\u001b[0;34m\u001b[0m\u001b[0;34m\u001b[0m\u001b[0m\n\u001b[0;32m-> 2900\u001b[0;31m                 \u001b[0;32mraise\u001b[0m \u001b[0mKeyError\u001b[0m\u001b[0;34m(\u001b[0m\u001b[0mkey\u001b[0m\u001b[0;34m)\u001b[0m \u001b[0;32mfrom\u001b[0m \u001b[0merr\u001b[0m\u001b[0;34m\u001b[0m\u001b[0;34m\u001b[0m\u001b[0m\n\u001b[0m\u001b[1;32m   2901\u001b[0m \u001b[0;34m\u001b[0m\u001b[0m\n\u001b[1;32m   2902\u001b[0m         \u001b[0;32mif\u001b[0m \u001b[0mtolerance\u001b[0m \u001b[0;32mis\u001b[0m \u001b[0;32mnot\u001b[0m \u001b[0;32mNone\u001b[0m\u001b[0;34m:\u001b[0m\u001b[0;34m\u001b[0m\u001b[0;34m\u001b[0m\u001b[0m\n",
            "\u001b[0;31mKeyError\u001b[0m: 94288"
          ]
        }
      ]
    },
    {
      "cell_type": "code",
      "metadata": {
        "id": "xWCl7CwwDD3o"
      },
      "source": [
        ""
      ],
      "execution_count": null,
      "outputs": []
    }
  ]
}